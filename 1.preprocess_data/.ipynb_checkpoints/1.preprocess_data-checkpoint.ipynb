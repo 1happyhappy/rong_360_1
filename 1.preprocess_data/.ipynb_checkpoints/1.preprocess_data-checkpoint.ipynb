{
 "cells": [
  {
   "cell_type": "code",
   "execution_count": 1,
   "metadata": {},
   "outputs": [],
   "source": [
    "import pandas as pd\n",
    "import datetime as dt\n",
    "import numpy as np\n",
    "import os\n",
    "import gc"
   ]
  },
  {
   "cell_type": "code",
   "execution_count": null,
   "metadata": {},
   "outputs": [],
   "source": [
    "#显示所有列\n",
    "pd.set_option('display.max_columns', None)\n",
    "#显示所有行\n",
    "pd.set_option('display.max_rows', None)"
   ]
  },
  {
   "cell_type": "code",
   "execution_count": null,
   "metadata": {},
   "outputs": [],
   "source": [
    "# 转换类型\n",
    "# def trans_dtype(data):\n",
    "#     '''\n",
    "#     input:\n",
    "#     data(DataFrame)\n",
    "#     retrun;\n",
    "#     new_data(DataFrame)\n",
    "#     '''\n",
    "#     type_dict = data.dtypes.to_dict()\n",
    "#     for key,value in type_dict.items():\n",
    "#         if value == np.int64:\n",
    "#             type_dict[key] = np.int32\n",
    "#         if value == np.float64:\n",
    "#             type_dict[key] = np.float32\n",
    "#     new_data = data.astype(type_dict)\n",
    "#     return new_data"
   ]
  },
  {
   "cell_type": "code",
   "execution_count": null,
   "metadata": {},
   "outputs": [],
   "source": [
    "if not os.path.exists('../preprocess_data'):\n",
    "    os.mkdir('../preprocess_data')"
   ]
  },
  {
   "cell_type": "markdown",
   "metadata": {},
   "source": [
    "## 1.load data"
   ]
  },
  {
   "cell_type": "code",
   "execution_count": 2,
   "metadata": {},
   "outputs": [],
   "source": [
    "def load_data():\n",
    "    '''\n",
    "    描述：\n",
    "        1.读入5个训练数据片段并完成拼接，得到共计10万条样本。\n",
    "        根据label的有无，划分数据，并输出train_y_33465.csv、train_x_33465.csv、unlabel_y_66535.csv、unlabel_x_66535.csv\n",
    "        2.读入valid（分隔符为'\\t'），输出valid.csv（分隔符为','）\n",
    "    '''\n",
    "    input_path = '../data/open_data_train_valid/'\n",
    "    output_path = '../preprocess_data/'\n",
    "    \n",
    "    columns = ['id','loan_dt','label','tag']+['f%d'%(i+1)for i in range(6745)]\n",
    "    train_path_1 = input_path + 'train/train_1.txt'\n",
    "    train_path_2 = input_path + 'train/train_2.txt'\n",
    "    train_path_3 = input_path + 'train/train_3.txt'\n",
    "    train_path_4 = input_path + 'train/train_4.txt'\n",
    "    train_path_5 = input_path + 'train/train_5.txt'\n",
    "    \n",
    "    valid_path = input_path + 'valid.txt'\n",
    "    test_path = '../data/open_data_test/test_id.txt'\n",
    "    \n",
    "    train_1 = pd.read_csv(train_path_1, delimiter='\\t')\n",
    "    train_2 = pd.read_csv(train_path_2, delimiter='\\t' , header = None)\n",
    "    train_3 = pd.read_csv(train_path_3, delimiter='\\t' , header = None)\n",
    "    train_4 = pd.read_csv(train_path_4, delimiter='\\t' , header = None)\n",
    "    train_5 = pd.read_csv(train_path_5, delimiter='\\t' , header = None)\n",
    "    train_2.columns = columns\n",
    "    train_3.columns = columns\n",
    "    train_4.columns = columns\n",
    "    train_5.columns = columns\n",
    "    print('读取完train data！')\n",
    "    \n",
    "    train = pd.concat([train_1,train_2,train_3,train_4,train_5],axis = 0,ignore_index=True)\n",
    "    print('train data拼接完成！')\n",
    "    \n",
    "    valid = pd.read_csv(valid_path, delimiter='\\t')\n",
    "    print('读取完 valid data!')\n",
    "    \n",
    "    test = pd.read_csv(test_path, delimiter='\\t')\n",
    "    print('读取完 test data!')\n",
    "    \n",
    "    unlabel = train.loc[train.label.isnull()]\n",
    "    train = train.loc[train.label.isnull()==False]\n",
    "    \n",
    "    train_y = train[['label']]\n",
    "    train_x = train.drop(columns=['label'])\n",
    "    unlabel_y = unlabel[['label']]\n",
    "    unlabel_x = unlabel.drop(columns=['label'])\n",
    "    \n",
    "    \n",
    "    train_y.to_csv(output_path + 'train_y_33465.csv', index = False)\n",
    "    train_x.to_csv(output_path + 'train_x_33465.csv', index = False)\n",
    "    print('输出train')\n",
    "\n",
    "    unlabel_y.to_csv(output_path + 'unlabel_y_66535.csv', index = False)\n",
    "    unlabel_x.to_csv(output_path + 'unlabel_x_66535.csv', index = False)\n",
    "    print('输出unlabel')\n",
    "    \n",
    "    valid.to_csv(output_path + 'valid.csv', index = False)\n",
    "    print('输出valid')\n",
    "    \n",
    "    test.to_csv(output_path + 'test.csv', index = False)\n",
    "    print('输出test')\n",
    "\n",
    "    return train_x, unlabel_x, valid, test\n",
    "    "
   ]
  },
  {
   "cell_type": "code",
   "execution_count": 9,
   "metadata": {},
   "outputs": [
    {
     "name": "stdout",
     "output_type": "stream",
     "text": [
      "CPU times: user 0 ns, sys: 0 ns, total: 0 ns\n",
      "Wall time: 5.01 µs\n"
     ]
    }
   ],
   "source": [
    "%%time\n",
    "train_x, unlabel_x, valid, test = load_data()"
   ]
  },
  {
   "cell_type": "markdown",
   "metadata": {},
   "source": [
    "## 2.提取 month 和 day"
   ]
  },
  {
   "cell_type": "code",
   "execution_count": 13,
   "metadata": {},
   "outputs": [],
   "source": [
    "import os\n",
    "def gen_mon_day_hour(data, file_name):\n",
    "    '''\n",
    "    描述：\n",
    "        把'loan_dt'转化为loan_month、loan_day\n",
    "    参数：\n",
    "        input:\n",
    "            data(DataFrame): 有列loan_dt\n",
    "            file_name(str)\n",
    "        output:\n",
    "            data(DataFrame)： 删除列loan_dt, 添加列loan_month和loan_day\n",
    "    '''\n",
    "    data['loan_dt'] = pd.to_datetime(data.loan_dt)\n",
    "    data_date = data[['id']].copy()\n",
    "    data_date['loan_month'] = data.loan_dt.apply(lambda x: x.month)\n",
    "    data_date['loan_day'] = data.loan_dt.apply(lambda x: x.day)\n",
    "    data_date.drop(columns=['loan_dt'], inplace =True)\n",
    "    \n",
    "\n",
    "    data_date.to_csv(os.path.join('../preprocess_data','%s_date.csv'%file_name), index=False)"
   ]
  },
  {
   "cell_type": "code",
   "execution_count": 14,
   "metadata": {},
   "outputs": [
    {
     "name": "stdout",
     "output_type": "stream",
     "text": [
      "CPU times: user 1.68 s, sys: 16 ms, total: 1.7 s\n",
      "Wall time: 1.83 s\n"
     ]
    }
   ],
   "source": [
    "%%time\n",
    "gen_mon_day_hour(train_x, 'train_x')\n",
    "gen_mon_day_hour(unlabel_x, 'unlabel_x')\n",
    "gen_mon_day_hour(valid, 'valid')"
   ]
  },
  {
   "cell_type": "markdown",
   "metadata": {},
   "source": [
    "## 2.(abandoned)统计n_null和discret_null"
   ]
  },
  {
   "cell_type": "code",
   "execution_count": 12,
   "metadata": {},
   "outputs": [],
   "source": [
    "def gen_null(train_x, unlabel_x, valid):\n",
    "    '''\n",
    "    描述：\n",
    "        1.统计每一样本的缺失值数量n_null\n",
    "        2.将n_null等量划分为10段，得到特征discret_null\n",
    "    参数:\n",
    "        input:\n",
    "            train_x(DataFrame),unlabel_x(DataFrame),valid(DataFrame)\n",
    "        output:\n",
    "            对应的csv\n",
    "    \n",
    "    '''\n",
    "    # n_null\n",
    "    train_x_null = train_x[['id']].copy() \n",
    "    train_x = train_x.drop(columns =['id', 'tag']) \n",
    "    train_x_null['n_null'] = (train_x.isnull()).sum(axis=1)\n",
    "    \n",
    "    unlabel_x_null = unlabel_x[['id']].copy() \n",
    "    unlabel_x = unlabel_x.drop(columns =['id','tag']) \n",
    "    unlabel_x_null['n_null'] = (unlabel_x.isnull()).sum(axis=1)\n",
    "    \n",
    "    valid_null = valid[['id']].copy()\n",
    "    valid = valid.drop(columns =['id'])\n",
    "    valid_null['n_null'] = (valid.isnull()).sum(axis=1)\n",
    "    \n",
    "    # 展示n_null的分布\n",
    "    import matplotlib.pyplot as plt\n",
    "    %matplotlib inline\n",
    "    plt.plot(train_x_null['n_null'].sort_values(ascending=True).values)\n",
    "    plt.plot(unlabel_x_null['n_null'].sort_values(ascending=True).values)\n",
    "    plt.plot(valid_null['n_null'].sort_values(ascending=True).values)\n",
    "    \n",
    "    plt.legend(['train_x','unlabel_x','valid'])\n",
    "\n",
    "    # 警示：三个数据的切分标准没有统一，这里是有问题的！'discret_null'不能被使用！\n",
    "    # 通过n_null的分布我们可以看到，三条曲线拐点是不一致的。\n",
    "    # 关于更加详细的n_null探索,见 2.explore_data板块\n",
    "\n",
    "    # pandas.qcut按分位数进行切分，所以是等量的。\n",
    "#     train_x['discret_null'] = pd.qcut(train_x_null['n_null'],10,labels=False,duplicates='drop')\n",
    "#     unlabel_x['discret_null'] = pd.qcut(unlabel_x_null['n_null'],10,labels=False,duplicates='drop')\n",
    "#     valid['discret_null'] = pd.qcut(valid_null['n_null'], 10,labels=False,duplicates='drop')\n",
    "    output_path = '../preprocess_data/'\n",
    "    train_x_null.to_csv(output_path+'train_x_null.csv', index = False)\n",
    "    unlabel_x_null.to_csv(output_path+'unlabel_x_null.csv', index = False)\n",
    "    valid_null.to_csv(output_path+'valid_null.csv', index = False)"
   ]
  },
  {
   "cell_type": "code",
   "execution_count": 13,
   "metadata": {},
   "outputs": [
    {
     "name": "stdout",
     "output_type": "stream",
     "text": [
      "CPU times: user 57.1 s, sys: 1.58 s, total: 58.6 s\n",
      "Wall time: 58.7 s\n"
     ]
    },
    {
     "data": {
      "image/png": "[encoded data removed]",
      "text/plain": [
       "<Figure size 432x288 with 1 Axes>"
      ]
     },
     "metadata": {},
     "output_type": "display_data"
    }
   ],
   "source": [
    "%%time\n",
    "gen_null(train_x, unlabel_x,valid)"
   ]
  },
  {
   "cell_type": "markdown",
   "metadata": {},
   "source": [
    "## 3.分离train和valid中的int、float数据类型"
   ]
  },
  {
   "cell_type": "code",
   "execution_count": 93,
   "metadata": {},
   "outputs": [],
   "source": [
    "def split_int_float(train_x, unlabel_x, valid):\n",
    "    '''\n",
    "    描述：\n",
    "        1.分离train和valid中的int、float数据类型，这个操作的意义不大。因为并不是说int类型就一定代表类型变量，float变量也可能是离散的。\n",
    "        2.对int类型变量的探索，见 '/2.explore_data/1.explore_int'\n",
    "    参数:\n",
    "        input:\n",
    "            train_x(DataFrame),unlabel_x(DataFrame),valid(DataFrame)\n",
    "        output:\n",
    "            对应的csv\n",
    "    \n",
    "    '''\n",
    "    int_cols = [key for key,val in train_x.dtypes.to_dict().items() if val==np.int64]\n",
    "    float_cols = ['id']+[key for key,val in train_x.dtypes.to_dict().items() if val==np.float64]\n",
    "    vint_cols = [key for key,val in train_x.dtypes.to_dict().items() if val==np.int64 and key!='tag'] # valid中没有'tag'\n",
    "    train_x_int = train_x.loc[:,int_cols]\n",
    "    train_x_float = train_x.loc[:,float_cols]\n",
    "\n",
    "    unlabel_x_int = unlabel_x.loc[:,int_cols]\n",
    "    unlabel_x_float = unlabel_x.loc[:,float_cols]\n",
    "\n",
    "    valid_int = valid.loc[:,vint_cols]\n",
    "    valid_float = valid.loc[:,float_cols]\n",
    "    \n",
    "    train_x_int.to_csv('./preprocess_data/trian_x_int.csv', index = False)\n",
    "    train_x_float.to_csv('./preprocess_data/trian_x_float.csv', index = False)\n",
    "    unlabel_x_int.to_csv('./preprocess_data/unlabel_x_int.csv', index = False)\n",
    "    unlabel_x_float.to_csv('./preprocess_data/unlabel_x_float.csv', index = False)\n",
    "    valid_int.to_csv('./preprocess_data/valid_int.csv', index = False)\n",
    "    valid_float.to_csv('./preprocess_data/valid_float.csv', index = False)\n",
    "    gc.collect()\n",
    "    return train_x_float, unlabel_x_float, valid_float"
   ]
  },
  {
   "cell_type": "code",
   "execution_count": 95,
   "metadata": {},
   "outputs": [
    {
     "name": "stdout",
     "output_type": "stream",
     "text": [
      "CPU times: user 7min 16s, sys: 13.3 s, total: 7min 29s\n",
      "Wall time: 7min 30s\n"
     ]
    }
   ],
   "source": [
    "%%time\n",
    "train_x_float, unlabel_x_float, valid_float = split_int_float(train_x, unlabel_x, valid)"
   ]
  },
  {
   "cell_type": "code",
   "execution_count": null,
   "metadata": {},
   "outputs": [],
   "source": []
  }
 ],
 "metadata": {
  "kernelspec": {
   "display_name": "Python 3",
   "language": "python",
   "name": "python3"
  },
  "language_info": {
   "codemirror_mode": {
    "name": "ipython",
    "version": 3
   },
   "file_extension": ".py",
   "mimetype": "text/x-python",
   "name": "python",
   "nbconvert_exporter": "python",
   "pygments_lexer": "ipython3",
   "version": "3.6.5"
  }
 },
 "nbformat": 4,
 "nbformat_minor": 2
}
