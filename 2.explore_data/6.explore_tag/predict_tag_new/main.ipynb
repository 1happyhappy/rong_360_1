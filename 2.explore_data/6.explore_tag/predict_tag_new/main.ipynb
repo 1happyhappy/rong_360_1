{
 "cells": [
  {
   "cell_type": "code",
   "execution_count": 1,
   "metadata": {},
   "outputs": [],
   "source": [
    "import joblib\n",
    "import pandas as pd\n",
    "from sklearn.model_selection import train_test_split \n",
    "import numpy as np\n",
    "import time\n",
    "import os\n",
    "\n",
    "# 计时器\n",
    "def timer (func):\n",
    "    def wrapper(*args,**kwargs): \n",
    "        start = time.time()\n",
    "        result = func(*args,**kwargs)\n",
    "        end = time.time()\n",
    "        print(func.__name__+'运行时间：',end-start)\n",
    "        return result\n",
    "    return wrapper"
   ]
  },
  {
   "cell_type": "markdown",
   "metadata": {},
   "source": [
    "### 导入全量训练数据"
   ]
  },
  {
   "cell_type": "code",
   "execution_count": 3,
   "metadata": {},
   "outputs": [],
   "source": [
    "@timer\n",
    "def load_data():\n",
    "    train = joblib.load('../semi_super/all_data.lz4')\n",
    "    return train"
   ]
  },
  {
   "cell_type": "code",
   "execution_count": 4,
   "metadata": {},
   "outputs": [
    {
     "name": "stdout",
     "output_type": "stream",
     "text": [
      "load_data运行时间： 46.006404399871826\n"
     ]
    }
   ],
   "source": [
    "train = load_data()"
   ]
  },
  {
   "cell_type": "code",
   "execution_count": 5,
   "metadata": {},
   "outputs": [],
   "source": [
    "y_train_df = train[['tag']].copy()\n",
    "x_train_df = train.drop(columns=['tag'])\n",
    "x_train_df = x_train_df.fillna(-1)\n",
    "y_train_arr = y_train_df.values.ravel()\n",
    "x_train_arr = x_train_df.values"
   ]
  },
  {
   "cell_type": "markdown",
   "metadata": {},
   "source": [
    "### bagging"
   ]
  },
  {
   "cell_type": "code",
   "execution_count": 6,
   "metadata": {},
   "outputs": [],
   "source": [
    "def SelectModel(model_name):\n",
    "    if model_name == 'XGB':\n",
    "        from xgboost import XGBClassifier\n",
    "\n",
    "        model = XGBClassifier(max_depth=6,\n",
    "                              learning_rate =0.04, \n",
    "                              booster='gbtree',\n",
    "                              objective='binary:logistic',\n",
    "                              early_stopping_rounds=100,\n",
    "                              scale_pos_weight=float(len(y_train_arr)-np.sum(y_train_arr))/float(np.sum(y_train_arr)),\n",
    "                              eval_metric='auc',\n",
    "                              gamma=1,\n",
    "                              reg_lambda=1,\n",
    "                              subsample=0.9,\n",
    "                              min_child_weight=1,\n",
    "                              seed=2018,\n",
    "                              silent=False,\n",
    "                              n_jobs=24,\n",
    "                              num_boost_round =500\n",
    "                             )\n",
    "    elif model_name == 'RFC':\n",
    "        from sklearn.ensemble import RandomForestClassifier\n",
    "        model = RandomForestClassifier(n_estimators=3000,\n",
    "                                       n_jobs =36,\n",
    "                                       max_features='sqrt',\n",
    "                                       class_weight='balanced',\n",
    "#                                        verbose =1,\n",
    "                                       random_state=2018)\n",
    "    elif model_name == 'LGB':\n",
    "        from lightgbm import LGBMClassifier\n",
    "        model = LGBMClassifier(boost='gbdt',\n",
    "                    num_leaves=200, \n",
    "                    scale_pos_weight=float(len(y_train_arr)-np.sum(y_train_arr))/float(np.sum(y_train_arr)),\n",
    "                    max_depth=-1,\n",
    "                    learning_rate=.04,\n",
    "                    max_bin=200,\n",
    "                    min_data_in_leaf= 60,\n",
    "                    objective='binary',\n",
    "                    metric='auc',\n",
    "                    num_threads=32,\n",
    "                    slient=False,\n",
    "                    num_boost_round =500)\n",
    "    else:\n",
    "        pass\n",
    "    return model"
   ]
  },
  {
   "cell_type": "code",
   "execution_count": 7,
   "metadata": {},
   "outputs": [
    {
     "name": "stderr",
     "output_type": "stream",
     "text": [
      "/usr/local/anaconda3/lib/python3.6/site-packages/lightgbm/engine.py:102: UserWarning: Found `num_boost_round` in params. Will use it instead of argument\n",
      "  warnings.warn(\"Found `{}` in params. Will use it instead of argument\".format(alias))\n"
     ]
    }
   ],
   "source": [
    "if not os.path.exists('./model'):\n",
    "    os.mkdir('model')\n",
    "model_list = ['XGB','RFC','LGB']\n",
    "for model in model_list:\n",
    "    print(model)\n",
    "    clf = SelectModel(model)\n",
    "    clf.fit(x_train_arr,y_train_arr)\n",
    "    joblib.dump(clf,'./model/{}'.format(model))"
   ]
  },
  {
   "cell_type": "markdown",
   "metadata": {},
   "source": [
    "#### 预测valid的tag"
   ]
  },
  {
   "cell_type": "code",
   "execution_count": 3,
   "metadata": {},
   "outputs": [],
   "source": [
    "# 导入valid数据\n",
    "valid_date = pd.read_csv('../../preprocess_data/valid_date.csv').drop(columns=['id','loan_hour'])\n",
    "valid_raw = joblib.load('../../preprocess_data_new/valid_nodup.lz4').drop(columns=['id','loan_dt'])\n",
    "valid_null = pd.read_csv('../../preprocess_data_new/valid_row_null.csv').drop(columns=['id'])\n",
    "maj_cnt_test = joblib.load('../../preprocess_data_discrete/maj_cnt_test.lz4')\n",
    "\n",
    "valid = pd.concat([valid_date,valid_raw,valid_null,maj_cnt_test],axis=1)\n",
    "valid = valid.fillna(-1)\n",
    "x_test_arr = valid.values"
   ]
  },
  {
   "cell_type": "code",
   "execution_count": 25,
   "metadata": {},
   "outputs": [],
   "source": [
    "def predict_score(save_path,model_list,uid,x_test_arr):\n",
    "    if not os.path.exists(save_path):\n",
    "        os.mkdir(save_path)\n",
    "    # model_list = \n",
    "    for model in model_list:\n",
    "        pred = pd.DataFrame()\n",
    "        pred['id'] = uid\n",
    "        clf = joblib.load('./model/{}'.format(model))\n",
    "        pred['score'] = clf.predict_proba(x_test_arr)[:,1]\n",
    "        pred.to_csv(os.path.join(save_path,'{}.csv'.format(model)),index=False)\n",
    "        "
   ]
  },
  {
   "cell_type": "code",
   "execution_count": null,
   "metadata": {},
   "outputs": [],
   "source": [
    "# 参数\n",
    "valid_save_path = './valid_preds'\n",
    "model_list = ['XGB','RFC','LGB']\n",
    "valid_id = pd.read_csv('../../preprocess_data_new/valid_date.csv',usecols=['id']).values.ravel()\n",
    "\n",
    "predict_score(valid_save_path,model_list,valid_id,x_test_arr)"
   ]
  },
  {
   "cell_type": "code",
   "execution_count": 30,
   "metadata": {},
   "outputs": [],
   "source": [
    "valid_id = pd.read_csv('../../preprocess_data_new/valid_date.csv',usecols=['id']).values.ravel()\n",
    "model_list = ['XGB','RFC','LGB']\n",
    "valid_tag_name = 'valid_tag'\n",
    "valid_pred_dir = './valid_preds'\n",
    "\n",
    "def combine_score_to_tag(pred_dir,model_list,tag_name,uid):\n",
    "    pred_path = os.path.join(pred_dir,'{}.csv'.format(model_list[0]))\n",
    "    score = pd.read_csv(pred_path)['score']\n",
    "    for model in model_list[1:]:\n",
    "        pred_path = os.path.join(pred_dir,'{}.csv'.format(model))\n",
    "        score += pd.read_csv(pred_path).score\n",
    "    score = score/len(model_list)\n",
    "    tmp_score = score.copy()\n",
    "    # 取前30%为0\n",
    "    score[score<np.percentile(tmp_score,30)] = 0\n",
    "    score[score!=0] = 1\n",
    "    tag = pd.DataFrame()\n",
    "    tag['id'] = uid\n",
    "    tag['tag'] = score.values\n",
    "    tag.to_csv('./{}.csv'.format(tag_name),index=False)\n",
    "    return tmp_score\n",
    "valid_score = combine_score_to_tag(valid_pred_dir,model_list,valid_tag_name,valid_id)"
   ]
  },
  {
   "cell_type": "markdown",
   "metadata": {},
   "source": [
    "### predict_tag_new和predict_tag的比较"
   ]
  },
  {
   "cell_type": "code",
   "execution_count": 31,
   "metadata": {},
   "outputs": [
    {
     "data": {
      "text/plain": [
       "<matplotlib.axes._subplots.AxesSubplot at 0x7f2d70753080>"
      ]
     },
     "execution_count": 31,
     "metadata": {},
     "output_type": "execute_result"
    },
    {
     "data": {
      "image/png": "[encoded data removed]",
      "text/plain": [
       "<Figure size 432x288 with 1 Axes>"
      ]
     },
     "metadata": {},
     "output_type": "display_data"
    }
   ],
   "source": [
    "# predict_tag_new\n",
    "import seaborn as sns\n",
    "%matplotlib inline\n",
    "sns.distplot(valid_score)"
   ]
  },
  {
   "cell_type": "code",
   "execution_count": 24,
   "metadata": {},
   "outputs": [],
   "source": [
    "# predict_tag\n",
    "files = os.listdir('../predict_tag/valid_preds/')\n",
    "pred = pd.read_csv('../predict_tag/valid_preds/'+files[0])\n",
    "score = pred.score\n",
    "for f in files[1:]:\n",
    "    if f == '.ipynb_checkpoints':\n",
    "        continue\n",
    "    pred = pd.read_csv('../predict_tag/valid_preds/'+f)\n",
    "    score += pred.score\n",
    "\n",
    "score /= len(files)"
   ]
  },
  {
   "cell_type": "code",
   "execution_count": 25,
   "metadata": {},
   "outputs": [
    {
     "data": {
      "text/plain": [
       "<matplotlib.axes._subplots.AxesSubplot at 0x7f2d8804d3c8>"
      ]
     },
     "execution_count": 25,
     "metadata": {},
     "output_type": "execute_result"
    },
    {
     "data": {
      "image/png": "[encoded data removed]",
      "text/plain": [
       "<Figure size 432x288 with 1 Axes>"
      ]
     },
     "metadata": {},
     "output_type": "display_data"
    }
   ],
   "source": [
    "sns.distplot(score)"
   ]
  },
  {
   "cell_type": "code",
   "execution_count": 21,
   "metadata": {},
   "outputs": [
    {
     "name": "stdout",
     "output_type": "stream",
     "text": [
      "重合率69.325000%\n"
     ]
    }
   ],
   "source": [
    "valid_tag = pd.read_csv('../predict_tag/valid_tag.csv')['tag']\n",
    "valid_tag_new = pd.read_csv('../predict_tag_new/valid_tag.csv')['tag']\n",
    "sim_rate = sum(valid_tag == valid_tag_new)/20000*100\n",
    "print('重合率%f%%'%(sim_rate))"
   ]
  },
  {
   "cell_type": "markdown",
   "metadata": {},
   "source": [
    "#### 预测unlabel的tag score"
   ]
  },
  {
   "cell_type": "code",
   "execution_count": 4,
   "metadata": {},
   "outputs": [],
   "source": [
    "def load_unlabel():\n",
    "    unlabel_df = joblib.load('../semi_super/x_unlabel.lz4')\n",
    "    x_unlabel_df = unlabel_df.drop(columns=['tag'])\n",
    "    x_unlabel_df = x_unlabel_df.fillna(-1)\n",
    "    x_unlabel_arr = x_unlabel_df.values\n",
    "    return x_unlabel_arr\n",
    "\n",
    "x_unlabel_arr = load_unlabel()"
   ]
  },
  {
   "cell_type": "code",
   "execution_count": 21,
   "metadata": {},
   "outputs": [],
   "source": [
    "unlabel_save_path = './unlabel_preds'\n",
    "model_list = ['XGB','RFC','LGB']\n",
    "# skiprows 会造成列名丢失\n",
    "unlabel_id = pd.read_csv('../../preprocess_data_new/train_ax_nodup.csv',usecols=[0],skiprows=33465).values.ravel()\n",
    "\n",
    "predict_score(unlabel_save_path,model_list,unlabel_id,x_unlabel_arr)"
   ]
  },
  {
   "cell_type": "code",
   "execution_count": 29,
   "metadata": {},
   "outputs": [],
   "source": [
    "def combine_score(pred_dir,model_list,unlabel_pred_name,uid):\n",
    "    pred_path = os.path.join(pred_dir,'{}.csv'.format(model_list[0]))\n",
    "    score = pd.read_csv(pred_path)['score']\n",
    "    for model in model_list[1:]:\n",
    "        pred_path = os.path.join(pred_dir,'{}.csv'.format(model))\n",
    "        score += pd.read_csv(pred_path).score\n",
    "        \n",
    "    score = score/len(model_list)\n",
    "    pred = pd.DataFrame()\n",
    "    pred['id'] = uid\n",
    "    pred['score'] = score.values\n",
    "    pred.to_csv('./{}.csv'.format(unlabel_pred_name),index=False)"
   ]
  },
  {
   "cell_type": "code",
   "execution_count": 30,
   "metadata": {},
   "outputs": [],
   "source": [
    "unlabel_pred_name = 'unlabel_tag_score'\n",
    "unlabel_pred_dir = './unlabel_preds'\n",
    "combine_score(unlabel_pred_dir,model_list,unlabel_pred_name,unlabel_id)"
   ]
  },
  {
   "cell_type": "code",
   "execution_count": null,
   "metadata": {},
   "outputs": [],
   "source": []
  }
 ],
 "metadata": {
  "kernelspec": {
   "display_name": "Python 3",
   "language": "python",
   "name": "python3"
  },
  "language_info": {
   "codemirror_mode": {
    "name": "ipython",
    "version": 3
   },
   "file_extension": ".py",
   "mimetype": "text/x-python",
   "name": "python",
   "nbconvert_exporter": "python",
   "pygments_lexer": "ipython3",
   "version": "3.6.5"
  }
 },
 "nbformat": 4,
 "nbformat_minor": 2
}
