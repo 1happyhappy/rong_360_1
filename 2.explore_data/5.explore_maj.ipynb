{
 "cells": [
  {
   "cell_type": "markdown",
   "metadata": {},
   "source": [
    "maj的探索意义不大，因为把连续特征离散化其实就可以区分出大众和小众，\n",
    "maj要探索，则要计算maj_cnt（类似与n_null）与逾期率是否真的关联，挺麻烦的！"
   ]
  }
 ],
 "metadata": {
  "kernelspec": {
   "display_name": "Python 3",
   "language": "python",
   "name": "python3"
  },
  "language_info": {
   "codemirror_mode": {
    "name": "ipython",
    "version": 3
   },
   "file_extension": ".py",
   "mimetype": "text/x-python",
   "name": "python",
   "nbconvert_exporter": "python",
   "pygments_lexer": "ipython3",
   "version": "3.6.5"
  }
 },
 "nbformat": 4,
 "nbformat_minor": 2
}
