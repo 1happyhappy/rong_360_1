{
 "cells": [
  {
   "cell_type": "code",
   "execution_count": 1,
   "metadata": {},
   "outputs": [],
   "source": [
    "import pandas as pd"
   ]
  },
  {
   "cell_type": "code",
   "execution_count": 3,
   "metadata": {},
   "outputs": [],
   "source": [
    "train_int = pd.read_csv('./train_x_int_filter.csv')\n",
    "valid_int = pd.read_csv('./valid_int_filter.csv')\n",
    "feature_score = pd.read_csv('./feature_score.csv')\n",
    "\n",
    "feature_score = feature_score.iloc[:50]\n",
    "selec_cols = list(feature_score.feature)\n",
    "\n",
    "train_int[selec_cols].to_csv('train_x_int_selec.csv',index=False)\n",
    "valid_int[selec_cols].to_csv('valid_int_selec.csv',index=False)"
   ]
  }
 ],
 "metadata": {
  "kernelspec": {
   "display_name": "Python 3",
   "language": "python",
   "name": "python3"
  },
  "language_info": {
   "codemirror_mode": {
    "name": "ipython",
    "version": 3
   },
   "file_extension": ".py",
   "mimetype": "text/x-python",
   "name": "python",
   "nbconvert_exporter": "python",
   "pygments_lexer": "ipython3",
   "version": "3.6.5"
  }
 },
 "nbformat": 4,
 "nbformat_minor": 2
}
