{
 "cells": [
  {
   "cell_type": "code",
   "execution_count": 1,
   "metadata": {},
   "outputs": [],
   "source": [
    "import pandas as pd\n",
    "import os"
   ]
  },
  {
   "cell_type": "code",
   "execution_count": 4,
   "metadata": {},
   "outputs": [
    {
     "name": "stdout",
     "output_type": "stream",
     "text": [
      "featurescore/feature_score_7.csv\n",
      "featurescore/.ipynb_checkpoints\n",
      "featurescore/feature_score_1.csv\n",
      "featurescore/feature_score_5.csv\n",
      "featurescore/feature_score_3.csv\n",
      "featurescore/feature_score_6.csv\n",
      "featurescore/feature_score_4.csv\n",
      "featurescore/feature_score_2.csv\n",
      "featurescore/feature_score_0.csv\n"
     ]
    }
   ],
   "source": [
    "# 融合多个xgb model的feature score\n",
    "files = os.listdir('featurescore')\n",
    "fs = {}\n",
    "for f in files:\n",
    "    print('featurescore/'+f)\n",
    "    if f=='.ipynb_checkpoints':\n",
    "        continue\n",
    "    t = pd.read_csv('featurescore/'+f)\n",
    "    t.index = t.feature\n",
    "    t = t.drop(['feature'],axis=1)\n",
    "    d = t.to_dict()['score'] # t.to_dict()是以列名作为做外层的key值\n",
    "    for key in d:\n",
    "        if fs. __contains__(key):\n",
    "            fs[key] += d[key]\n",
    "        else:\n",
    "            fs[key] = d[key] \n",
    "            \n",
    "fs = sorted(fs.items(), key=lambda x:x[1],reverse=True)\n",
    "\n",
    "t = []\n",
    "for (key,value) in fs:\n",
    "    t.append(\"{0},{1}\\n\".format(key,value))\n",
    "\n",
    "with open('feature_score.csv','w') as f:\n",
    "    f.writelines(\"feature,score\\n\")\n",
    "    f.writelines(t)"
   ]
  },
  {
   "cell_type": "code",
   "execution_count": null,
   "metadata": {},
   "outputs": [],
   "source": []
  }
 ],
 "metadata": {
  "kernelspec": {
   "display_name": "Python 3",
   "language": "python",
   "name": "python3"
  },
  "language_info": {
   "codemirror_mode": {
    "name": "ipython",
    "version": 3
   },
   "file_extension": ".py",
   "mimetype": "text/x-python",
   "name": "python",
   "nbconvert_exporter": "python",
   "pygments_lexer": "ipython3",
   "version": "3.6.5"
  }
 },
 "nbformat": 4,
 "nbformat_minor": 2
}
