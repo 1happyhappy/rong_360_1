{
 "cells": [
  {
   "cell_type": "code",
   "execution_count": 1,
   "metadata": {},
   "outputs": [],
   "source": [
    "import pandas as pd \n",
    "import os"
   ]
  },
  {
   "cell_type": "code",
   "execution_count": 2,
   "metadata": {},
   "outputs": [
    {
     "name": "stdout",
     "output_type": "stream",
     "text": [
      "['xgb3.csv', 'xgb6.csv', 'xgb4.csv', 'xgb0.csv', 'xgb2.csv', 'xgb5.csv', 'xgb1.csv', 'xgb7.csv']\n"
     ]
    }
   ],
   "source": [
    "files = os.listdir('./preds')\n",
    "print(files)\n",
    "pred = pd.read_csv('./preds/'+files[0])\n",
    "id = pred.id\n",
    "score = pred.score\n",
    "for f in files[1:]:\n",
    "    pred = pd.read_csv('./preds/'+f)\n",
    "    score += pred.score\n",
    "\n",
    "score /= len(files)\n",
    "\n",
    "pred = pd.DataFrame(id,columns=['id'])\n",
    "pred['prob'] = score\n",
    "pred.to_csv('avg_preds.csv',index=None,encoding='utf-8')"
   ]
  },
  {
   "cell_type": "code",
   "execution_count": null,
   "metadata": {},
   "outputs": [],
   "source": []
  }
 ],
 "metadata": {
  "kernelspec": {
   "display_name": "Python 3",
   "language": "python",
   "name": "python3"
  },
  "language_info": {
   "codemirror_mode": {
    "name": "ipython",
    "version": 3
   },
   "file_extension": ".py",
   "mimetype": "text/x-python",
   "name": "python",
   "nbconvert_exporter": "python",
   "pygments_lexer": "ipython3",
   "version": "3.6.5"
  }
 },
 "nbformat": 4,
 "nbformat_minor": 2
}
