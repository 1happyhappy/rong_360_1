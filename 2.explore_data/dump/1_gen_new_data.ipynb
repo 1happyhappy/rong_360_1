{
 "cells": [
  {
   "cell_type": "code",
   "execution_count": 2,
   "metadata": {},
   "outputs": [],
   "source": [
    "import pandas as pd\n",
    "import datetime as dt\n",
    "import numpy as np\n",
    "import os\n",
    "import gc\n",
    "import matplotlib.pyplot as plt\n",
    "import matplotlib as  mpl\n",
    "from matplotlib  import pyplot as plt\n",
    "mpl.rcParams[u'font.sans-serif'] = ['simhei']\n",
    "mpl.rcParams['axes.unicode_minus'] = False\n",
    "%matplotlib inline\n",
    "import seaborn as sns\n",
    "import joblib"
   ]
  },
  {
   "cell_type": "markdown",
   "metadata": {},
   "source": [
    "## 读取优化测试\n",
    "joblib+lz4表现比较好和稳定"
   ]
  },
  {
   "cell_type": "code",
   "execution_count": 16,
   "metadata": {},
   "outputs": [
    {
     "name": "stdout",
     "output_type": "stream",
     "text": [
      "CPU times: user 2min 25s, sys: 7.08 s, total: 2min 32s\n",
      "Wall time: 2min 33s\n"
     ]
    }
   ],
   "source": [
    "%%time\n",
    "data_raw = pd.read_csv('./preprocess_data_new/train_ax_nodup.csv')"
   ]
  },
  {
   "cell_type": "code",
   "execution_count": 19,
   "metadata": {},
   "outputs": [
    {
     "data": {
      "text/plain": [
       "['./preprocess_data_new/train_ax_nodup.joblib']"
      ]
     },
     "execution_count": 19,
     "metadata": {},
     "output_type": "execute_result"
    }
   ],
   "source": [
    "import joblib\n",
    "joblib.dump(data_raw,'./preprocess_data_new/train_ax_nodup.joblib')"
   ]
  },
  {
   "cell_type": "code",
   "execution_count": 2,
   "metadata": {},
   "outputs": [
    {
     "name": "stdout",
     "output_type": "stream",
     "text": [
      "CPU times: user 1.84 s, sys: 5.09 s, total: 6.93 s\n",
      "Wall time: 1min 44s\n"
     ]
    }
   ],
   "source": [
    "%%time\n",
    "data_raw = joblib.load('./preprocess_data_new/train_ax_nodup.joblib')"
   ]
  },
  {
   "cell_type": "code",
   "execution_count": 23,
   "metadata": {},
   "outputs": [
    {
     "name": "stdout",
     "output_type": "stream",
     "text": [
      "CPU times: user 2min 9s, sys: 1.72 s, total: 2min 11s\n",
      "Wall time: 2min 14s\n"
     ]
    },
    {
     "data": {
      "text/plain": [
       "['./preprocess_data_new/train_ax_nodup.zlib']"
      ]
     },
     "execution_count": 23,
     "metadata": {},
     "output_type": "execute_result"
    }
   ],
   "source": [
    "%%time\n",
    "joblib.dump(data_raw, './preprocess_data_new/train_ax_nodup.zlib', compress='zlib')"
   ]
  },
  {
   "cell_type": "code",
   "execution_count": 3,
   "metadata": {},
   "outputs": [
    {
     "name": "stdout",
     "output_type": "stream",
     "text": [
      "CPU times: user 16.7 s, sys: 3.86 s, total: 20.5 s\n",
      "Wall time: 30 s\n"
     ]
    },
    {
     "data": {
      "text/plain": [
       "['./preprocess_data_new/train_ax_nodup.lz4']"
      ]
     },
     "execution_count": 3,
     "metadata": {},
     "output_type": "execute_result"
    }
   ],
   "source": [
    "%%time\n",
    "joblib.dump(data_raw, './preprocess_data_new/train_ax_nodup.lz4', compress='lz4')"
   ]
  },
  {
   "cell_type": "code",
   "execution_count": 4,
   "metadata": {},
   "outputs": [],
   "source": [
    "# 多进程的方式读取csv，失败\n",
    "# %%time\n",
    "# data_len = 100000\n",
    "# from joblib import Parallel, delayed\n",
    "# def load_col(skiprows):\n",
    "#     tmp_df = pd.read_csv('./preprocess_data_new/train_ax_nodup.csv',header=None,skiprows=skiprows,nrows=2000)\n",
    "#     return tmp_df\n",
    "# def load_parallel():\n",
    "#     result = Parallel(n_jobs=32,verbose=10)(delayed(load_col)(skiprows) for skiprows in range(0,data_len,2000))\n",
    "#     return result\n",
    "# result = load_parallel()"
   ]
  },
  {
   "cell_type": "code",
   "execution_count": 6,
   "metadata": {},
   "outputs": [
    {
     "name": "stdout",
     "output_type": "stream",
     "text": [
      "CPU times: user 11.4 s, sys: 41.5 s, total: 52.9 s\n",
      "Wall time: 53 s\n"
     ]
    }
   ],
   "source": [
    "%%time\n",
    "data_raw_new = joblib.load('./preprocess_data_new/train_ax_nodup.lz4')"
   ]
  },
  {
   "cell_type": "markdown",
   "metadata": {},
   "source": [
    "### 读取数据"
   ]
  },
  {
   "cell_type": "code",
   "execution_count": 3,
   "metadata": {},
   "outputs": [
    {
     "name": "stdout",
     "output_type": "stream",
     "text": [
      "CPU times: user 16.3 s, sys: 3.88 s, total: 20.2 s\n",
      "Wall time: 20.2 s\n"
     ]
    }
   ],
   "source": [
    "%%time\n",
    "data_raw = joblib.load('./preprocess_data_new/train_ax_nodup.lz4')\n",
    "data_raw = data_raw.drop(columns=['id','loan_dt','tag'])"
   ]
  },
  {
   "cell_type": "code",
   "execution_count": 3,
   "metadata": {},
   "outputs": [
    {
     "name": "stdout",
     "output_type": "stream",
     "text": [
      "CPU times: user 3.32 s, sys: 1.02 s, total: 4.34 s\n",
      "Wall time: 4.35 s\n"
     ]
    }
   ],
   "source": [
    "%%time\n",
    "data_test = joblib.load( './preprocess_data_new/valid_nodup.lz4')\n",
    "data_test = data_test.drop(columns=['id','loan_dt'])"
   ]
  },
  {
   "cell_type": "markdown",
   "metadata": {},
   "source": [
    "## 查看时间"
   ]
  },
  {
   "cell_type": "markdown",
   "metadata": {},
   "source": [
    "### day_val_df for train"
   ]
  },
  {
   "cell_type": "code",
   "execution_count": 3,
   "metadata": {},
   "outputs": [],
   "source": [
    "# 加载train的数据\n",
    "data_date = pd.read_csv('./preprocess_data/train_x_date.csv').drop(columns=['id','loan_hour'])\n",
    "data_label = pd.read_csv('./preprocess_data/train_y_33465.csv',usecols=['label'])\n",
    "data_loan_dt = pd.read_csv('./preprocess_data_new/train_ax_nodup.csv',usecols=['loan_dt'])\n",
    "data_loan_dt.loan_dt = pd.to_datetime(data_loan_dt.loan_dt)"
   ]
  },
  {
   "cell_type": "code",
   "execution_count": 18,
   "metadata": {},
   "outputs": [
    {
     "data": {
      "text/plain": [
       "4    0.358608\n",
       "3    0.358050\n",
       "2    0.202856\n",
       "1    0.175185\n",
       "5    0.003775\n",
       "Name: loan_month, dtype: float64"
      ]
     },
     "execution_count": 18,
     "metadata": {},
     "output_type": "execute_result"
    }
   ],
   "source": [
    "# 各个月份样本数分布\n",
    "data_date.loan_month.value_counts()/30465"
   ]
  },
  {
   "cell_type": "code",
   "execution_count": 9,
   "metadata": {},
   "outputs": [],
   "source": [
    "def gen_day_val(data_date,data_label,data_loan_dt):\n",
    "    df1 = pd.concat([data_date,data_label],axis=1)\n",
    "    plt.title('loan_day and label_ratio')\n",
    "    df1.groupby(by=['loan_day']).mean().label.plot()\n",
    "    plt.hlines(data_label.label.mean(),0,31,colors='r')\n",
    "    \n",
    "    day_val_df = pd.DataFrame()\n",
    "    day_val_df['day_val'] = np.zeros(data_date.shape[0])\n",
    "    \n",
    "    for day in range(1,32):\n",
    "        day_val_df.loc[data_date.loan_day==day,'day_val'] = df1.groupby(by=['loan_day']).mean().label.loc[day]\n",
    "\n",
    "    day_val_df['day_val_state'] = 0\n",
    "    day_val_df.loc[day_val_df.day_val>data_label.label.mean(),'day_val_state'] = 1\n",
    "    return day_val_df"
   ]
  },
  {
   "cell_type": "code",
   "execution_count": 10,
   "metadata": {},
   "outputs": [
    {
     "data": {
      "image/png": "[encoded data removed]",
      "text/plain": [
       "<Figure size 432x288 with 1 Axes>"
      ]
     },
     "metadata": {},
     "output_type": "display_data"
    }
   ],
   "source": [
    "day_val_df = gen_day_val(data_date,data_label,data_loan_dt)"
   ]
  },
  {
   "cell_type": "code",
   "execution_count": 158,
   "metadata": {},
   "outputs": [
    {
     "data": {
      "text/plain": [
       "['./preprocess_data_discrete/day_val_df.lz4']"
      ]
     },
     "execution_count": 158,
     "metadata": {},
     "output_type": "execute_result"
    }
   ],
   "source": [
    "joblib.dump(day_val_df,'./preprocess_data_discrete/day_val_df.lz4',compress='lz4')"
   ]
  },
  {
   "cell_type": "markdown",
   "metadata": {},
   "source": [
    "### week_df for train"
   ]
  },
  {
   "cell_type": "code",
   "execution_count": 151,
   "metadata": {},
   "outputs": [],
   "source": [
    "def gen_week(data_loan_dt,data_label):\n",
    "    \n",
    "    week_df = pd.DataFrame()\n",
    "    week_df['loan_week_day'] = data_loan_dt.loan_dt.apply(lambda x: x.weekday()+1)\n",
    "    \n",
    "    # 逾期率随时间起伏变大\n",
    "    import matplotlib.pyplot as plt\n",
    "    df3 = pd.concat([week_df[['loan_week_day']],data_label],axis=1)\n",
    "    df3.groupby(by=['loan_week_day']).mean().plot()\n",
    "    plt.hlines(data_label.label.mean(),0,7,colors='r')\n",
    "    plt.title('variance becomes bigger with week_day')\n",
    "    \n",
    "    week_df['week_day_val'] = 0\n",
    "    for i in range(1,8):\n",
    "        week_df.loc[week_df['loan_week_day']==i,'week_day_val'] = df3.groupby(by=['loan_week_day']).mean().label.iloc[i-1]\n",
    "\n",
    "    week_df['week_day_state'] = 0\n",
    "    week_df.loc[week_df['week_day_val']>data_label.label.mean(),'week_day_state'] = 1\n",
    "    return week_df\n",
    "\n"
   ]
  },
  {
   "cell_type": "code",
   "execution_count": 152,
   "metadata": {},
   "outputs": [
    {
     "data": {
      "image/png": "[encoded data removed]",
      "text/plain": [
       "<Figure size 432x288 with 1 Axes>"
      ]
     },
     "metadata": {},
     "output_type": "display_data"
    }
   ],
   "source": [
    "week_df = gen_week(data_loan_dt,data_label)"
   ]
  },
  {
   "cell_type": "code",
   "execution_count": 157,
   "metadata": {},
   "outputs": [
    {
     "data": {
      "text/plain": [
       "['./preprocess_data_discrete/week_df.lz4']"
      ]
     },
     "execution_count": 157,
     "metadata": {},
     "output_type": "execute_result"
    }
   ],
   "source": [
    "joblib.dump(week_df,'./preprocess_data_discrete/week_df.lz4',compress='lz4')"
   ]
  },
  {
   "cell_type": "markdown",
   "metadata": {},
   "source": [
    "### day_val_df for test"
   ]
  },
  {
   "cell_type": "markdown",
   "metadata": {},
   "source": [
    "### week_df for test"
   ]
  },
  {
   "cell_type": "code",
   "execution_count": 7,
   "metadata": {},
   "outputs": [],
   "source": [
    "valid_date = pd.read_csv('./preprocess_data/valid_date.csv').drop(columns=['id','loan_hour'])\n",
    "valid_loan_dt = pd.read_csv('./preprocess_data_new/valid_nodup.csv',usecols=['loan_dt'])\n",
    "valid_loan_dt.loan_dt = pd.to_datetime(valid_loan_dt.loan_dt)"
   ]
  },
  {
   "cell_type": "code",
   "execution_count": 17,
   "metadata": {},
   "outputs": [
    {
     "data": {
      "text/plain": [
       "4    0.32795\n",
       "3    0.30270\n",
       "1    0.18770\n",
       "2    0.17815\n",
       "5    0.00350\n",
       "Name: loan_month, dtype: float64"
      ]
     },
     "execution_count": 17,
     "metadata": {},
     "output_type": "execute_result"
    }
   ],
   "source": [
    "# 查看各个月份样本数的分布\n",
    "valid_date.loan_month.value_counts()/20000"
   ]
  },
  {
   "cell_type": "code",
   "execution_count": 8,
   "metadata": {},
   "outputs": [
    {
     "data": {
      "image/png": "[encoded data removed]",
      "text/plain": [
       "<Figure size 432x288 with 1 Axes>"
      ]
     },
     "metadata": {},
     "output_type": "display_data"
    }
   ],
   "source": [
    "day_val_test = gen_day_val(valid_date,data_label,valid_loan_dt)"
   ]
  },
  {
   "cell_type": "code",
   "execution_count": 156,
   "metadata": {},
   "outputs": [
    {
     "data": {
      "image/png": "[encoded data removed]",
      "text/plain": [
       "<Figure size 432x288 with 1 Axes>"
      ]
     },
     "metadata": {},
     "output_type": "display_data"
    }
   ],
   "source": [
    "week_test = gen_week(valid_loan_dt,data_label)"
   ]
  },
  {
   "cell_type": "code",
   "execution_count": 159,
   "metadata": {},
   "outputs": [
    {
     "data": {
      "text/plain": [
       "['./preprocess_data_discrete/week_test.lz4']"
      ]
     },
     "execution_count": 159,
     "metadata": {},
     "output_type": "execute_result"
    }
   ],
   "source": [
    "joblib.dump(day_val_test,'./preprocess_data_discrete/day_val_test.lz4',compress='lz4')\n",
    "joblib.dump(week_test,'./preprocess_data_discrete/week_test.lz4',compress='lz4')"
   ]
  },
  {
   "cell_type": "code",
   "execution_count": 20,
   "metadata": {},
   "outputs": [
    {
     "data": {
      "image/png": "[encoded data removed]",
      "text/plain": [
       "<Figure size 432x288 with 1 Axes>"
      ]
     },
     "metadata": {},
     "output_type": "display_data"
    },
    {
     "data": {
      "image/png": "[encoded data removed]",
      "text/plain": [
       "<Figure size 432x288 with 1 Axes>"
      ]
     },
     "metadata": {},
     "output_type": "display_data"
    },
    {
     "data": {
      "image/png": "[encoded data removed]",
      "text/plain": [
       "<Figure size 432x288 with 1 Axes>"
      ]
     },
     "metadata": {},
     "output_type": "display_data"
    },
    {
     "data": {
      "image/png": "[encoded data removed]",
      "text/plain": [
       "<Figure size 432x288 with 1 Axes>"
      ]
     },
     "metadata": {},
     "output_type": "display_data"
    },
    {
     "data": {
      "image/png": "[encoded data removed]",
      "text/plain": [
       "<Figure size 432x288 with 1 Axes>"
      ]
     },
     "metadata": {},
     "output_type": "display_data"
    }
   ],
   "source": [
    "# 每个月天数的分布\n",
    "for i in range(1,6):\n",
    "    plt.figure()\n",
    "    y1 = data_date[data_date.loan_month==i].loan_day.value_counts().sort_index()\n",
    "    y2 = valid_date[valid_date.loan_month==i].loan_day.value_counts().sort_index()\n",
    "    y1.plot()\n",
    "    y2.plot()\n",
    "    (y1+y2).plot()"
   ]
  },
  {
   "cell_type": "markdown",
   "metadata": {},
   "source": [
    "### 统计每一列占大多数的情况"
   ]
  },
  {
   "cell_type": "code",
   "execution_count": 48,
   "metadata": {},
   "outputs": [
    {
     "name": "stdout",
     "output_type": "stream",
     "text": [
      "CPU times: user 47.3 s, sys: 36 ms, total: 47.4 s\n",
      "Wall time: 47.4 s\n"
     ]
    }
   ],
   "source": [
    "%%time\n",
    "major_dict = {col:data_raw[col].value_counts().values[0] for col in data_raw.columns}\n",
    "mvar_dict = {col:data_raw[col].value_counts().index[0] for col in data_raw.columns}\n",
    "major2_dict = {col:sum(data_raw[col].value_counts().values[:2]) for col in data_raw.columns}"
   ]
  },
  {
   "cell_type": "code",
   "execution_count": 49,
   "metadata": {},
   "outputs": [
    {
     "data": {
      "text/plain": [
       "['./preprocess_data_discrete/major2_dict.joblib']"
      ]
     },
     "execution_count": 49,
     "metadata": {},
     "output_type": "execute_result"
    }
   ],
   "source": [
    "joblib.dump(major_dict,'./preprocess_data_discrete/major_dict.joblib')\n",
    "joblib.dump(mvar_dict,'./preprocess_data_discrete/mvar_dict.joblib')\n",
    "joblib.dump(major2_dict,'./preprocess_data_discrete/major2_dict.joblib')"
   ]
  },
  {
   "cell_type": "code",
   "execution_count": 2,
   "metadata": {},
   "outputs": [],
   "source": [
    "major_dict = joblib.load('./preprocess_data_discrete/major_dict.joblib')\n",
    "mvar_dict = joblib.load('./preprocess_data_discrete/mvar_dict.joblib')"
   ]
  },
  {
   "cell_type": "code",
   "execution_count": 50,
   "metadata": {},
   "outputs": [
    {
     "data": {
      "text/plain": [
       "<matplotlib.axes._subplots.AxesSubplot at 0x7f46128e5c50>"
      ]
     },
     "execution_count": 50,
     "metadata": {},
     "output_type": "execute_result"
    },
    {
     "data": {
      "image/png": "[encoded data removed]",
      "text/plain": [
       "<Figure size 432x288 with 1 Axes>"
      ]
     },
     "metadata": {},
     "output_type": "display_data"
    }
   ],
   "source": [
    "sns.distplot(pd.Series(major_dict))"
   ]
  },
  {
   "cell_type": "code",
   "execution_count": 51,
   "metadata": {},
   "outputs": [
    {
     "data": {
      "text/plain": [
       "<matplotlib.axes._subplots.AxesSubplot at 0x7f4456f59908>"
      ]
     },
     "execution_count": 51,
     "metadata": {},
     "output_type": "execute_result"
    },
    {
     "data": {
      "image/png": "[encoded data removed]",
      "text/plain": [
       "<Figure size 432x288 with 1 Axes>"
      ]
     },
     "metadata": {},
     "output_type": "display_data"
    }
   ],
   "source": [
    "sns.distplot(pd.Series(major2_dict))"
   ]
  },
  {
   "cell_type": "code",
   "execution_count": 10,
   "metadata": {},
   "outputs": [
    {
     "data": {
      "text/plain": [
       "4630"
      ]
     },
     "execution_count": 10,
     "metadata": {},
     "output_type": "execute_result"
    }
   ],
   "source": [
    "# major超过2w\n",
    "major_ser = pd.Series(major_dict)\n",
    "sum(major_ser>20000)"
   ]
  },
  {
   "cell_type": "code",
   "execution_count": 53,
   "metadata": {},
   "outputs": [
    {
     "data": {
      "text/plain": [
       "4960"
      ]
     },
     "execution_count": 53,
     "metadata": {},
     "output_type": "execute_result"
    }
   ],
   "source": [
    "# major2超过2w\n",
    "major2_ser = pd.Series(major2_dict)\n",
    "sum(major2_ser>20000)"
   ]
  },
  {
   "cell_type": "code",
   "execution_count": 11,
   "metadata": {},
   "outputs": [],
   "source": [
    "# 拥有major值的列\n",
    "process_cols1 = list(major_ser[major_ser>=20000].index)\n",
    "# process_cols2 = list(major_ser[(major_ser<20000)&(major2_ser>=30000)].index)"
   ]
  },
  {
   "cell_type": "markdown",
   "metadata": {},
   "source": [
    "### major_df for train"
   ]
  },
  {
   "cell_type": "code",
   "execution_count": 12,
   "metadata": {},
   "outputs": [],
   "source": [
    "# 计算major_df\n",
    "from joblib import Parallel, delayed\n",
    "\n",
    "def p_col1(df,mvar,col): \n",
    "    # 单独计算一列\n",
    "    tmp_df = pd.DataFrame()\n",
    "    tmp_df['m'+col] = np.zeros(df.shape[0])\n",
    "    tmp_df['m'+col][df == mvar] = 1\n",
    "    tmp_df['m'+col][df == np.nan] = -1\n",
    "    return tmp_df\n",
    "\n",
    "def apply_parallel(data):\n",
    "    result = Parallel(n_jobs=32,verbose=10)(delayed(p_col1)(data[col],mvar_dict[col],col) for col in process_cols1)\n",
    "    return pd.concat(result,axis=1)"
   ]
  },
  {
   "cell_type": "code",
   "execution_count": 64,
   "metadata": {},
   "outputs": [
    {
     "name": "stderr",
     "output_type": "stream",
     "text": [
      "[Parallel(n_jobs=32)]: Using backend LokyBackend with 32 concurrent workers.\n",
      "[Parallel(n_jobs=32)]: Done   8 tasks      | elapsed:    1.5s\n",
      "[Parallel(n_jobs=32)]: Done  21 tasks      | elapsed:    1.7s\n",
      "[Parallel(n_jobs=32)]: Done  34 tasks      | elapsed:    1.8s\n",
      "[Parallel(n_jobs=32)]: Done  49 tasks      | elapsed:    1.9s\n",
      "[Parallel(n_jobs=32)]: Done  64 tasks      | elapsed:    2.0s\n",
      "[Parallel(n_jobs=32)]: Done  81 tasks      | elapsed:    2.0s\n",
      "[Parallel(n_jobs=32)]: Done  98 tasks      | elapsed:    2.1s\n",
      "[Parallel(n_jobs=32)]: Done 117 tasks      | elapsed:    2.2s\n",
      "[Parallel(n_jobs=32)]: Done 136 tasks      | elapsed:    2.3s\n",
      "[Parallel(n_jobs=32)]: Done 157 tasks      | elapsed:    2.4s\n",
      "[Parallel(n_jobs=32)]: Done 178 tasks      | elapsed:    2.5s\n",
      "[Parallel(n_jobs=32)]: Done 201 tasks      | elapsed:    2.5s\n",
      "[Parallel(n_jobs=32)]: Done 224 tasks      | elapsed:    2.6s\n",
      "[Parallel(n_jobs=32)]: Done 249 tasks      | elapsed:    2.7s\n",
      "[Parallel(n_jobs=32)]: Done 274 tasks      | elapsed:    2.8s\n",
      "[Parallel(n_jobs=32)]: Done 301 tasks      | elapsed:    2.9s\n",
      "[Parallel(n_jobs=32)]: Done 328 tasks      | elapsed:    3.1s\n",
      "[Parallel(n_jobs=32)]: Done 357 tasks      | elapsed:    3.2s\n",
      "[Parallel(n_jobs=32)]: Done 386 tasks      | elapsed:    3.3s\n",
      "[Parallel(n_jobs=32)]: Done 417 tasks      | elapsed:    3.4s\n",
      "[Parallel(n_jobs=32)]: Done 448 tasks      | elapsed:    3.5s\n",
      "[Parallel(n_jobs=32)]: Done 481 tasks      | elapsed:    3.7s\n",
      "[Parallel(n_jobs=32)]: Done 514 tasks      | elapsed:    3.8s\n",
      "[Parallel(n_jobs=32)]: Done 549 tasks      | elapsed:    3.9s\n",
      "[Parallel(n_jobs=32)]: Done 584 tasks      | elapsed:    4.1s\n",
      "[Parallel(n_jobs=32)]: Done 621 tasks      | elapsed:    4.2s\n",
      "[Parallel(n_jobs=32)]: Done 658 tasks      | elapsed:    4.4s\n",
      "[Parallel(n_jobs=32)]: Done 697 tasks      | elapsed:    4.5s\n",
      "[Parallel(n_jobs=32)]: Done 736 tasks      | elapsed:    4.7s\n",
      "[Parallel(n_jobs=32)]: Done 777 tasks      | elapsed:    4.9s\n",
      "[Parallel(n_jobs=32)]: Done 818 tasks      | elapsed:    5.1s\n",
      "[Parallel(n_jobs=32)]: Done 861 tasks      | elapsed:    5.2s\n",
      "[Parallel(n_jobs=32)]: Done 904 tasks      | elapsed:    5.4s\n",
      "[Parallel(n_jobs=32)]: Done 949 tasks      | elapsed:    5.6s\n",
      "[Parallel(n_jobs=32)]: Done 994 tasks      | elapsed:    5.8s\n",
      "[Parallel(n_jobs=32)]: Done 1041 tasks      | elapsed:    6.0s\n",
      "[Parallel(n_jobs=32)]: Done 1088 tasks      | elapsed:    6.2s\n",
      "[Parallel(n_jobs=32)]: Done 1137 tasks      | elapsed:    6.4s\n",
      "[Parallel(n_jobs=32)]: Done 1186 tasks      | elapsed:    6.6s\n",
      "[Parallel(n_jobs=32)]: Done 1237 tasks      | elapsed:    6.8s\n",
      "[Parallel(n_jobs=32)]: Done 1288 tasks      | elapsed:    7.0s\n",
      "[Parallel(n_jobs=32)]: Done 1341 tasks      | elapsed:    7.2s\n",
      "[Parallel(n_jobs=32)]: Done 1394 tasks      | elapsed:    7.5s\n",
      "[Parallel(n_jobs=32)]: Done 1449 tasks      | elapsed:    7.7s\n",
      "[Parallel(n_jobs=32)]: Done 1504 tasks      | elapsed:    7.9s\n",
      "[Parallel(n_jobs=32)]: Done 1561 tasks      | elapsed:    8.1s\n",
      "[Parallel(n_jobs=32)]: Done 1618 tasks      | elapsed:    8.4s\n",
      "[Parallel(n_jobs=32)]: Done 1677 tasks      | elapsed:    8.6s\n",
      "[Parallel(n_jobs=32)]: Done 1736 tasks      | elapsed:    8.9s\n",
      "[Parallel(n_jobs=32)]: Done 1797 tasks      | elapsed:    9.1s\n",
      "[Parallel(n_jobs=32)]: Done 1858 tasks      | elapsed:    9.3s\n",
      "[Parallel(n_jobs=32)]: Done 1921 tasks      | elapsed:    9.6s\n",
      "[Parallel(n_jobs=32)]: Done 1984 tasks      | elapsed:    9.9s\n",
      "[Parallel(n_jobs=32)]: Done 2049 tasks      | elapsed:   10.1s\n",
      "[Parallel(n_jobs=32)]: Done 2114 tasks      | elapsed:   10.4s\n",
      "[Parallel(n_jobs=32)]: Done 2181 tasks      | elapsed:   10.6s\n",
      "[Parallel(n_jobs=32)]: Done 2248 tasks      | elapsed:   10.9s\n",
      "[Parallel(n_jobs=32)]: Done 2317 tasks      | elapsed:   11.2s\n",
      "[Parallel(n_jobs=32)]: Done 2386 tasks      | elapsed:   11.5s\n",
      "[Parallel(n_jobs=32)]: Done 2457 tasks      | elapsed:   11.8s\n",
      "[Parallel(n_jobs=32)]: Done 2528 tasks      | elapsed:   12.1s\n",
      "[Parallel(n_jobs=32)]: Done 2601 tasks      | elapsed:   12.4s\n",
      "[Parallel(n_jobs=32)]: Done 2674 tasks      | elapsed:   12.7s\n",
      "[Parallel(n_jobs=32)]: Done 2749 tasks      | elapsed:   13.0s\n",
      "[Parallel(n_jobs=32)]: Done 2824 tasks      | elapsed:   13.3s\n",
      "[Parallel(n_jobs=32)]: Done 2901 tasks      | elapsed:   13.6s\n",
      "[Parallel(n_jobs=32)]: Done 2978 tasks      | elapsed:   13.9s\n",
      "[Parallel(n_jobs=32)]: Done 3057 tasks      | elapsed:   14.2s\n",
      "[Parallel(n_jobs=32)]: Done 3136 tasks      | elapsed:   14.6s\n",
      "[Parallel(n_jobs=32)]: Done 3217 tasks      | elapsed:   14.9s\n",
      "[Parallel(n_jobs=32)]: Done 3298 tasks      | elapsed:   15.2s\n",
      "[Parallel(n_jobs=32)]: Done 3381 tasks      | elapsed:   15.5s\n",
      "[Parallel(n_jobs=32)]: Done 3464 tasks      | elapsed:   15.9s\n",
      "[Parallel(n_jobs=32)]: Done 3549 tasks      | elapsed:   16.2s\n",
      "[Parallel(n_jobs=32)]: Done 3634 tasks      | elapsed:   16.6s\n",
      "[Parallel(n_jobs=32)]: Done 3721 tasks      | elapsed:   16.9s\n",
      "[Parallel(n_jobs=32)]: Done 3808 tasks      | elapsed:   17.3s\n",
      "[Parallel(n_jobs=32)]: Done 3897 tasks      | elapsed:   17.6s\n",
      "[Parallel(n_jobs=32)]: Done 3986 tasks      | elapsed:   18.0s\n",
      "[Parallel(n_jobs=32)]: Done 4077 tasks      | elapsed:   18.4s\n",
      "[Parallel(n_jobs=32)]: Done 4168 tasks      | elapsed:   18.7s\n",
      "[Parallel(n_jobs=32)]: Done 4261 tasks      | elapsed:   19.1s\n",
      "[Parallel(n_jobs=32)]: Done 4354 tasks      | elapsed:   19.5s\n",
      "[Parallel(n_jobs=32)]: Done 4449 tasks      | elapsed:   19.9s\n",
      "[Parallel(n_jobs=32)]: Done 4544 tasks      | elapsed:   20.3s\n",
      "[Parallel(n_jobs=32)]: Done 4630 out of 4630 | elapsed:   20.6s finished\n"
     ]
    },
    {
     "name": "stdout",
     "output_type": "stream",
     "text": [
      "CPU times: user 18.3 s, sys: 4.58 s, total: 22.8 s\n",
      "Wall time: 23.8 s\n"
     ]
    }
   ],
   "source": [
    "%%time\n",
    "major_df = apply_parallel(data_raw)"
   ]
  },
  {
   "cell_type": "code",
   "execution_count": 66,
   "metadata": {},
   "outputs": [
    {
     "name": "stdout",
     "output_type": "stream",
     "text": [
      "CPU times: user 9.92 s, sys: 1.14 s, total: 11.1 s\n",
      "Wall time: 12.1 s\n"
     ]
    },
    {
     "data": {
      "text/plain": [
       "['./preprocess_data_discrete/major_df.lz4']"
      ]
     },
     "execution_count": 66,
     "metadata": {},
     "output_type": "execute_result"
    }
   ],
   "source": [
    "%%time\n",
    "joblib.dump(major_df, './preprocess_data_discrete/major_df.lz4', compress='lz4')"
   ]
  },
  {
   "cell_type": "markdown",
   "metadata": {},
   "source": [
    "### major count for train"
   ]
  },
  {
   "cell_type": "code",
   "execution_count": 3,
   "metadata": {},
   "outputs": [],
   "source": [
    "import joblib\n",
    "major_df = joblib.load('./preprocess_data_discrete/major_df.lz4')"
   ]
  },
  {
   "cell_type": "code",
   "execution_count": 9,
   "metadata": {},
   "outputs": [
    {
     "name": "stdout",
     "output_type": "stream",
     "text": [
      "CPU times: user 26.8 s, sys: 1.08 s, total: 27.9 s\n",
      "Wall time: 27.9 s\n"
     ]
    }
   ],
   "source": [
    "%%time\n",
    "maj_cnt_df = pd.DataFrame()\n",
    "maj_cnt_df['maj_cnt'] = (major_df == 1).sum(axis=1).values"
   ]
  },
  {
   "cell_type": "code",
   "execution_count": 10,
   "metadata": {},
   "outputs": [],
   "source": [
    "import pandas as pd\n",
    "maj_cnt_df['maj_cntn'] = pd.cut(maj_cnt_df['maj_cnt'],bins=10,labels=range(1,11)).astype('int')"
   ]
  },
  {
   "cell_type": "code",
   "execution_count": 12,
   "metadata": {},
   "outputs": [
    {
     "data": {
      "text/plain": [
       "8     49031\n",
       "7     25736\n",
       "9     19725\n",
       "6      4310\n",
       "10      776\n",
       "5       264\n",
       "2       102\n",
       "1        42\n",
       "3        10\n",
       "4         4\n",
       "Name: maj_cntn, dtype: int64"
      ]
     },
     "execution_count": 12,
     "metadata": {},
     "output_type": "execute_result"
    }
   ],
   "source": [
    "maj_cnt_df.maj_cntn.value_counts()"
   ]
  },
  {
   "cell_type": "code",
   "execution_count": 14,
   "metadata": {},
   "outputs": [
    {
     "data": {
      "text/plain": [
       "['./preprocess_data_discrete/maj_cnt_df.lz4']"
      ]
     },
     "execution_count": 14,
     "metadata": {},
     "output_type": "execute_result"
    }
   ],
   "source": [
    "import joblib\n",
    "joblib.dump(maj_cnt_df,'./preprocess_data_discrete/maj_cnt_df.lz4')"
   ]
  },
  {
   "cell_type": "markdown",
   "metadata": {},
   "source": [
    "### major count for test"
   ]
  },
  {
   "cell_type": "code",
   "execution_count": 16,
   "metadata": {},
   "outputs": [],
   "source": [
    "import joblib\n",
    "major_test = joblib.load('./preprocess_data_discrete/major_test.lz4')"
   ]
  },
  {
   "cell_type": "code",
   "execution_count": 17,
   "metadata": {},
   "outputs": [
    {
     "name": "stdout",
     "output_type": "stream",
     "text": [
      "CPU times: user 7.02 s, sys: 480 ms, total: 7.5 s\n",
      "Wall time: 7.5 s\n"
     ]
    }
   ],
   "source": [
    "%%time\n",
    "maj_cnt_test = pd.DataFrame()\n",
    "maj_cnt_test['maj_cnt'] = (major_test == 1).sum(axis=1).values"
   ]
  },
  {
   "cell_type": "code",
   "execution_count": 18,
   "metadata": {},
   "outputs": [],
   "source": [
    "import pandas as pd\n",
    "maj_cnt_test['maj_cntn'] = pd.cut(maj_cnt_test['maj_cnt'],bins=10,labels=range(1,11)).astype('int')"
   ]
  },
  {
   "cell_type": "code",
   "execution_count": 19,
   "metadata": {},
   "outputs": [
    {
     "data": {
      "text/plain": [
       "8     9597\n",
       "9     5499\n",
       "7     3973\n",
       "6      550\n",
       "10     324\n",
       "5       27\n",
       "2       22\n",
       "1        5\n",
       "3        3\n",
       "Name: maj_cntn, dtype: int64"
      ]
     },
     "execution_count": 19,
     "metadata": {},
     "output_type": "execute_result"
    }
   ],
   "source": [
    "maj_cnt_test.maj_cntn.value_counts()"
   ]
  },
  {
   "cell_type": "code",
   "execution_count": 20,
   "metadata": {},
   "outputs": [
    {
     "data": {
      "text/plain": [
       "['./preprocess_data_discrete/maj_cnt_test.lz4']"
      ]
     },
     "execution_count": 20,
     "metadata": {},
     "output_type": "execute_result"
    }
   ],
   "source": [
    "import joblib\n",
    "joblib.dump(maj_cnt_test,'./preprocess_data_discrete/maj_cnt_test.lz4')"
   ]
  },
  {
   "cell_type": "markdown",
   "metadata": {},
   "source": [
    "### major_test for test"
   ]
  },
  {
   "cell_type": "code",
   "execution_count": null,
   "metadata": {},
   "outputs": [],
   "source": []
  },
  {
   "cell_type": "code",
   "execution_count": 13,
   "metadata": {},
   "outputs": [
    {
     "name": "stderr",
     "output_type": "stream",
     "text": [
      "[Parallel(n_jobs=32)]: Using backend LokyBackend with 32 concurrent workers.\n",
      "[Parallel(n_jobs=32)]: Done   8 tasks      | elapsed:    1.3s\n",
      "[Parallel(n_jobs=32)]: Done  21 tasks      | elapsed:    1.4s\n",
      "[Parallel(n_jobs=32)]: Done  34 tasks      | elapsed:    1.4s\n",
      "[Parallel(n_jobs=32)]: Done  49 tasks      | elapsed:    1.5s\n",
      "[Parallel(n_jobs=32)]: Done  64 tasks      | elapsed:    1.5s\n",
      "[Parallel(n_jobs=32)]: Batch computation too fast (0.1821s.) Setting batch_size=2.\n",
      "[Parallel(n_jobs=32)]: Done  81 tasks      | elapsed:    1.5s\n",
      "[Parallel(n_jobs=32)]: Done  98 tasks      | elapsed:    1.6s\n",
      "[Parallel(n_jobs=32)]: Done 117 tasks      | elapsed:    1.6s\n",
      "[Parallel(n_jobs=32)]: Batch computation too fast (0.1476s.) Setting batch_size=4.\n",
      "[Parallel(n_jobs=32)]: Done 142 tasks      | elapsed:    1.7s\n",
      "[Parallel(n_jobs=32)]: Done 183 tasks      | elapsed:    1.7s\n",
      "[Parallel(n_jobs=32)]: Done 224 tasks      | elapsed:    1.8s\n",
      "[Parallel(n_jobs=32)]: Batch computation too fast (0.1865s.) Setting batch_size=8.\n",
      "[Parallel(n_jobs=32)]: Done 292 tasks      | elapsed:    1.9s\n",
      "[Parallel(n_jobs=32)]: Done 384 tasks      | elapsed:    2.0s\n",
      "[Parallel(n_jobs=32)]: Done 484 tasks      | elapsed:    2.1s\n",
      "[Parallel(n_jobs=32)]: Done 664 tasks      | elapsed:    2.4s\n",
      "[Parallel(n_jobs=32)]: Done 880 tasks      | elapsed:    2.6s\n",
      "[Parallel(n_jobs=32)]: Done 1096 tasks      | elapsed:    2.9s\n",
      "[Parallel(n_jobs=32)]: Done 1328 tasks      | elapsed:    3.2s\n",
      "[Parallel(n_jobs=32)]: Done 1560 tasks      | elapsed:    3.4s\n",
      "[Parallel(n_jobs=32)]: Done 1808 tasks      | elapsed:    3.8s\n",
      "[Parallel(n_jobs=32)]: Done 2056 tasks      | elapsed:    4.1s\n",
      "[Parallel(n_jobs=32)]: Done 2320 tasks      | elapsed:    4.4s\n",
      "[Parallel(n_jobs=32)]: Done 2584 tasks      | elapsed:    4.7s\n",
      "[Parallel(n_jobs=32)]: Done 2864 tasks      | elapsed:    5.0s\n",
      "[Parallel(n_jobs=32)]: Done 3144 tasks      | elapsed:    5.3s\n",
      "[Parallel(n_jobs=32)]: Done 3440 tasks      | elapsed:    5.7s\n",
      "[Parallel(n_jobs=32)]: Done 3736 tasks      | elapsed:    6.0s\n",
      "[Parallel(n_jobs=32)]: Done 4048 tasks      | elapsed:    6.4s\n",
      "[Parallel(n_jobs=32)]: Done 4630 out of 4630 | elapsed:    7.0s finished\n"
     ]
    }
   ],
   "source": [
    "major_test = apply_parallel(data_test)"
   ]
  },
  {
   "cell_type": "code",
   "execution_count": 17,
   "metadata": {},
   "outputs": [
    {
     "name": "stdout",
     "output_type": "stream",
     "text": [
      "CPU times: user 3.66 s, sys: 488 ms, total: 4.14 s\n",
      "Wall time: 4.94 s\n"
     ]
    },
    {
     "data": {
      "text/plain": [
       "['./preprocess_data_discrete/major_test.lz4']"
      ]
     },
     "execution_count": 17,
     "metadata": {},
     "output_type": "execute_result"
    }
   ],
   "source": [
    "%%time\n",
    "joblib.dump(major_test, './preprocess_data_discrete/major_test.lz4', compress='lz4')"
   ]
  },
  {
   "cell_type": "markdown",
   "metadata": {},
   "source": [
    "### 查看uniq_num的分布"
   ]
  },
  {
   "cell_type": "code",
   "execution_count": 93,
   "metadata": {},
   "outputs": [],
   "source": [
    "data_raw_new = data_raw.fillna(-1)"
   ]
  },
  {
   "cell_type": "code",
   "execution_count": 94,
   "metadata": {},
   "outputs": [
    {
     "name": "stdout",
     "output_type": "stream",
     "text": [
      "CPU times: user 9.64 s, sys: 4 ms, total: 9.64 s\n",
      "Wall time: 9.64 s\n"
     ]
    }
   ],
   "source": [
    "%%time\n",
    "uniq = [[col,data_raw_new[col].unique().shape[0]] for col in data_raw.columns]\n",
    "uniq_ser = pd.Series(index=np.array(uniq)[:,0],data=np.array(uniq)[:,1].astype(int))"
   ]
  },
  {
   "cell_type": "code",
   "execution_count": 95,
   "metadata": {},
   "outputs": [
    {
     "data": {
      "text/plain": [
       "<matplotlib.axes._subplots.AxesSubplot at 0x7f460dfb4240>"
      ]
     },
     "execution_count": 95,
     "metadata": {},
     "output_type": "execute_result"
    },
    {
     "data": {
      "image/png": "[encoded data removed]",
      "text/plain": [
       "<Figure size 432x288 with 1 Axes>"
      ]
     },
     "metadata": {},
     "output_type": "display_data"
    }
   ],
   "source": [
    "sns.distplot(uniq_ser.values,bins=1000)"
   ]
  },
  {
   "cell_type": "code",
   "execution_count": 175,
   "metadata": {},
   "outputs": [
    {
     "data": {
      "text/plain": [
       "<matplotlib.legend.Legend at 0x7f45f452d668>"
      ]
     },
     "execution_count": 175,
     "metadata": {},
     "output_type": "execute_result"
    },
    {
     "data": {
      "image/png": "[encoded data removed]",
      "text/plain": [
       "<Figure size 432x288 with 1 Axes>"
      ]
     },
     "metadata": {},
     "output_type": "display_data"
    }
   ],
   "source": [
    "plt.plot(np.array(result)[:,0])\n",
    "plt.plot(np.array(result)[:,1])\n",
    "plt.plot(np.array(result)[:,2])\n",
    "plt.legend(['cat_cols','dcont_cols','scont_cols'])"
   ]
  },
  {
   "cell_type": "code",
   "execution_count": 172,
   "metadata": {},
   "outputs": [],
   "source": [
    "def look_trend(data,uniq,thre = 20):\n",
    "#     uniq_sort = sorted(uniq,key=lambda x: x[1],reverse=False)\n",
    "    cat_cols = [col for col,num in uniq if num>1 and num<=thre and data[col].dtype==np.int64]\n",
    "    dcont_cols = [col for col,num in uniq if num>1 and num<=thre and data[col].dtype!=np.int64]\n",
    "    scont_cols = [col for col,num in uniq if num>1 and num>thre]\n",
    "#     print(len(cat_cols),len(dcont_cols),len(scont_cols))\n",
    "    return len(cat_cols), len(dcont_cols),len(scont_cols)\n",
    "result = [look_trend(data_raw_new,uniq,i) for i in range(1,5000)]"
   ]
  },
  {
   "cell_type": "markdown",
   "metadata": {},
   "source": [
    "### 1.小于10, cat\n",
    "### 2.10~400, 离散化\n",
    "### 3.400~... , 标准化"
   ]
  },
  {
   "cell_type": "code",
   "execution_count": 255,
   "metadata": {},
   "outputs": [],
   "source": [
    "# 分离 离散型特征 和 连续型特征\n",
    "def cat_and_cont(uniq,thre1 = 10, thre2 = 400):\n",
    "#     uniq_sort = sorted(uniq,key=lambda x: x[1],reverse=False)\n",
    "    cat_cols = [col for col,num in uniq if num>=1 and num<=thre1 ]\n",
    "    dcont_cols = [col for col,num in uniq if num>thre1 and num<=thre2 ]\n",
    "    scont_cols = [col for col,num in uniq if num>thre2]\n",
    "    print(len(cat_cols),len(dcont_cols),len(scont_cols))\n",
    "    return cat_cols, dcont_cols,scont_cols"
   ]
  },
  {
   "cell_type": "code",
   "execution_count": 256,
   "metadata": {},
   "outputs": [
    {
     "name": "stdout",
     "output_type": "stream",
     "text": [
      "901 2610 3186\n"
     ]
    }
   ],
   "source": [
    "cat_cols, dcont_cols,scont_cols = cat_and_cont(uniq,10,400)"
   ]
  },
  {
   "cell_type": "code",
   "execution_count": 258,
   "metadata": {},
   "outputs": [
    {
     "data": {
      "text/plain": [
       "['./preprocess_data_discrete/three_tuple.joblib']"
      ]
     },
     "execution_count": 258,
     "metadata": {},
     "output_type": "execute_result"
    }
   ],
   "source": [
    "joblib.dump((cat_cols, dcont_cols,scont_cols),'./preprocess_data_discrete/three_tuple.joblib')"
   ]
  },
  {
   "cell_type": "code",
   "execution_count": 4,
   "metadata": {},
   "outputs": [],
   "source": [
    "cat_cols, dcont_cols,scont_cols = joblib.load('./preprocess_data_discrete/three_tuple.joblib')"
   ]
  },
  {
   "cell_type": "markdown",
   "metadata": {},
   "source": [
    "### cat_cols for train"
   ]
  },
  {
   "cell_type": "code",
   "execution_count": 271,
   "metadata": {},
   "outputs": [
    {
     "name": "stdout",
     "output_type": "stream",
     "text": [
      "CPU times: user 1.27 s, sys: 276 ms, total: 1.54 s\n",
      "Wall time: 1.54 s\n"
     ]
    }
   ],
   "source": [
    "%%time\n",
    "# cat_cols保留\n",
    "cat_df = data_raw[cat_cols]\n",
    "joblib.dump(cat_df,'./preprocess_data_discrete/cat_df.lz4', compress='lz4')"
   ]
  },
  {
   "cell_type": "markdown",
   "metadata": {},
   "source": [
    "### cat_cols for test"
   ]
  },
  {
   "cell_type": "code",
   "execution_count": 20,
   "metadata": {},
   "outputs": [
    {
     "name": "stdout",
     "output_type": "stream",
     "text": [
      "CPU times: user 272 ms, sys: 116 ms, total: 388 ms\n",
      "Wall time: 388 ms\n"
     ]
    }
   ],
   "source": [
    "%%time\n",
    "# cat_cols保留\n",
    "cat_test = data_test[cat_cols]\n",
    "joblib.dump(cat_test,'./preprocess_data_discrete/cat_test.lz4', compress='lz4')"
   ]
  },
  {
   "cell_type": "markdown",
   "metadata": {},
   "source": [
    "### dcont_cols for train"
   ]
  },
  {
   "cell_type": "code",
   "execution_count": 5,
   "metadata": {},
   "outputs": [],
   "source": [
    "# dcont_cols离散化\n",
    "from joblib import Parallel, delayed\n",
    "\n",
    "def p_col2(ser,col): \n",
    "    # 单独计算一列\n",
    "    tmp_df = pd.DataFrame()\n",
    "    tmp_df[col] = pd.cut(ser,bins=10,labels=range(1,11)).astype('int')\n",
    "    return tmp_df\n",
    "def discrete_parallel(data):\n",
    "    result = Parallel(n_jobs=32,verbose=10)(delayed(p_col2)(data[col],col) for col in dcont_cols)\n",
    "    return pd.concat(result,axis=1)"
   ]
  },
  {
   "cell_type": "code",
   "execution_count": 6,
   "metadata": {},
   "outputs": [
    {
     "name": "stderr",
     "output_type": "stream",
     "text": [
      "[Parallel(n_jobs=32)]: Using backend LokyBackend with 32 concurrent workers.\n",
      "[Parallel(n_jobs=32)]: Done   8 tasks      | elapsed:    2.1s\n",
      "[Parallel(n_jobs=32)]: Done  21 tasks      | elapsed:    2.4s\n",
      "[Parallel(n_jobs=32)]: Done  34 tasks      | elapsed:    2.6s\n",
      "[Parallel(n_jobs=32)]: Done  49 tasks      | elapsed:    2.8s\n",
      "[Parallel(n_jobs=32)]: Done  64 tasks      | elapsed:    3.0s\n",
      "[Parallel(n_jobs=32)]: Done  81 tasks      | elapsed:    3.2s\n",
      "[Parallel(n_jobs=32)]: Done  98 tasks      | elapsed:    3.3s\n",
      "[Parallel(n_jobs=32)]: Done 117 tasks      | elapsed:    3.5s\n",
      "[Parallel(n_jobs=32)]: Done 136 tasks      | elapsed:    3.7s\n",
      "[Parallel(n_jobs=32)]: Done 157 tasks      | elapsed:    4.0s\n",
      "[Parallel(n_jobs=32)]: Done 178 tasks      | elapsed:    4.2s\n",
      "[Parallel(n_jobs=32)]: Done 201 tasks      | elapsed:    4.3s\n",
      "[Parallel(n_jobs=32)]: Done 224 tasks      | elapsed:    4.5s\n",
      "[Parallel(n_jobs=32)]: Done 249 tasks      | elapsed:    4.6s\n",
      "[Parallel(n_jobs=32)]: Done 274 tasks      | elapsed:    4.8s\n",
      "[Parallel(n_jobs=32)]: Done 301 tasks      | elapsed:    5.0s\n",
      "[Parallel(n_jobs=32)]: Done 328 tasks      | elapsed:    5.2s\n",
      "[Parallel(n_jobs=32)]: Done 357 tasks      | elapsed:    5.4s\n",
      "[Parallel(n_jobs=32)]: Done 386 tasks      | elapsed:    5.6s\n",
      "[Parallel(n_jobs=32)]: Done 417 tasks      | elapsed:    5.8s\n",
      "[Parallel(n_jobs=32)]: Done 448 tasks      | elapsed:    6.1s\n",
      "[Parallel(n_jobs=32)]: Done 481 tasks      | elapsed:    6.3s\n",
      "[Parallel(n_jobs=32)]: Done 514 tasks      | elapsed:    6.6s\n",
      "[Parallel(n_jobs=32)]: Done 549 tasks      | elapsed:    6.7s\n",
      "[Parallel(n_jobs=32)]: Done 584 tasks      | elapsed:    7.0s\n",
      "[Parallel(n_jobs=32)]: Done 621 tasks      | elapsed:    7.2s\n",
      "[Parallel(n_jobs=32)]: Done 658 tasks      | elapsed:    7.6s\n",
      "[Parallel(n_jobs=32)]: Done 697 tasks      | elapsed:    8.0s\n",
      "[Parallel(n_jobs=32)]: Done 736 tasks      | elapsed:    8.3s\n",
      "[Parallel(n_jobs=32)]: Done 777 tasks      | elapsed:    8.7s\n",
      "[Parallel(n_jobs=32)]: Done 818 tasks      | elapsed:    9.1s\n",
      "[Parallel(n_jobs=32)]: Done 861 tasks      | elapsed:    9.5s\n",
      "[Parallel(n_jobs=32)]: Done 904 tasks      | elapsed:    9.9s\n",
      "[Parallel(n_jobs=32)]: Done 949 tasks      | elapsed:   10.4s\n",
      "[Parallel(n_jobs=32)]: Done 994 tasks      | elapsed:   10.7s\n",
      "[Parallel(n_jobs=32)]: Done 1041 tasks      | elapsed:   11.1s\n",
      "[Parallel(n_jobs=32)]: Done 1088 tasks      | elapsed:   11.6s\n",
      "[Parallel(n_jobs=32)]: Done 1137 tasks      | elapsed:   12.0s\n",
      "[Parallel(n_jobs=32)]: Done 1186 tasks      | elapsed:   12.4s\n",
      "[Parallel(n_jobs=32)]: Done 1237 tasks      | elapsed:   12.8s\n",
      "[Parallel(n_jobs=32)]: Done 1288 tasks      | elapsed:   13.2s\n",
      "[Parallel(n_jobs=32)]: Done 1341 tasks      | elapsed:   13.6s\n",
      "[Parallel(n_jobs=32)]: Done 1394 tasks      | elapsed:   14.1s\n",
      "[Parallel(n_jobs=32)]: Done 1449 tasks      | elapsed:   14.5s\n",
      "[Parallel(n_jobs=32)]: Done 1504 tasks      | elapsed:   14.9s\n",
      "[Parallel(n_jobs=32)]: Done 1561 tasks      | elapsed:   15.4s\n",
      "[Parallel(n_jobs=32)]: Done 1618 tasks      | elapsed:   15.9s\n",
      "[Parallel(n_jobs=32)]: Done 1677 tasks      | elapsed:   16.3s\n",
      "[Parallel(n_jobs=32)]: Done 1736 tasks      | elapsed:   16.7s\n",
      "[Parallel(n_jobs=32)]: Done 1797 tasks      | elapsed:   17.2s\n",
      "[Parallel(n_jobs=32)]: Done 1858 tasks      | elapsed:   17.6s\n",
      "[Parallel(n_jobs=32)]: Done 1921 tasks      | elapsed:   18.0s\n",
      "[Parallel(n_jobs=32)]: Done 1984 tasks      | elapsed:   18.5s\n",
      "[Parallel(n_jobs=32)]: Done 2049 tasks      | elapsed:   18.9s\n",
      "[Parallel(n_jobs=32)]: Done 2114 tasks      | elapsed:   19.5s\n",
      "[Parallel(n_jobs=32)]: Done 2181 tasks      | elapsed:   20.3s\n",
      "[Parallel(n_jobs=32)]: Done 2248 tasks      | elapsed:   20.7s\n",
      "[Parallel(n_jobs=32)]: Done 2317 tasks      | elapsed:   21.2s\n",
      "[Parallel(n_jobs=32)]: Done 2386 tasks      | elapsed:   22.0s\n",
      "[Parallel(n_jobs=32)]: Done 2457 tasks      | elapsed:   22.6s\n",
      "[Parallel(n_jobs=32)]: Done 2528 tasks      | elapsed:   23.2s\n",
      "[Parallel(n_jobs=32)]: Done 2610 out of 2610 | elapsed:   23.9s finished\n"
     ]
    },
    {
     "name": "stdout",
     "output_type": "stream",
     "text": [
      "CPU times: user 8.59 s, sys: 8.79 s, total: 17.4 s\n",
      "Wall time: 26.5 s\n"
     ]
    }
   ],
   "source": [
    "%%time\n",
    "discrete_df = discrete_parallel(data_raw)\n",
    "discrete_df.columns = ['d'+col for col in discrete_df.columns]"
   ]
  },
  {
   "cell_type": "code",
   "execution_count": 8,
   "metadata": {},
   "outputs": [
    {
     "data": {
      "text/plain": [
       "['./preprocess_data_discrete/discrete_df.lz4']"
      ]
     },
     "execution_count": 8,
     "metadata": {},
     "output_type": "execute_result"
    }
   ],
   "source": [
    "%%time\n",
    "joblib.dump(discrete_df,'./preprocess_data_discrete/discrete_df.lz4', compress='lz4')"
   ]
  },
  {
   "cell_type": "markdown",
   "metadata": {},
   "source": [
    "### dcont_cols for test"
   ]
  },
  {
   "cell_type": "code",
   "execution_count": 9,
   "metadata": {},
   "outputs": [
    {
     "name": "stderr",
     "output_type": "stream",
     "text": [
      "[Parallel(n_jobs=32)]: Using backend LokyBackend with 32 concurrent workers.\n",
      "[Parallel(n_jobs=32)]: Batch computation too fast (0.0287s.) Setting batch_size=12.\n",
      "[Parallel(n_jobs=32)]: Done   8 tasks      | elapsed:    0.1s\n",
      "[Parallel(n_jobs=32)]: Done  21 tasks      | elapsed:    0.1s\n",
      "[Parallel(n_jobs=32)]: Done  34 tasks      | elapsed:    0.1s\n",
      "[Parallel(n_jobs=32)]: Done  49 tasks      | elapsed:    0.2s\n",
      "[Parallel(n_jobs=32)]: Done  64 tasks      | elapsed:    0.2s\n",
      "[Parallel(n_jobs=32)]: Done 268 tasks      | elapsed:    0.5s\n",
      "[Parallel(n_jobs=32)]: Done 472 tasks      | elapsed:    0.8s\n",
      "[Parallel(n_jobs=32)]: Done 700 tasks      | elapsed:    1.1s\n",
      "[Parallel(n_jobs=32)]: Done 928 tasks      | elapsed:    1.4s\n",
      "[Parallel(n_jobs=32)]: Done 1180 tasks      | elapsed:    1.7s\n",
      "[Parallel(n_jobs=32)]: Done 1432 tasks      | elapsed:    2.0s\n",
      "[Parallel(n_jobs=32)]: Done 1708 tasks      | elapsed:    2.4s\n",
      "[Parallel(n_jobs=32)]: Done 2610 out of 2610 | elapsed:    3.5s finished\n"
     ]
    }
   ],
   "source": [
    "discrete_test = discrete_parallel(data_test)\n",
    "discrete_test.columns = ['d'+col for col in discrete_test.columns]"
   ]
  },
  {
   "cell_type": "code",
   "execution_count": 10,
   "metadata": {},
   "outputs": [
    {
     "name": "stdout",
     "output_type": "stream",
     "text": [
      "CPU times: user 2.07 s, sys: 76 ms, total: 2.14 s\n",
      "Wall time: 2.14 s\n"
     ]
    },
    {
     "data": {
      "text/plain": [
       "['./preprocess_data_discrete/discrete_test.lz4']"
      ]
     },
     "execution_count": 10,
     "metadata": {},
     "output_type": "execute_result"
    }
   ],
   "source": [
    "%%time\n",
    "joblib.dump(discrete_test,'./preprocess_data_discrete/discrete_test.lz4', compress='lz4')"
   ]
  },
  {
   "cell_type": "markdown",
   "metadata": {},
   "source": [
    "### scont_cols for train"
   ]
  },
  {
   "cell_type": "code",
   "execution_count": 25,
   "metadata": {},
   "outputs": [],
   "source": [
    "# scont_cols标准化\n",
    "from sklearn.preprocessing import StandardScaler\n",
    "scaler = StandardScaler(with_mean=False)"
   ]
  },
  {
   "cell_type": "code",
   "execution_count": 26,
   "metadata": {},
   "outputs": [],
   "source": [
    "def p_col3(ser,col): \n",
    "    # 单独计算一列\n",
    "    tmp_df = pd.DataFrame()\n",
    "    tmp = scaler.fit_transform(ser.values.reshape(-1,1))\n",
    "    tmp_df[col] = tmp.ravel()\n",
    "    return tmp_df\n",
    "def scale_parallel(data):\n",
    "    result = Parallel(n_jobs=32,verbose=10)(delayed(p_col3)(data[col],col) for col in scont_cols)\n",
    "    return pd.concat(result,axis=1)"
   ]
  },
  {
   "cell_type": "code",
   "execution_count": 264,
   "metadata": {},
   "outputs": [
    {
     "name": "stderr",
     "output_type": "stream",
     "text": [
      "[Parallel(n_jobs=32)]: Using backend LokyBackend with 32 concurrent workers.\n",
      "[Parallel(n_jobs=32)]: Done   8 tasks      | elapsed:    0.4s\n",
      "[Parallel(n_jobs=32)]: Done  21 tasks      | elapsed:    0.5s\n",
      "[Parallel(n_jobs=32)]: Done  34 tasks      | elapsed:    0.5s\n",
      "[Parallel(n_jobs=32)]: Done  49 tasks      | elapsed:    0.6s\n",
      "[Parallel(n_jobs=32)]: Done  64 tasks      | elapsed:    0.6s\n",
      "[Parallel(n_jobs=32)]: Done  81 tasks      | elapsed:    0.7s\n",
      "[Parallel(n_jobs=32)]: Done  98 tasks      | elapsed:    0.7s\n",
      "[Parallel(n_jobs=32)]: Batch computation too fast (0.1996s.) Setting batch_size=2.\n",
      "[Parallel(n_jobs=32)]: Done 117 tasks      | elapsed:    0.8s\n",
      "[Parallel(n_jobs=32)]: Done 136 tasks      | elapsed:    0.8s\n",
      "[Parallel(n_jobs=32)]: Done 157 tasks      | elapsed:    0.9s\n",
      "[Parallel(n_jobs=32)]: Batch computation too fast (0.1725s.) Setting batch_size=4.\n",
      "[Parallel(n_jobs=32)]: Done 188 tasks      | elapsed:    1.0s\n",
      "[Parallel(n_jobs=32)]: Done 234 tasks      | elapsed:    1.1s\n",
      "[Parallel(n_jobs=32)]: Done 280 tasks      | elapsed:    1.2s\n",
      "[Parallel(n_jobs=32)]: Done 364 tasks      | elapsed:    1.5s\n",
      "[Parallel(n_jobs=32)]: Done 464 tasks      | elapsed:    1.8s\n",
      "[Parallel(n_jobs=32)]: Done 572 tasks      | elapsed:    2.5s\n",
      "[Parallel(n_jobs=32)]: Done 680 tasks      | elapsed:    2.9s\n",
      "[Parallel(n_jobs=32)]: Done 796 tasks      | elapsed:    3.2s\n",
      "[Parallel(n_jobs=32)]: Done 912 tasks      | elapsed:    3.5s\n",
      "[Parallel(n_jobs=32)]: Done 1036 tasks      | elapsed:    3.9s\n",
      "[Parallel(n_jobs=32)]: Done 1160 tasks      | elapsed:    4.3s\n",
      "[Parallel(n_jobs=32)]: Done 1292 tasks      | elapsed:    4.7s\n",
      "[Parallel(n_jobs=32)]: Done 1424 tasks      | elapsed:    5.1s\n",
      "[Parallel(n_jobs=32)]: Done 1564 tasks      | elapsed:    5.6s\n",
      "[Parallel(n_jobs=32)]: Done 1704 tasks      | elapsed:    6.0s\n",
      "[Parallel(n_jobs=32)]: Done 1852 tasks      | elapsed:    6.5s\n",
      "[Parallel(n_jobs=32)]: Done 2000 tasks      | elapsed:    6.9s\n",
      "[Parallel(n_jobs=32)]: Done 2156 tasks      | elapsed:    7.4s\n",
      "[Parallel(n_jobs=32)]: Done 2312 tasks      | elapsed:    8.0s\n",
      "[Parallel(n_jobs=32)]: Done 2476 tasks      | elapsed:    8.5s\n",
      "[Parallel(n_jobs=32)]: Done 2640 tasks      | elapsed:    9.0s\n",
      "[Parallel(n_jobs=32)]: Done 2812 tasks      | elapsed:    9.5s\n",
      "[Parallel(n_jobs=32)]: Done 3186 out of 3186 | elapsed:   10.6s finished\n"
     ]
    }
   ],
   "source": [
    "scale_df = scale_parallel(data_raw)\n",
    "scale_df.columns = ['s'+col for col in scale_df.columns]"
   ]
  },
  {
   "cell_type": "code",
   "execution_count": 269,
   "metadata": {},
   "outputs": [
    {
     "name": "stdout",
     "output_type": "stream",
     "text": [
      "CPU times: user 13.3 s, sys: 1.84 s, total: 15.1 s\n",
      "Wall time: 28.9 s\n"
     ]
    },
    {
     "data": {
      "text/plain": [
       "['./preprocess_data_discrete/scale_df.lz4']"
      ]
     },
     "execution_count": 269,
     "metadata": {},
     "output_type": "execute_result"
    }
   ],
   "source": [
    "%%time\n",
    "joblib.dump(scale_df, './preprocess_data_discrete/scale_df.lz4', compress='lz4')"
   ]
  },
  {
   "cell_type": "markdown",
   "metadata": {},
   "source": [
    "### scont_cols for test"
   ]
  },
  {
   "cell_type": "code",
   "execution_count": 28,
   "metadata": {},
   "outputs": [
    {
     "name": "stderr",
     "output_type": "stream",
     "text": [
      "[Parallel(n_jobs=32)]: Using backend LokyBackend with 32 concurrent workers.\n",
      "[Parallel(n_jobs=32)]: Done   8 tasks      | elapsed:    0.4s\n",
      "[Parallel(n_jobs=32)]: Done  21 tasks      | elapsed:    0.4s\n",
      "[Parallel(n_jobs=32)]: Done  34 tasks      | elapsed:    0.4s\n",
      "[Parallel(n_jobs=32)]: Done  49 tasks      | elapsed:    0.5s\n",
      "[Parallel(n_jobs=32)]: Batch computation too fast (0.1802s.) Setting batch_size=2.\n",
      "[Parallel(n_jobs=32)]: Done  64 tasks      | elapsed:    0.5s\n",
      "[Parallel(n_jobs=32)]: Done  81 tasks      | elapsed:    0.5s\n",
      "[Parallel(n_jobs=32)]: Done  98 tasks      | elapsed:    0.5s\n",
      "[Parallel(n_jobs=32)]: Batch computation too fast (0.1022s.) Setting batch_size=6.\n",
      "[Parallel(n_jobs=32)]: Done 120 tasks      | elapsed:    0.6s\n",
      "[Parallel(n_jobs=32)]: Done 157 tasks      | elapsed:    0.6s\n",
      "[Parallel(n_jobs=32)]: Done 199 tasks      | elapsed:    0.7s\n",
      "[Parallel(n_jobs=32)]: Done 245 tasks      | elapsed:    0.7s\n",
      "[Parallel(n_jobs=32)]: Batch computation too fast (0.1588s.) Setting batch_size=14.\n",
      "[Parallel(n_jobs=32)]: Done 383 tasks      | elapsed:    0.9s\n",
      "[Parallel(n_jobs=32)]: Done 521 tasks      | elapsed:    1.0s\n",
      "[Parallel(n_jobs=32)]: Done 735 tasks      | elapsed:    1.2s\n",
      "[Parallel(n_jobs=32)]: Done 1085 tasks      | elapsed:    1.6s\n",
      "[Parallel(n_jobs=32)]: Done 1463 tasks      | elapsed:    1.9s\n",
      "[Parallel(n_jobs=32)]: Done 1841 tasks      | elapsed:    2.3s\n",
      "[Parallel(n_jobs=32)]: Done 2247 tasks      | elapsed:    2.6s\n",
      "[Parallel(n_jobs=32)]: Done 2485 out of 3186 | elapsed:    3.0s remaining:    0.8s\n",
      "[Parallel(n_jobs=32)]: Done 3186 out of 3186 | elapsed:    3.6s finished\n"
     ]
    }
   ],
   "source": [
    "scale_test = scale_parallel(data_test)\n",
    "scale_test.columns = ['s'+col for col in scale_test.columns]"
   ]
  },
  {
   "cell_type": "code",
   "execution_count": 29,
   "metadata": {},
   "outputs": [
    {
     "name": "stdout",
     "output_type": "stream",
     "text": [
      "CPU times: user 3.84 s, sys: 440 ms, total: 4.28 s\n",
      "Wall time: 4.28 s\n"
     ]
    },
    {
     "data": {
      "text/plain": [
       "['./preprocess_data_discrete/scale_test.lz4']"
      ]
     },
     "execution_count": 29,
     "metadata": {},
     "output_type": "execute_result"
    }
   ],
   "source": [
    "%%time\n",
    "joblib.dump(scale_test, './preprocess_data_discrete/scale_test.lz4', compress='lz4')"
   ]
  },
  {
   "cell_type": "code",
   "execution_count": null,
   "metadata": {},
   "outputs": [],
   "source": []
  }
 ],
 "metadata": {
  "kernelspec": {
   "display_name": "Python 3",
   "language": "python",
   "name": "python3"
  },
  "language_info": {
   "codemirror_mode": {
    "name": "ipython",
    "version": 3
   },
   "file_extension": ".py",
   "mimetype": "text/x-python",
   "name": "python",
   "nbconvert_exporter": "python",
   "pygments_lexer": "ipython3",
   "version": "3.6.5"
  }
 },
 "nbformat": 4,
 "nbformat_minor": 2
}
