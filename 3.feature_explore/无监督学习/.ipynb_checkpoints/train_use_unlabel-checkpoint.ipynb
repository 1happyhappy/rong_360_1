{
 "cells": [
  {
   "cell_type": "code",
   "execution_count": 1,
   "metadata": {},
   "outputs": [],
   "source": [
    "import pandas as pd\n",
    "import xgboost as xgb\n",
    "import sys,random\n",
    "import pickle\n",
    "import os\n",
    "import numpy as np"
   ]
  },
  {
   "cell_type": "code",
   "execution_count": 2,
   "metadata": {},
   "outputs": [],
   "source": [
    "if not os.path.exists('unlabel_preds'):\n",
    "    os.mkdir('unlabel_preds')\n",
    "if not os.path.exists('unlabel_model'):\n",
    "    os.mkdir('unlabel_model')\n",
    "if not os.path.exists('unlabel_featurescore'):\n",
    "    os.mkdir('unlabel_featurescore')"
   ]
  },
  {
   "cell_type": "code",
   "execution_count": 3,
   "metadata": {},
   "outputs": [],
   "source": [
    "train_x_d_cols = pd.read_csv('./rank_d_feature_score.csv')\n",
    "train_x_d_cols = list(train_x_d_cols.iloc[10:810].feature)"
   ]
  },
  {
   "cell_type": "code",
   "execution_count": 5,
   "metadata": {},
   "outputs": [
    {
     "name": "stdout",
     "output_type": "stream",
     "text": [
      "CPU times: user 17 s, sys: 708 ms, total: 17.7 s\n",
      "Wall time: 20.9 s\n"
     ]
    }
   ],
   "source": [
    "%%time\n",
    "#load data\n",
    "train_x_date = pd.read_csv('../../preprocess_data/train_x_date.csv').drop(columns=['id'])\n",
    "train_x_null = pd.read_csv('../../preprocess_data/train_x_null.csv').drop(columns=['id'])\n",
    "train_x_int = pd.read_csv('../../preprocess_data/train_x_int_filter.csv').drop(columns=['id']) \n",
    "train_x_d = pd.read_csv('../../preprocess_data/train_x_float_rank_d.csv',usecols=train_x_d_cols)\n",
    "train_x_nd = pd.read_csv('../../preprocess_data/train_x_float_rank_nd.csv').drop(columns=['id'])\n",
    "train_x = pd.concat([train_x_date,train_x_null,train_x_int,train_x_d,train_x_nd],axis=1,ignore_index=True,copy=False)\n",
    "\n",
    "train_cols = list(train_x_date.columns) +\\\n",
    "            list(train_x_null.columns) +\\\n",
    "            list(train_x_int.columns) +\\\n",
    "            list(train_x_d.columns) + \\\n",
    "            list(train_x_nd.columns)\n",
    "train_x.columns = train_cols\n",
    "\n",
    "# 剩余的6w多条数据本来是无标签的，但是我们在数据预处理的时候对其进行了打标\n",
    "unlabel_date = pd.read_csv('../../preprocess_data/unlabel_x_date.csv')\n",
    "unlabel_null = pd.read_csv('../../preprocess_data/unlabel_x_null.csv').drop(columns=['id'])\n",
    "unlabel_int = pd.read_csv('../../preprocess_data/unlabel_x_int_filter.csv').drop(columns=['id'])\n",
    "unlabel_d = pd.read_csv('../../preprocess_data/unlabel_x_float_rank_d.csv',usecols=train_x_d_cols)\n",
    "unlabel_nd = pd.read_csv('../../preprocess_data/unlabel_x_float_rank_nd.csv').drop(columns=['id'])\n",
    "unlabel = pd.concat([unlabel_date,unlabel_null,unlabel_int,unlabel_d,unlabel_nd],axis=1,ignore_index=True,copy=False)\n",
    "unlabel_cols = list(unlabel_date.columns) + \\\n",
    "            list(unlabel_null.columns) + \\\n",
    "            list(unlabel_int.columns) + \\\n",
    "            list(unlabel_d.columns) + \\\n",
    "            list(unlabel_nd.columns)\n",
    "unlabel.columns = unlabel_cols"
   ]
  },
  {
   "cell_type": "code",
   "execution_count": 15,
   "metadata": {},
   "outputs": [
    {
     "name": "stdout",
     "output_type": "stream",
     "text": [
      "正负样本不均衡 {0.0: 37921, 1.0: 5525}\n"
     ]
    }
   ],
   "source": [
    "# 把已打标的数据加入训练集\n",
    "unlabel_y = pd.read_csv('unlabel_y.csv')\n",
    "unlabel_merge = pd.merge(unlabel_y, unlabel, how = 'inner', on='id', copy=False)\n",
    "unlabel_merge = unlabel_merge.drop(columns=['id','label'])\n",
    "\n",
    "# train_ay\n",
    "train_y = pd.read_csv('../../preprocess_data/train_y_33465.csv')\n",
    "unlabel_y = unlabel_y[['label']]\n",
    "train_ay = pd.concat([train_y,unlabel_y],axis=0,ignore_index=True,copy=False)\n",
    "# train_ax\n",
    "train_ax = pd.concat([train_x,unlabel_merge],axis=0,ignore_index=True,copy=False)\n",
    "dtrain = xgb.DMatrix(train_ax.values, feature_names=train_ax.columns, label=train_ay.values)\n",
    "print('正负样本不均衡',train_ay.label.value_counts().to_dict())"
   ]
  },
  {
   "cell_type": "code",
   "execution_count": 7,
   "metadata": {},
   "outputs": [],
   "source": [
    "valid_date = pd.read_csv('../../preprocess_data/valid_date.csv')\n",
    "valid_null = pd.read_csv('../../preprocess_data/valid_null.csv').drop(columns=['id'])\n",
    "valid_int = pd.read_csv('../../preprocess_data/valid_int_filter.csv').drop(columns=['id'])\n",
    "valid_d = pd.read_csv('../../preprocess_data/valid_float_rank_d.csv',usecols=train_x_d_cols)\n",
    "valid_nd = pd.read_csv('../../preprocess_data/valid_float_rank_nd.csv').drop(columns=['id'])\n",
    "valid = pd.concat([valid_date,valid_null,valid_int,valid_d,valid_nd],axis=1,ignore_index=True,copy=False)\n",
    "valid_cols = list(valid_date.columns) + \\\n",
    "            list(valid_null.columns) + \\\n",
    "            list(valid_int.columns) + \\\n",
    "            list(valid_d.columns) + \\\n",
    "            list(valid_nd.columns)\n",
    "valid.columns = valid_cols\n",
    "# pd.concat后特征名没有了，变成数字了\n",
    "valid_id = valid.id\n",
    "valid = valid.drop(columns=['id'])\n",
    "dvalid = xgb.DMatrix(valid.values, feature_names=valid.columns)"
   ]
  },
  {
   "cell_type": "markdown",
   "metadata": {},
   "source": [
    "## 本地交叉验证"
   ]
  },
  {
   "cell_type": "code",
   "execution_count": 1,
   "metadata": {},
   "outputs": [],
   "source": [
    "params={\n",
    "    'booster':'gbtree',\n",
    "    'objective': 'binary:logistic',\n",
    "    'early_stopping_rounds':100,\n",
    "    'scale_pos_weight': float(len(train_ay)-np.sum(train_ay.values))/float(np.sum(train_ay.values)),  # 负例样本除以正例样本\n",
    "    'eval_metric': 'auc',\n",
    "    'gamma':1,\n",
    "    'max_depth':6,\n",
    "    'lambda':1,\n",
    "    'subsample':0.9,\n",
    "    'colsample_bytree':0.9,\n",
    "    'min_child_weight':1, \n",
    "    'eta': 0.04,\n",
    "    'seed':1080,\n",
    "    'nthread':16\n",
    "        }\n",
    "result = xgb.cv(params,dtrain,num_boost_round=800,nfold=5,shuffle=True,verbose_eval=True)"
   ]
  },
  {
   "cell_type": "code",
   "execution_count": 11,
   "metadata": {},
   "outputs": [
    {
     "data": {
      "text/plain": [
       "<matplotlib.axes._subplots.AxesSubplot at 0x7f3083c79e10>"
      ]
     },
     "execution_count": 11,
     "metadata": {},
     "output_type": "execute_result"
    },
    {
     "data": {
      "image/png": "[encoded data removed]",
      "text/plain": [
       "<Figure size 432x288 with 1 Axes>"
      ]
     },
     "metadata": {},
     "output_type": "display_data"
    }
   ],
   "source": [
    "import matplotlib.pyplot as plt\n",
    "%matplotlib inline\n",
    "result[['train-auc-mean','test-auc-mean']].plot()"
   ]
  },
  {
   "cell_type": "markdown",
   "metadata": {},
   "source": [
    "## 训练+预测"
   ]
  },
  {
   "cell_type": "code",
   "execution_count": 17,
   "metadata": {},
   "outputs": [],
   "source": [
    "def pipeline(dtrain,dtest,test_id,iteration,random_seed,gamma,max_depth,lambd,subsample,colsample_bytree,min_child_weight):\n",
    "    if max_depth==6:\n",
    "        num_boost_round = 400\n",
    "    elif max_depth==7:\n",
    "        num_boost_round = 350\n",
    "    elif max_depth==8:\n",
    "        num_boost_round = 300\n",
    "    \n",
    "    params={\n",
    "    'booster':'gbtree',\n",
    "    'objective': 'binary:logistic',\n",
    "    'early_stopping_rounds':100,\n",
    "    'scale_pos_weight': float(len(train_ay)-np.sum(train_ay.values))/float(np.sum(train_ay.values)),  # 负例样本除以正例样本\n",
    "    'eval_metric': 'auc',\n",
    "    'gamma':gamma,\n",
    "    'max_depth':max_depth,\n",
    "    'lambda':lambd,\n",
    "    'subsample':subsample,\n",
    "    'colsample_bytree':colsample_bytree,\n",
    "    'min_child_weight':min_child_weight, \n",
    "    'eta': 0.04,\n",
    "    'seed':random_seed,\n",
    "    'nthread':16\n",
    "        }\n",
    "    watchlist  = [(dtrain,'train_ax')]\n",
    "    model = xgb.train(params,dtrain,num_boost_round=num_boost_round,evals=watchlist)\n",
    "    model.save_model('./unlabel_model/xgb{0}.model'.format(iteration))\n",
    "    \n",
    "    #predict test set\n",
    "    test_y = model.predict(dtest)\n",
    "    test_result = pd.DataFrame(test_id,columns=[\"id\"])\n",
    "    test_result['score'] = test_y\n",
    "    test_result.to_csv(\"./unlabel_preds/xgb{0}.csv\".format(iteration),index=None,encoding='utf-8')\n",
    "    \n",
    "    #get feature score\n",
    "    feature_score = model.get_fscore()\n",
    "    feature_score = sorted(feature_score.items(), key=lambda x:x[1],reverse=True)\n",
    "    fs = []\n",
    "    for (key,value) in feature_score:\n",
    "        fs.append(\"{0},{1}\\n\".format(key,value))\n",
    "    \n",
    "    with open('./unlabel_featurescore/feature_score_{0}.csv'.format(iteration),'w') as f:\n",
    "        f.writelines(\"feature,score\\n\")\n",
    "        f.writelines(fs)\n",
    "    "
   ]
  },
  {
   "cell_type": "code",
   "execution_count": 2,
   "metadata": {},
   "outputs": [],
   "source": [
    "%%time\n",
    "random_seed = list(range(0,10000,25))\n",
    "gamma = [i/1000.0 for i in range(100,200,2)]\n",
    "max_depth = [6,7,8]\n",
    "lambd = list(range(200,400,2))\n",
    "subsample = [i/1000.0 for i in range(600,700,2)]\n",
    "colsample_bytree = [i/1000.0 for i in range(250,350,2)]\n",
    "min_child_weight = [i/1000.0 for i in range(200,300,2)]\n",
    "random.shuffle(random_seed)\n",
    "random.shuffle(gamma)\n",
    "random.shuffle(max_depth)\n",
    "random.shuffle(lambd)\n",
    "random.shuffle(subsample)\n",
    "random.shuffle(colsample_bytree)\n",
    "random.shuffle(min_child_weight)\n",
    "\n",
    "with open('params.pkl','wb') as f:\n",
    "    pickle.dump((random_seed,gamma,max_depth,lambd,subsample,colsample_bytree,min_child_weight),f)\n",
    "\n",
    "#to reproduce my result, uncomment following lines\n",
    "\"\"\"\n",
    "with open('params_for_reproducing.pkl','rb') as f:\n",
    "    random_seed,gamma,max_depth,lambd,subsample,colsample_bytree,min_child_weight = pickle.load(f)    \n",
    "\"\"\"\n",
    "\n",
    "for i in range(36):\n",
    "    pipeline(dtrain,dvalid,valid_id,i,random_seed[i],gamma[i],max_depth[i%3],lambd[i],subsample[i],colsample_bytree[i],min_child_weight[i])"
   ]
  },
  {
   "cell_type": "code",
   "execution_count": null,
   "metadata": {},
   "outputs": [],
   "source": []
  }
 ],
 "metadata": {
  "kernelspec": {
   "display_name": "Python 3",
   "language": "python",
   "name": "python3"
  },
  "language_info": {
   "codemirror_mode": {
    "name": "ipython",
    "version": 3
   },
   "file_extension": ".py",
   "mimetype": "text/x-python",
   "name": "python",
   "nbconvert_exporter": "python",
   "pygments_lexer": "ipython3",
   "version": "3.6.5"
  }
 },
 "nbformat": 4,
 "nbformat_minor": 2
}
