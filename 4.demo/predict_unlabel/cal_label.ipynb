{
 "cells": [
  {
   "cell_type": "code",
   "execution_count": 1,
   "metadata": {},
   "outputs": [],
   "source": [
    "import pandas as pd \n",
    "import os"
   ]
  },
  {
   "cell_type": "code",
   "execution_count": 4,
   "metadata": {},
   "outputs": [
    {
     "name": "stdout",
     "output_type": "stream",
     "text": [
      "['pred_26.csv', 'pred_11.csv', 'pred_31.csv', 'pred_34.csv', 'pred_10.csv', 'pred_4.csv', 'pred_19.csv', 'pred_13.csv', 'pred_12.csv', 'pred_27.csv', 'pred_23.csv', 'pred_9.csv', '.ipynb_checkpoints', 'pred_29.csv', 'pred_33.csv', 'pred_20.csv', 'pred_32.csv', 'pred_3.csv', 'pred_15.csv', 'pred_8.csv', 'pred_35.csv', 'pred_25.csv', 'pred_17.csv', 'pred_1.csv', 'pred_2.csv', 'pred_7.csv', 'pred_0.csv', 'pred_30.csv', 'pred_16.csv', 'pred_18.csv', 'pred_28.csv', 'pred_21.csv', 'pred_5.csv', 'pred_14.csv', 'pred_22.csv', 'pred_6.csv', 'pred_24.csv']\n"
     ]
    }
   ],
   "source": [
    "files = os.listdir('./preds')\n",
    "print(files)\n",
    "pred = pd.read_csv('./preds/'+files[0])\n",
    "id = pred.id\n",
    "score = pred.prob\n",
    "for f in files[1:]:\n",
    "    if f == '.ipynb_checkpoints':\n",
    "        continue\n",
    "    pred = pd.read_csv('./preds/'+f)\n",
    "    score += pred.prob\n",
    "\n",
    "score /= len(files)\n",
    "pred = pd.DataFrame(id,columns=['id'])\n",
    "pred['prob'] = score\n",
    "pred.to_csv('pred.csv',index=None,encoding='utf-8')\n"
   ]
  },
  {
   "cell_type": "code",
   "execution_count": null,
   "metadata": {},
   "outputs": [],
   "source": []
  },
  {
   "cell_type": "code",
   "execution_count": 8,
   "metadata": {},
   "outputs": [],
   "source": []
  },
  {
   "cell_type": "code",
   "execution_count": null,
   "metadata": {},
   "outputs": [],
   "source": []
  }
 ],
 "metadata": {
  "kernelspec": {
   "display_name": "Python 3",
   "language": "python",
   "name": "python3"
  },
  "language_info": {
   "codemirror_mode": {
    "name": "ipython",
    "version": 3
   },
   "file_extension": ".py",
   "mimetype": "text/x-python",
   "name": "python",
   "nbconvert_exporter": "python",
   "pygments_lexer": "ipython3",
   "version": "3.6.5"
  }
 },
 "nbformat": 4,
 "nbformat_minor": 2
}
