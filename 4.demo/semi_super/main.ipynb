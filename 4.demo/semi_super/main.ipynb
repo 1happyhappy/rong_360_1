{
 "cells": [
  {
   "cell_type": "markdown",
   "metadata": {},
   "source": [
    "### 半监督学习"
   ]
  },
  {
   "cell_type": "code",
   "execution_count": 6,
   "metadata": {},
   "outputs": [],
   "source": [
    "import joblib\n",
    "import pandas as pd\n",
    "from sklearn.model_selection import train_test_split \n",
    "import numpy as np\n",
    "import time"
   ]
  },
  {
   "cell_type": "markdown",
   "metadata": {},
   "source": [
    "#### 加载数据"
   ]
  },
  {
   "cell_type": "code",
   "execution_count": 7,
   "metadata": {},
   "outputs": [],
   "source": [
    "# 计时器\n",
    "def timer (func):\n",
    "    def wrapper(*args,**kwargs): \n",
    "        start = time.time()\n",
    "        result = func(*args,**kwargs)\n",
    "        end = time.time()\n",
    "        print(func.__name__+'运行时间：',end-start)\n",
    "        return result\n",
    "    return wrapper\n",
    "\n",
    "@timer\n",
    "def load_train():\n",
    "    # 导入数据\n",
    "    y_train_df = pd.read_csv('../../preprocess_data/train_y_33465.csv',usecols=['label'])\n",
    "    x_train_df = joblib.load('./x_train.lz4')\n",
    "    x_train_df = x_train_df.fillna(-1)\n",
    "\n",
    "    x_train_arr = x_train_df.values\n",
    "    y_train_arr = y_train_df.values.ravel()\n",
    "    return x_train_arr,y_train_arr\n",
    "\n",
    "@timer\n",
    "def load_unlabel():\n",
    "    prob_unlabel_df = pd.read_csv('../predict_unlabel/preds/unlabel_pred.csv',usecols=['prob'])\n",
    "    x_unlabel_df = joblib.load('./x_unlabel.lz4')\n",
    "    unlabel_df = pd.concat([x_unlabel_df,prob_unlabel_df],axis=1)\n",
    "    unlabel_df = unlabel_df.sort_values(by=['prob'],ascending=False)\n",
    "    unlabel_df = unlabel_df.reset_index(drop=True)\n",
    "    unlabel_df = unlabel_df.fillna(-1)\n",
    "\n",
    "\n",
    "    y_unlabel_df = unlabel_df[['prob']].copy()\n",
    "    x_unlabel_df = unlabel_df.drop(columns=['prob'])\n",
    "\n",
    "    y_unlabel_df.loc[:int(0.1*len(y_unlabel_df)),'prob'] = 1\n",
    "    y_unlabel_df.loc[int(0.1*len(y_unlabel_df)):,'prob'] = 0\n",
    "    # 按prob 由高到低排列\n",
    "    x_unlabel_arr = x_unlabel_df.values\n",
    "    y_unlabel_arr = y_unlabel_df.values.ravel()\n",
    "\n",
    "\n",
    "    # 颠倒一下正负样本的先后次序\n",
    "    x_unlabel_0 = x_unlabel_arr[int(0.1*len(x_unlabel_df)):]\n",
    "    x_unlabel_1 = x_unlabel_arr[:int(0.1*len(x_unlabel_df))]\n",
    "    x_unlabel_arr = np.vstack((x_unlabel_0,x_unlabel_1))\n",
    "\n",
    "    y_unlabel_0 = y_unlabel_arr[int(0.1*len(y_unlabel_df)):]\n",
    "    y_unlabel_1 = y_unlabel_arr[:int(0.1*len(y_unlabel_df))]\n",
    "    y_unlabel_arr = np.hstack((y_unlabel_0,y_unlabel_1))\n",
    "    \n",
    "    return x_unlabel_arr,y_unlabel_arr,-int(0.1*len(x_unlabel_df))"
   ]
  },
  {
   "cell_type": "code",
   "execution_count": 8,
   "metadata": {},
   "outputs": [
    {
     "name": "stdout",
     "output_type": "stream",
     "text": [
      "load_train运行时间： 7.0759968757629395\n",
      "load_unlabel运行时间： 27.868000984191895\n"
     ]
    }
   ],
   "source": [
    "x_train_arr,y_train_arr = load_train()\n",
    "x_unlabel_arr,y_unlabel_arr,start = load_unlabel()"
   ]
  },
  {
   "cell_type": "code",
   "execution_count": 9,
   "metadata": {},
   "outputs": [],
   "source": [
    "START = start"
   ]
  },
  {
   "cell_type": "markdown",
   "metadata": {},
   "source": [
    "#### 半监督相关函数"
   ]
  },
  {
   "cell_type": "code",
   "execution_count": 10,
   "metadata": {},
   "outputs": [],
   "source": [
    "from sklearn import metrics\n",
    "from sklearn.ensemble import RandomForestClassifier\n",
    "import xgboost as xgb\n",
    "from sklearn.ensemble import GradientBoostingClassifier\n",
    "import lightgbm as lgb\n",
    "from sklearn.tree import DecisionTreeClassifier\n",
    "\n",
    "# @timer\n",
    "def gen_semiset(x_unlabel_arr,y_unlabel_arr,start=-6653,num=10,ratio=0.1):\n",
    "    num_0 = num-int(num*ratio)\n",
    "    num_1 = int(num*ratio)\n",
    "    tmp = x_unlabel_arr[start-num_0:start+num_1]\n",
    "    y_tmp = y_unlabel_arr[start-num_0:start+num_1]\n",
    "    return tmp,y_tmp\n",
    "\n",
    "# @timer\n",
    "def combine_data(x_train_arr,y_train_arr,tmp,y_tmp):\n",
    "\n",
    "\n",
    "    # 容易出错vstack hstack\n",
    "    x_train_tmp = np.vstack((x_train_arr,tmp))\n",
    "    y_train_tmp = np.hstack((y_train_arr,y_tmp))\n",
    "    return x_train_tmp,y_train_tmp\n",
    "\n",
    "# @timer\n",
    "def gen_local_train(x_unlabel_arr,y_unlabel_arr,x_train_arr,y_train_arr,\n",
    "                    start=-6653,num=10,ratio=0.1):\n",
    "    tmp,y_tmp = gen_semiset(x_unlabel_arr,y_unlabel_arr,start,num,ratio)\n",
    "    return combine_data(x_train_arr,y_train_arr,tmp,y_tmp)\n",
    "\n",
    "# @timer\n",
    "def stratify_split(x_train_arr,y_train_arr,random_state=3096,test_size=0.3):\n",
    "    # 层次划分出local test \n",
    "    \n",
    "    x_train_new, x_test_new, y_train_new, y_test_new = train_test_split(x_train_arr,\n",
    "                                                                        y_train_arr,\n",
    "                                                                        random_state=random_state,\n",
    "                                                                        test_size=test_size,\n",
    "                                                                        stratify=y_train_arr)\n",
    "    return  x_train_new, x_test_new, y_train_new, y_test_new\n",
    "\n",
    "\n",
    "# @timer\n",
    "def train(x_train,y_train,x_test,y_test,model_name='rfc'):\n",
    "    #2.建立模型 \n",
    "#     model_names = ['rfc','gbc','xgb','lgb','dtc']\n",
    "    if model_name == 'rfc':\n",
    "        # RandomForestClassifier\n",
    "        \n",
    "        rfc  =RandomForestClassifier(n_estimators=10,\n",
    "                                     n_jobs =32,\n",
    "                                     max_features='sqrt',\n",
    "                                     class_weight='balanced',\n",
    "#                                      verbose =1,\n",
    "                                     random_state=2018)\n",
    "    elif model_name == 'gbc':\n",
    "        \n",
    "        gbc = GradientBoostingClassifier(loss='deviance',learning_rate =0.1,n_estimators=300,subsample=0.9,max_depth=3,verbose=1,random_state=2018)\n",
    "    elif model_name == 'xgb':\n",
    "        \n",
    "        params={\n",
    "        'booster':'gbtree',\n",
    "        'objective': 'binary:logistic',\n",
    "        'early_stopping_rounds':100,\n",
    "        'scale_pos_weight': float(len(data_label)-np.sum(data_label.values))/float(np.sum(data_label.values)),  # 负例样本除以正例样本\n",
    "        'eval_metric': 'auc',\n",
    "        'gamma':1,\n",
    "        'max_depth':6,\n",
    "        'lambda':1,\n",
    "        'subsample':0.9,\n",
    "        'colsample_bytree':0.9,\n",
    "        'min_child_weight':1, \n",
    "        'eta': 0.04,\n",
    "        'seed':2010,\n",
    "        'nthread':32\n",
    "            }\n",
    "    elif model_name == 'lgb':\n",
    "        \n",
    "        parameters = {\n",
    "            'boost':'gbdt',\n",
    "            'num_leaves':135, \n",
    "            'scale_pos_weight':float(len(y_train)-np.sum(y_train.ravel()))/float(np.sum(y_train.ravel())),\n",
    "            'max_depth':-1,\n",
    "            'learning_rate':.05,\n",
    "            'max_bin':200,\n",
    "            'min_data_in_leaf' : 60,\n",
    "            'objective':'binary',\n",
    "            'metric':'auc',\n",
    "            'verbose':1,\n",
    "            'num_threads':36\n",
    "        }\n",
    "    elif model_name == 'dtc':\n",
    "        dtc = DecisionTreeClassifier(class_weight='balanced')\n",
    "    else:\n",
    "        pass\n",
    "\n",
    "    #3.训练模型\n",
    "#     print('开始训练！')\n",
    "    import joblib\n",
    "    if model_name == 'rfc':\n",
    "        rfc.fit(x_train,y_train)\n",
    "    #     joblib.dump(rfc,'./model/rfc_model')\n",
    "    elif model_name == 'gbc':\n",
    "        gbc.fit(x_train,y_train)\n",
    "    #     joblib.dump(gbc,'./model/rgbc_model')\n",
    "    elif model_name =='xgb':\n",
    "        dtrain = xgb.DMatrix(x_train,y_train)\n",
    "        dvalid = xgb.DMatrix(x_test,y_test)\n",
    "        dtest = xgb.DMatrix(x_test)\n",
    "        watchlist  = [(dvalid,'valid')]\n",
    "        xgb_model = xgb.train(params,dtrain,num_boost_round=300,evals=watchlist)\n",
    "    #     xgb_model.save_model('./model/xgb_model')\n",
    "    elif model_name == 'lgb':\n",
    "        lgb_train = lgb.Dataset(x_train, y_train.ravel())\n",
    "        lgb_model = lgb.train(parameters,lgb_train,num_boost_round=50)\n",
    "    #     lgb_model.save_model('./model/lgb_model')\n",
    "    elif model_name == 'dtc':\n",
    "        dtc.fit(x_train,y_train)\n",
    "    else:\n",
    "        pass\n",
    "    # lg.fit(x_train,y_train.ravel())\n",
    "    # lsvm.fit(x_train,y_train)\n",
    "    # history = model.fit(x_train,y_train,epochs=2,batch_size=1024,class_weight = 'auto',validation_data=(x_test,y_test))\n",
    "     #4.预测结果\n",
    "#     print('开始预测！')\n",
    "    if model_name=='rfc':\n",
    "        y_pre = rfc.predict_proba(x_test)[:,1]\n",
    "    elif model_name=='gbc':\n",
    "        y_pre = gbc.predict_proba(x_test)[:,1]\n",
    "    elif model_name=='xgb':\n",
    "        dtest = xgb.DMatrix(x_test)\n",
    "        y_pre = xgb_model.predict(dtest).ravel()\n",
    "    elif model_name=='lgb':\n",
    "        y_pre = lgb_model.predict(x_test)\n",
    "    elif model_name == 'dtc':\n",
    "        y_pre = dtc.predict(x_test)[:,1]\n",
    "    else:\n",
    "        pass\n",
    "    \n",
    "    auc = metrics.roc_auc_score(y_test, y_pre)\n",
    "#     print('AUC:',auc)\n",
    "    return auc\n",
    "        "
   ]
  },
  {
   "cell_type": "code",
   "execution_count": 11,
   "metadata": {},
   "outputs": [],
   "source": [
    "x_train_new, x_test_new, y_train_new, y_test_new = stratify_split(x_train_arr,y_train_arr,random_state=2018,test_size=0.3)"
   ]
  },
  {
   "cell_type": "code",
   "execution_count": 12,
   "metadata": {},
   "outputs": [],
   "source": [
    "\n",
    "def progress(percent,width=50):\n",
    "    '''进度打印功能'''\n",
    "    if percent >= 100:\n",
    "        percent=100\n",
    "  \n",
    "    show_str='[%-*s]' %(width,int(width * percent/100)*\">\") #字符串拼接的嵌套使用\n",
    "    print('\\r%s %d%%' %(show_str,percent),end='') # \\r 回到行首，覆盖之前的\n",
    "\n",
    "@timer\n",
    "def semi_train(iter=3,start=-6653,step=10,length=40,early_stop=120):\n",
    "    print('第{}轮：'.format(iter))\n",
    "    auc_list = []\n",
    "    num_list = []\n",
    "    early_tmp = 0\n",
    "    for num in range(0,length,step):\n",
    "        # ratio取值范围：1/16 ~1/10\n",
    "        x_train_tmp,y_train_tmp = gen_local_train(x_unlabel_arr,y_unlabel_arr,x_train_new,y_train_new,start,num,1/step)\n",
    "        auc = train(x_train_tmp,y_train_tmp,x_test_new,y_test_new,model_name='rfc')\n",
    "        auc_list.append(auc)\n",
    "        num_list.append(num)\n",
    "        # early_stopping 模块\n",
    "        if len(auc_list)<=1:\n",
    "            pass\n",
    "        \n",
    "        if (len(auc_list)>=2) and (auc_list[-1]<auc_list[-2]):\n",
    "            early_tmp += 1\n",
    "        else:\n",
    "            if early_tmp <=0 :\n",
    "                pass\n",
    "            else:\n",
    "                early_tmp -= 1 \n",
    "                \n",
    "        if early_tmp >= early_stop:\n",
    "            break\n",
    "        progress(int(num/length*100))\n",
    "        \n",
    "        # 分阶段保存\n",
    "        if num%int(length/20)==0:\n",
    "            log = dict(random_seed=2018,auc_list=auc_list,num_list=num_list)\n",
    "            joblib.dump(log,'./log{}'.format(iter))\n",
    "\n",
    "    log = dict(random_seed=2018,auc_list=auc_list,num_list=num_list)\n",
    "    joblib.dump(log,'./log{}'.format(iter))\n"
   ]
  },
  {
   "cell_type": "code",
   "execution_count": null,
   "metadata": {},
   "outputs": [
    {
     "name": "stdout",
     "output_type": "stream",
     "text": [
      "第5轮：\n",
      "[>>>>>>                                            ] 13%"
     ]
    }
   ],
   "source": [
    "params = [(6,30000),(8,30000),(10,30000),(12,30000),(14,30000),(16,30000)]\n",
    "for i in range(5,-1,-1):\n",
    "    step=params[i][0]\n",
    "    length=params[i][1]\n",
    "    early_stop=int(500/step)\n",
    "    semi_train(i,START,step,length,early_stop)"
   ]
  },
  {
   "cell_type": "code",
   "execution_count": 5,
   "metadata": {},
   "outputs": [
    {
     "data": {
      "text/plain": [
       "[5, 4, 3, 2, 1, 0]"
      ]
     },
     "execution_count": 5,
     "metadata": {},
     "output_type": "execute_result"
    }
   ],
   "source": [
    "[i for i in range(5,-1,-1)]"
   ]
  },
  {
   "cell_type": "code",
   "execution_count": 17,
   "metadata": {},
   "outputs": [
    {
     "name": "stdout",
     "output_type": "stream",
     "text": [
      "random_seed: 2018\n"
     ]
    },
    {
     "data": {
      "image/png": "[encoded data removed]",
      "text/plain": [
       "<Figure size 432x288 with 1 Axes>"
      ]
     },
     "metadata": {},
     "output_type": "display_data"
    }
   ],
   "source": [
    "show('log0')"
   ]
  },
  {
   "cell_type": "markdown",
   "metadata": {},
   "source": [
    "### 观察表现"
   ]
  },
  {
   "cell_type": "code",
   "execution_count": 16,
   "metadata": {},
   "outputs": [],
   "source": [
    "import joblib \n",
    "import matplotlib.pyplot as plt\n",
    "%matplotlib inline\n",
    "\n",
    "def show(log_path):\n",
    "    log= joblib.load(log_path)\n",
    "    print('random_seed:',log['random_seed'])\n",
    "    plt.plot(log['num_list'],pd.DataFrame(log['auc_list'],columns=['auc']).ewm(alpha=0.2).mean().values)"
   ]
  },
  {
   "cell_type": "markdown",
   "metadata": {},
   "source": [
    "### 第二组（ratio=1/16,random_seed = 2018,step = 16）"
   ]
  },
  {
   "cell_type": "code",
   "execution_count": 36,
   "metadata": {},
   "outputs": [],
   "source": [
    "# 保存\n",
    "import joblib \n",
    "log2 = dict(random_seed=2018,auc_list=auc_list,num_list=num_list)\n",
    "joblib.dump(log2,'./log2')\n"
   ]
  },
  {
   "cell_type": "code",
   "execution_count": 39,
   "metadata": {},
   "outputs": [
    {
     "name": "stdout",
     "output_type": "stream",
     "text": [
      "random_seed: 2018\n"
     ]
    },
    {
     "data": {
      "image/png": "[encoded data removed]",
      "text/plain": [
       "<Figure size 432x288 with 1 Axes>"
      ]
     },
     "metadata": {},
     "output_type": "display_data"
    }
   ],
   "source": [
    "show('log2')"
   ]
  },
  {
   "cell_type": "code",
   "execution_count": null,
   "metadata": {},
   "outputs": [],
   "source": []
  },
  {
   "cell_type": "markdown",
   "metadata": {},
   "source": [
    "### 第一组记录 (ratio=1/10,random_seed = 3096,step = 10)"
   ]
  },
  {
   "cell_type": "code",
   "execution_count": null,
   "metadata": {},
   "outputs": [],
   "source": [
    "# 保存\n",
    "import joblib \n",
    "log1 = dict(random_seed=3096,auc_list=auc_list,num_list=num_list)\n",
    "joblib.dump(log1,'./log1')"
   ]
  },
  {
   "cell_type": "code",
   "execution_count": 40,
   "metadata": {},
   "outputs": [
    {
     "name": "stdout",
     "output_type": "stream",
     "text": [
      "random_seed: 3096\n"
     ]
    },
    {
     "data": {
      "image/png": "[encoded data removed]",
      "text/plain": [
       "<Figure size 432x288 with 1 Axes>"
      ]
     },
     "metadata": {},
     "output_type": "display_data"
    }
   ],
   "source": [
    "show('log1')"
   ]
  },
  {
   "cell_type": "markdown",
   "metadata": {},
   "source": [
    "## 线上"
   ]
  },
  {
   "cell_type": "markdown",
   "metadata": {},
   "source": [
    "### xgb bagging"
   ]
  },
  {
   "cell_type": "code",
   "execution_count": 36,
   "metadata": {},
   "outputs": [],
   "source": [
    "test_id = pd.read_csv('../../preprocess_data_new/valid_date.csv',usecols=['id']).values.ravel()"
   ]
  },
  {
   "cell_type": "code",
   "execution_count": 37,
   "metadata": {},
   "outputs": [],
   "source": [
    "import xgboost as xgb\n",
    "dtrain = xgb.DMatrix(x, y, feature_names=list(data.columns))\n",
    "dtest = xgb.DMatrix(x_test, feature_names=list(valid.columns))"
   ]
  },
  {
   "cell_type": "code",
   "execution_count": 38,
   "metadata": {},
   "outputs": [],
   "source": [
    "def pipeline(dtrain,dtest,test_id,iteration,random_seed,gamma,max_depth,lambd,subsample,colsample_bytree,min_child_weight):\n",
    "    if max_depth==6:\n",
    "        num_boost_round = 210\n",
    "    elif max_depth==7:\n",
    "        num_boost_round = 180\n",
    "    elif max_depth==8:\n",
    "        num_boost_round = 150\n",
    "    \n",
    "    params={\n",
    "    'booster':'gbtree',\n",
    "    'objective': 'binary:logistic',\n",
    "    'early_stopping_rounds':100,\n",
    "    'scale_pos_weight': float(len(data_label)-np.sum(data_label.values))/float(np.sum(data_label.values)),  # 负例样本除以正例样本\n",
    "    'eval_metric': 'auc',\n",
    "    'gamma':gamma,\n",
    "    'max_depth':max_depth,\n",
    "    'lambda':lambd,\n",
    "    'subsample':subsample,\n",
    "    'colsample_bytree':colsample_bytree,\n",
    "    'min_child_weight':min_child_weight, \n",
    "    'eta': 0.04,\n",
    "    'seed':random_seed,\n",
    "    'nthread':32\n",
    "        }\n",
    "    watchlist  = [(dtrain,'train')]\n",
    "    model = xgb.train(params,dtrain,num_boost_round=num_boost_round,evals=watchlist)\n",
    "    model.save_model('./xgb_models1/xgb{0}.model'.format(iteration))\n",
    "    \n",
    "    #predict test set\n",
    "    test_y = model.predict(dtest)\n",
    "    test_result = pd.DataFrame(test_id,columns=[\"id\"])\n",
    "    test_result['score'] = test_y\n",
    "    test_result.to_csv(\"./xgb_preds1/xgb{0}.csv\".format(iteration),index=None,encoding='utf-8')\n",
    "    \n",
    "    #get feature score\n",
    "    feature_score = model.get_fscore()\n",
    "    feature_score = sorted(feature_score.items(), key=lambda x:x[1],reverse=True)\n",
    "    fs = []\n",
    "    for (key,value) in feature_score:\n",
    "        fs.append(\"{0},{1}\\n\".format(key,value))\n",
    "    \n",
    "    with open('./xgb_featurescores1/feature_score_{0}.csv'.format(iteration),'w') as f:\n",
    "        f.writelines(\"feature,score\\n\")\n",
    "        f.writelines(fs)"
   ]
  },
  {
   "cell_type": "code",
   "execution_count": 1,
   "metadata": {},
   "outputs": [],
   "source": [
    "%%time\n",
    "import sys,random\n",
    "\n",
    "random_seed = list(range(1000,2000,20))\n",
    "gamma = [i/1000.0 for i in range(100,200,2)]\n",
    "max_depth = [6,7,8]\n",
    "lambd = list(range(200,400,2))\n",
    "subsample = [i/1000.0 for i in range(600,700,2)]\n",
    "colsample_bytree = [i/1000.0 for i in range(250,350,2)]\n",
    "min_child_weight = [i/1000.0 for i in range(200,300,2)]\n",
    "random.shuffle(random_seed)\n",
    "random.shuffle(gamma)\n",
    "random.shuffle(max_depth)\n",
    "random.shuffle(lambd)\n",
    "random.shuffle(subsample)\n",
    "random.shuffle(colsample_bytree)\n",
    "random.shuffle(min_child_weight)\n",
    "\n",
    "with open('params.pkl','wb') as f:\n",
    "    joblib.dump((random_seed,gamma,max_depth,lambd,subsample,colsample_bytree,min_child_weight),f)\n",
    "\n",
    "#to reproduce my result, uncomment following lines\n",
    "\"\"\"\n",
    "with open('params_for_reproducing.pkl','rb') as f:\n",
    "    random_seed,gamma,max_depth,lambd,subsample,colsample_bytree,min_child_weight = pickle.load(f)    \n",
    "\"\"\"\n",
    "\n",
    "for i in range(36):\n",
    "    pipeline(dtrain,dtest,test_id,i,random_seed[i],gamma[i],max_depth[i%3],lambd[i],subsample[i],colsample_bytree[i],min_child_weight[i])"
   ]
  },
  {
   "cell_type": "code",
   "execution_count": 34,
   "metadata": {},
   "outputs": [],
   "source": [
    "def SelectModel(model_name):\n",
    "    if model_name == 'GBC':\n",
    "        from sklearn.ensemble import GradientBoostingClassifier\n",
    "        model = GradientBoostingClassifier(loss='deviance',\n",
    "                                           learning_rate =0.1,\n",
    "                                           n_estimators=300,\n",
    "                                           subsample=0.9,\n",
    "                                           max_depth=3,\n",
    "#                                            verbose=1,\n",
    "                                          random_state=2018)\n",
    "    elif model_name == 'XGB':\n",
    "        from xgboost import XGBClassifier\n",
    "\n",
    "        model = XGBClassifier(max_depth=6,\n",
    "                              learning_rate =0.04, \n",
    "                              booster='gbtree',\n",
    "                              objective='binary:logistic',\n",
    "                              early_stopping_rounds=100,\n",
    "                              scale_pos_weight=float(len(y_train)-np.sum(y_train))/float(np.sum(y_train)),\n",
    "                              eval_metric='auc',\n",
    "                              gamma=1,\n",
    "                              reg_lambda=1,\n",
    "                              subsample=0.9,\n",
    "                              min_child_weight=1,\n",
    "                              seed=2018,\n",
    "                              silent=False,\n",
    "                              n_jobs=36,\n",
    "                              num_boost_round =300\n",
    "                             )\n",
    "    elif model_name == 'RFC':\n",
    "        from sklearn.ensemble import RandomForestClassifier\n",
    "        model = RandomForestClassifier(n_estimators=1500,\n",
    "                                       n_jobs =36,\n",
    "                                       max_features='sqrt',\n",
    "                                       class_weight='balanced',\n",
    "                                       verbose =1,\n",
    "                                       random_state=2018)\n",
    "    elif model_name == 'LGB':\n",
    "        from lightgbm import LGBMClassifier\n",
    "        model = LGBMClassifier(boost='gbdt',\n",
    "                    num_leaves=135, \n",
    "                    scale_pos_weight=float(len(y_train)-np.sum(y_train.ravel()))/float(np.sum(y_train.ravel())),\n",
    "                    max_depth=-1,\n",
    "                    learning_rate=.04,\n",
    "                    max_bin=200,\n",
    "                    min_data_in_leaf= 60,\n",
    "                    objective='binary',\n",
    "                    metric='auc',\n",
    "                    num_threads=32,\n",
    "                    slient=False,\n",
    "                    num_boost_round =400)\n",
    "    else:\n",
    "        pass\n",
    "    return model\n",
    "\n",
    "def get_oof(clf,n_folds,x_train,y_train,x_test):\n",
    "    n_train = x_train.shape[0]\n",
    "    n_test = x_test.shape[0]\n",
    "    num_class = len(np.unique(y_train))\n",
    "    kf = KFold(n_splits=n_folds,random_state=2018)\n",
    "    oof_train = np.zeros((n_train,num_class-1))\n",
    "    oof_test = np.zeros((n_test,num_class-1))\n",
    "    \n",
    "    for i,(train_index,test_index)in enumerate(kf.split(x_train,y_train)):\n",
    "        print(i)\n",
    "        kf_x_train = x_train[train_index]\n",
    "        kf_y_train = y_train[train_index]\n",
    "        kf_x_test = x_train[test_index]\n",
    "        \n",
    "        clf.fit(kf_x_train,kf_y_train)\n",
    "        tmp_trafold = clf.predict_proba(kf_x_test)\n",
    "        tmp_test = clf.predict_proba(x_test)\n",
    "        if tmp_trafold.ndim != 1:\n",
    "            tmp_trafold = tmp_trafold[:,1:]\n",
    "            tmp_test = tmp_test[:,1:]\n",
    "        oof_train[test_index] = tmp_trafold\n",
    "        oof_test += tmp_test\n",
    "        \n",
    "    oof_test = oof_test/n_folds\n",
    "    return oof_train,oof_test\n"
   ]
  },
  {
   "cell_type": "code",
   "execution_count": null,
   "metadata": {},
   "outputs": [
    {
     "name": "stderr",
     "output_type": "stream",
     "text": [
      "[Parallel(n_jobs=36)]: Using backend ThreadingBackend with 36 concurrent workers.\n",
      "[Parallel(n_jobs=36)]: Done 128 tasks      | elapsed:    5.4s\n",
      "[Parallel(n_jobs=36)]: Done 378 tasks      | elapsed:   14.2s\n",
      "[Parallel(n_jobs=36)]: Done 728 tasks      | elapsed:   26.2s\n"
     ]
    }
   ],
   "source": [
    "%%time\n",
    "rfc_model = SelectModel('RFC')\n",
    "rfc_model.fit(x_train,y_train)\n",
    "joblib.dump(rfc_model,'rfc_model')\n",
    "\n",
    "lgb_model = SelectModel('LGB')\n",
    "lgb_model.fit(x_train,y_train)\n",
    "joblib.dump(lgb_model,'lgb_model')\n",
    "\n",
    "xgb_model = SelectModel('XGB')\n",
    "xgb_model.fit(x_train,y_train)\n",
    "joblib.dump(xgb_model,'xgb_model')\n",
    "\n",
    "gbc_model = SelectModel('GBC')\n",
    "gbc_model.fit(x_train,y_train)\n",
    "joblib.dump(gbc_model,'gbc_model')\n",
    "\n"
   ]
  },
  {
   "cell_type": "markdown",
   "metadata": {},
   "source": [
    "### voting"
   ]
  },
  {
   "cell_type": "code",
   "execution_count": 26,
   "metadata": {},
   "outputs": [],
   "source": [
    "test_id = pd.read_csv('../../preprocess_data_new/valid_date.csv',usecols=['id']).values.ravel()"
   ]
  },
  {
   "cell_type": "code",
   "execution_count": 1,
   "metadata": {},
   "outputs": [],
   "source": [
    "import joblib\n",
    "rfc_model = joblib.load('rfc_model')\n",
    "lgb_model = joblib.load('lgb_model')\n",
    "xgb_model = joblib.load('xgb_model')\n",
    "gbc_model = joblib.load('gbc_model')"
   ]
  },
  {
   "cell_type": "code",
   "execution_count": 29,
   "metadata": {},
   "outputs": [
    {
     "name": "stderr",
     "output_type": "stream",
     "text": [
      "[Parallel(n_jobs=36)]: Using backend ThreadingBackend with 36 concurrent workers.\n",
      "[Parallel(n_jobs=36)]: Done 128 tasks      | elapsed:    0.2s\n",
      "[Parallel(n_jobs=36)]: Done 378 tasks      | elapsed:    0.3s\n",
      "[Parallel(n_jobs=36)]: Done 728 tasks      | elapsed:    0.6s\n",
      "[Parallel(n_jobs=36)]: Done 1178 tasks      | elapsed:    0.9s\n",
      "[Parallel(n_jobs=36)]: Done 1500 out of 1500 | elapsed:    1.1s finished\n"
     ]
    }
   ],
   "source": [
    "rfc_pred = rfc_model.predict_proba(x_test[:,:10800])[:,1]\n",
    "lgb_pred = lgb_model.predict_proba(x_test)[:,1]\n",
    "xgb_pred = xgb_model.predict_proba(x_test)[:,1]\n",
    "gbc_pred = gbc_model.predict_proba(x_test)[:,1]"
   ]
  },
  {
   "cell_type": "code",
   "execution_count": 35,
   "metadata": {},
   "outputs": [],
   "source": [
    "pred = pd.DataFrame()\n",
    "pred['id'] = test_id\n",
    "pred['prob'] = (rfc_pred + lgb_pred + xgb_pred + gbc_pred)/4\n",
    "import os\n",
    "if not os.path.exists('./pred'):\n",
    "    os.mkdir('pred')\n",
    "pred.to_csv('./pred/voting_pred.txt',index=False)"
   ]
  },
  {
   "cell_type": "markdown",
   "metadata": {},
   "source": [
    "xgb_pred.to_csv('./pred/voting_pred.txt',index=False)"
   ]
  },
  {
   "cell_type": "code",
   "execution_count": 36,
   "metadata": {},
   "outputs": [],
   "source": [
    "rfc_res = pd.DataFrame()\n",
    "rfc_res['id'] = test_id\n",
    "rfc_res['prob'] = rfc_pred\n",
    "rfc_res.to_csv('./pred/rfc_res.txt',index=False)"
   ]
  },
  {
   "cell_type": "markdown",
   "metadata": {},
   "source": [
    "voting_pred AUC:0.8121\n",
    "rfc_res AUC:0.78029396528571"
   ]
  },
  {
   "cell_type": "code",
   "execution_count": 13,
   "metadata": {},
   "outputs": [],
   "source": [
    "feature_score = pd.Series(index=data.columns,data=rfc_model.feature_importances_)"
   ]
  },
  {
   "cell_type": "code",
   "execution_count": 29,
   "metadata": {},
   "outputs": [
    {
     "data": {
      "text/plain": [
       "sf5567    0.005345\n",
       "df5773    0.003776\n",
       "sf774     0.002786\n",
       "sf5322    0.002509\n",
       "sf3789    0.002225\n",
       "df5800    0.002219\n",
       "sf1930    0.002198\n",
       "sf6263    0.002123\n",
       "sf3890    0.002120\n",
       "sf2552    0.002108\n",
       "sf1554    0.002059\n",
       "sf6072    0.002029\n",
       "sf659     0.002025\n",
       "sf2668    0.002014\n",
       "sf6518    0.002003\n",
       "sf1228    0.001995\n",
       "sf2521    0.001975\n",
       "sf2145    0.001973\n",
       "sf3810    0.001955\n",
       "sf3267    0.001899\n",
       "sf46      0.001828\n",
       "sf3453    0.001703\n",
       "df1469    0.001689\n",
       "sf1561    0.001653\n",
       "sf4880    0.001606\n",
       "sf4968    0.001561\n",
       "sf3884    0.001554\n",
       "sf6437    0.001533\n",
       "sf3688    0.001502\n",
       "sf1276    0.001459\n",
       "            ...   \n",
       "df5223    0.000000\n",
       "df6256    0.000000\n",
       "df1785    0.000000\n",
       "df4222    0.000000\n",
       "df4223    0.000000\n",
       "mf2792    0.000000\n",
       "mf1582    0.000000\n",
       "mf2186    0.000000\n",
       "df1738    0.000000\n",
       "mf6468    0.000000\n",
       "mf6247    0.000000\n",
       "df1849    0.000000\n",
       "df6216    0.000000\n",
       "df1864    0.000000\n",
       "mf6052    0.000000\n",
       "df1992    0.000000\n",
       "df5197    0.000000\n",
       "mf6089    0.000000\n",
       "mf1646    0.000000\n",
       "mf2874    0.000000\n",
       "df1937    0.000000\n",
       "mf6138    0.000000\n",
       "mf2867    0.000000\n",
       "df5205    0.000000\n",
       "mf2852    0.000000\n",
       "df1922    0.000000\n",
       "df6249    0.000000\n",
       "mf6210    0.000000\n",
       "df1865    0.000000\n",
       "df1940    0.000000\n",
       "Length: 11334, dtype: float64"
      ]
     },
     "execution_count": 29,
     "metadata": {},
     "output_type": "execute_result"
    }
   ],
   "source": [
    "feature_score.sort_values(ascending=False) "
   ]
  },
  {
   "cell_type": "markdown",
   "metadata": {},
   "source": [
    "### 神经网络效果很差"
   ]
  },
  {
   "cell_type": "code",
   "execution_count": 45,
   "metadata": {},
   "outputs": [
    {
     "name": "stdout",
     "output_type": "stream",
     "text": [
      "Train on 23425 samples, validate on 10040 samples\n",
      "Epoch 1/10\n",
      "23425/23425 [==============================] - 2s 106us/step - loss: 14.7869 - acc: 0.0725 - val_loss: 14.7183 - val_acc: 0.0768\n",
      "Epoch 2/10\n",
      "23425/23425 [==============================] - 2s 100us/step - loss: 14.7869 - acc: 0.0725 - val_loss: 14.7183 - val_acc: 0.0768\n",
      "Epoch 3/10\n",
      "23425/23425 [==============================] - 2s 106us/step - loss: 14.7869 - acc: 0.0725 - val_loss: 14.7183 - val_acc: 0.0768\n",
      "Epoch 4/10\n",
      "23425/23425 [==============================] - 2s 89us/step - loss: 14.7869 - acc: 0.0725 - val_loss: 14.7183 - val_acc: 0.0768\n",
      "Epoch 5/10\n",
      "23425/23425 [==============================] - 3s 117us/step - loss: 14.7869 - acc: 0.0725 - val_loss: 14.7183 - val_acc: 0.0768\n",
      "Epoch 6/10\n",
      "23425/23425 [==============================] - 2s 89us/step - loss: 14.7869 - acc: 0.0725 - val_loss: 14.7183 - val_acc: 0.0768\n",
      "Epoch 7/10\n",
      "23425/23425 [==============================] - 2s 92us/step - loss: 14.7869 - acc: 0.0725 - val_loss: 14.7183 - val_acc: 0.0768\n",
      "Epoch 8/10\n",
      "23425/23425 [==============================] - 3s 108us/step - loss: 14.7869 - acc: 0.0725 - val_loss: 14.7183 - val_acc: 0.0768\n",
      "Epoch 9/10\n",
      "23425/23425 [==============================] - 2s 90us/step - loss: 14.7869 - acc: 0.0725 - val_loss: 14.7183 - val_acc: 0.0768\n",
      "Epoch 10/10\n",
      "23425/23425 [==============================] - 3s 107us/step - loss: 14.7869 - acc: 0.0725 - val_loss: 14.7183 - val_acc: 0.0768\n"
     ]
    }
   ],
   "source": [
    "from keras import models \n",
    "from keras import layers \n",
    "def build_model(): \n",
    "    model = models.Sequential() \n",
    "    model.add(layers.Dense(50,activation='relu',input_shape=(11334,))) \n",
    "    model.add(layers.Dense(20,activation='relu')) \n",
    "    model.add(layers.Dense(1,activation='sigmoid'))\n",
    "    \n",
    "    model.compile(optimizer='rmsprop',# 还可以通过optimizer = optimizers.RMSprop(lr=0.001)来为优化器指定参数 \n",
    "                  loss='binary_crossentropy', # 等价于loss = losses.binary_crossentropy \n",
    "                  metrics=['accuracy'] # 等价于metrics = [metircs.binary_accuracy]\n",
    "                  )  \n",
    "    return model \n",
    "model = build_model()\n",
    "history = model.fit(x_train,y_train,epochs=10,batch_size=1024,class_weight = 'auto',validation_data=(x_test,y_test))"
   ]
  },
  {
   "cell_type": "code",
   "execution_count": 47,
   "metadata": {},
   "outputs": [],
   "source": [
    "y_pred = model.predict_proba(x_test)"
   ]
  },
  {
   "cell_type": "code",
   "execution_count": 48,
   "metadata": {},
   "outputs": [
    {
     "data": {
      "text/plain": [
       "0.49732174296011206"
      ]
     },
     "execution_count": 48,
     "metadata": {},
     "output_type": "execute_result"
    }
   ],
   "source": [
    "# 评价指标 AUC\n",
    "from sklearn import metrics\n",
    "metrics.roc_auc_score(y_test,y_pred)"
   ]
  },
  {
   "cell_type": "code",
   "execution_count": 217,
   "metadata": {},
   "outputs": [
    {
     "name": "stdout",
     "output_type": "stream",
     "text": [
      "0\n",
      "1\n",
      "2\n",
      "3\n",
      "4\n",
      "0\n",
      "1\n",
      "2\n",
      "3\n",
      "4\n",
      "0\n"
     ]
    },
    {
     "name": "stderr",
     "output_type": "stream",
     "text": [
      "/usr/local/anaconda3/lib/python3.6/site-packages/lightgbm/engine.py:102: UserWarning: Found `num_boost_round` in params. Will use it instead of argument\n",
      "  warnings.warn(\"Found `{}` in params. Will use it instead of argument\".format(alias))\n"
     ]
    },
    {
     "name": "stdout",
     "output_type": "stream",
     "text": [
      "1\n"
     ]
    },
    {
     "name": "stderr",
     "output_type": "stream",
     "text": [
      "/usr/local/anaconda3/lib/python3.6/site-packages/lightgbm/engine.py:102: UserWarning: Found `num_boost_round` in params. Will use it instead of argument\n",
      "  warnings.warn(\"Found `{}` in params. Will use it instead of argument\".format(alias))\n"
     ]
    },
    {
     "name": "stdout",
     "output_type": "stream",
     "text": [
      "2\n"
     ]
    },
    {
     "name": "stderr",
     "output_type": "stream",
     "text": [
      "/usr/local/anaconda3/lib/python3.6/site-packages/lightgbm/engine.py:102: UserWarning: Found `num_boost_round` in params. Will use it instead of argument\n",
      "  warnings.warn(\"Found `{}` in params. Will use it instead of argument\".format(alias))\n"
     ]
    },
    {
     "name": "stdout",
     "output_type": "stream",
     "text": [
      "3\n"
     ]
    },
    {
     "name": "stderr",
     "output_type": "stream",
     "text": [
      "/usr/local/anaconda3/lib/python3.6/site-packages/lightgbm/engine.py:102: UserWarning: Found `num_boost_round` in params. Will use it instead of argument\n",
      "  warnings.warn(\"Found `{}` in params. Will use it instead of argument\".format(alias))\n"
     ]
    },
    {
     "name": "stdout",
     "output_type": "stream",
     "text": [
      "4\n"
     ]
    },
    {
     "name": "stderr",
     "output_type": "stream",
     "text": [
      "/usr/local/anaconda3/lib/python3.6/site-packages/lightgbm/engine.py:102: UserWarning: Found `num_boost_round` in params. Will use it instead of argument\n",
      "  warnings.warn(\"Found `{}` in params. Will use it instead of argument\".format(alias))\n"
     ]
    },
    {
     "name": "stdout",
     "output_type": "stream",
     "text": [
      "CPU times: user 12h 51min 2s, sys: 41min 56s, total: 13h 32min 59s\n",
      "Wall time: 33min 53s\n"
     ]
    }
   ],
   "source": [
    "%%time\n",
    "# 第一级\n",
    "model_list = ['XGB','RFC','LGB']\n",
    "new_train_list = []\n",
    "new_test_list = []\n",
    "for model in model_list:\n",
    "    clf = SelectModel(model)\n",
    "    oof_train,oof_test = get_oof(clf,5,x_train,y_train,x_test)\n",
    "#     oof_train,oof_test = get_oof(clf,5,x_resampled,y_resampled,x_test)\n",
    "    new_train_list.append(oof_train)\n",
    "    new_test_list.append(oof_test)"
   ]
  },
  {
   "cell_type": "code",
   "execution_count": 218,
   "metadata": {},
   "outputs": [],
   "source": [
    "new_train = np.hstack(tuple(new_train_list))\n",
    "new_test = np.hstack(tuple(new_test_list))"
   ]
  },
  {
   "cell_type": "code",
   "execution_count": null,
   "metadata": {},
   "outputs": [],
   "source": []
  },
  {
   "cell_type": "code",
   "execution_count": 219,
   "metadata": {},
   "outputs": [
    {
     "name": "stderr",
     "output_type": "stream",
     "text": [
      "/usr/local/anaconda3/lib/python3.6/site-packages/lightgbm/engine.py:102: UserWarning: Found `num_boost_round` in params. Will use it instead of argument\n",
      "  warnings.warn(\"Found `{}` in params. Will use it instead of argument\".format(alias))\n",
      "[Parallel(n_jobs=36)]: Done 128 tasks      | elapsed:    0.9s\n",
      "[Parallel(n_jobs=36)]: Done 378 tasks      | elapsed:    1.7s\n",
      "[Parallel(n_jobs=36)]: Done 728 tasks      | elapsed:    2.5s\n",
      "[Parallel(n_jobs=36)]: Done 800 out of 800 | elapsed:    2.7s finished\n"
     ]
    },
    {
     "name": "stdout",
     "output_type": "stream",
     "text": [
      "      Iter       Train Loss      OOB Improve   Remaining Time \n",
      "         1           0.4718           0.0134           21.06s\n",
      "         2           0.4568           0.0100           13.08s\n",
      "         3           0.4514           0.0083           10.43s\n",
      "         4           0.4447           0.0073            9.12s\n",
      "         5           0.4372           0.0061            8.32s\n",
      "         6           0.4321           0.0059            7.83s\n",
      "         7           0.4310           0.0040            7.45s\n",
      "         8           0.4205           0.0042            7.13s\n",
      "         9           0.4190           0.0036            6.90s\n",
      "        10           0.4175           0.0030            6.70s\n",
      "        20           0.3944           0.0012            5.66s\n",
      "        30           0.3844           0.0006            5.19s\n",
      "        40           0.3831           0.0003            4.88s\n",
      "        50           0.3799           0.0002            4.62s\n",
      "        60           0.3773          -0.0000            4.38s\n",
      "        70           0.3711          -0.0001            4.15s\n",
      "        80           0.3762           0.0000            3.93s\n",
      "        90           0.3751          -0.0000            3.74s\n",
      "       100           0.3739          -0.0000            3.53s\n",
      "       200           0.3628          -0.0000            1.81s\n",
      "       300           0.3567           0.0000            0.00s\n"
     ]
    },
    {
     "data": {
      "text/plain": [
       "LogisticRegression(C=1.0, class_weight='balanced', dual=False,\n",
       "          fit_intercept=True, intercept_scaling=1, max_iter=150,\n",
       "          multi_class='ovr', n_jobs=1, penalty='l2', random_state=2018,\n",
       "          solver='liblinear', tol=0.0001, verbose=0, warm_start=False)"
      ]
     },
     "execution_count": 219,
     "metadata": {},
     "output_type": "execute_result"
    }
   ],
   "source": [
    "# 第二级\n",
    "from lightgbm import LGBMClassifier\n",
    "lgb_model = LGBMClassifier(boost='gbdt',\n",
    "            num_leaves=145, \n",
    "            scale_pos_weight=float(len(y_train)-np.sum(y_train.ravel()))/float(np.sum(y_train.ravel())),\n",
    "            max_depth=3,\n",
    "            learning_rate=.01,\n",
    "            max_bin=200,\n",
    "            min_data_in_leaf= 3,\n",
    "            objective='binary',\n",
    "            metric='auc',\n",
    "            num_threads=32,\n",
    "            slient=False,\n",
    "            num_boost_round =120)\n",
    "lgb_model.fit(new_train,y_train)\n",
    "\n",
    "from sklearn.ensemble import RandomForestClassifier\n",
    "rfc_model = RandomForestClassifier(n_estimators=800,\n",
    "                               n_jobs =36,\n",
    "                               criterion='gini',\n",
    "                               max_depth=5,\n",
    "                               min_samples_split=8,\n",
    "                               max_features='sqrt',\n",
    "                               class_weight='balanced',\n",
    "                               verbose =1,\n",
    "                               random_state=2018)\n",
    "rfc_model.fit(new_train,y_train)\n",
    "\n",
    "from xgboost import XGBClassifier\n",
    "xgb_model = XGBClassifier(max_depth=3,\n",
    "                      learning_rate =0.02, \n",
    "                      booster='gbtree',\n",
    "                      objective='binary:logistic',\n",
    "                      early_stopping_rounds=100,\n",
    "                      scale_pos_weight=float(len(y_train)-np.sum(y_train))/float(np.sum(y_train)),\n",
    "                      eval_metric='auc',\n",
    "                      gamma=0.1,\n",
    "                      reg_lambda=1,\n",
    "                      subsample=0.9,\n",
    "                      min_child_weight=1,\n",
    "                      seed=2018,\n",
    "                      silent=False,\n",
    "                      n_jobs=24,\n",
    "                      num_boost_round =250\n",
    "                     )\n",
    "xgb_model.fit(new_train,y_train)\n",
    "\n",
    "\n",
    "from sklearn.ensemble import GradientBoostingClassifier\n",
    "gbc_model = GradientBoostingClassifier(loss='deviance',\n",
    "                                   learning_rate =0.05,\n",
    "                                   n_estimators=300,\n",
    "                                   subsample=0.9,\n",
    "                                   max_depth=3,\n",
    "                                   verbose=1,\n",
    "                                  random_state=2018)\n",
    "gbc_model.fit(new_train,y_train)\n",
    "\n",
    "from sklearn.linear_model import LogisticRegression\n",
    "lg_model = LogisticRegression(penalty='l2',\n",
    "                        class_weight='balanced',\n",
    "                        random_state=2018,\n",
    "                        solver='liblinear',\n",
    "                        max_iter=150)\n",
    "lg_model.fit(new_train,y_train)\n",
    "\n"
   ]
  },
  {
   "cell_type": "code",
   "execution_count": 226,
   "metadata": {},
   "outputs": [],
   "source": [
    "# y_pred = lgb_model.predict_proba(new_test)[:,1] + \\\n",
    "#          rfc_model.predict_proba(new_test)[:,1] + \\\n",
    "#          lgb_model.predict_proba(new_test)[:,1] + \\\n",
    "#          3*gbc_model.predict_proba(new_test)[:,1] + \\\n",
    "#          lg_model.predict_proba(new_test)[:,1]\n",
    "y_pred = lg_model.predict_proba(new_test)[:,1] "
   ]
  },
  {
   "cell_type": "code",
   "execution_count": 227,
   "metadata": {},
   "outputs": [],
   "source": [
    "stack_pred = pd.DataFrame({'id':test_id})\n",
    "stack_pred['prob'] = y_pred\n",
    "stack_pred.to_csv('stack_pred_lg.csv',index=False)"
   ]
  },
  {
   "cell_type": "markdown",
   "metadata": {},
   "source": [
    "线上分数：  \n",
    "stack_pred AUC:0.8297  \n",
    "stack_pred1 AUC: 0.82757885054343"
   ]
  },
  {
   "cell_type": "markdown",
   "metadata": {},
   "source": [
    "### 测试over sampling效果"
   ]
  },
  {
   "cell_type": "code",
   "execution_count": 269,
   "metadata": {},
   "outputs": [
    {
     "name": "stderr",
     "output_type": "stream",
     "text": [
      "[Parallel(n_jobs=36)]: Done 128 tasks      | elapsed:    1.5s\n",
      "[Parallel(n_jobs=36)]: Done 378 tasks      | elapsed:    4.1s\n",
      "[Parallel(n_jobs=36)]: Done 728 tasks      | elapsed:    7.7s\n",
      "[Parallel(n_jobs=36)]: Done 1000 out of 1000 | elapsed:   10.4s finished\n"
     ]
    },
    {
     "data": {
      "text/plain": [
       "RandomForestClassifier(bootstrap=True, class_weight='balanced',\n",
       "            criterion='gini', max_depth=5, max_features='sqrt',\n",
       "            max_leaf_nodes=None, min_impurity_decrease=0.0,\n",
       "            min_impurity_split=None, min_samples_leaf=1,\n",
       "            min_samples_split=8, min_weight_fraction_leaf=0.0,\n",
       "            n_estimators=1000, n_jobs=36, oob_score=False,\n",
       "            random_state=2018, verbose=1, warm_start=False)"
      ]
     },
     "execution_count": 269,
     "metadata": {},
     "output_type": "execute_result"
    }
   ],
   "source": [
    "from sklearn.ensemble import RandomForestClassifier\n",
    "rfc_model = RandomForestClassifier(n_estimators=1000,\n",
    "                               n_jobs =36,\n",
    "                               criterion='gini',\n",
    "                               max_depth=7,\n",
    "                               min_samples_split=8,\n",
    "                               max_features='sqrt',\n",
    "                               class_weight='balanced',\n",
    "                               verbose =1,\n",
    "                               random_state=2018)\n",
    "rfc_model.fit(x_train,y_train)"
   ]
  },
  {
   "cell_type": "code",
   "execution_count": 270,
   "metadata": {},
   "outputs": [
    {
     "name": "stderr",
     "output_type": "stream",
     "text": [
      "[Parallel(n_jobs=36)]: Done 128 tasks      | elapsed:    0.1s\n",
      "[Parallel(n_jobs=36)]: Done 378 tasks      | elapsed:    0.2s\n",
      "[Parallel(n_jobs=36)]: Done 728 tasks      | elapsed:    0.4s\n",
      "[Parallel(n_jobs=36)]: Done 1000 out of 1000 | elapsed:    0.6s finished\n"
     ]
    },
    {
     "data": {
      "text/plain": [
       "0.7669968586030466"
      ]
     },
     "execution_count": 270,
     "metadata": {},
     "output_type": "execute_result"
    }
   ],
   "source": [
    "y_pred = rfc_model.predict_proba(x_test)[:,1]# 评价指标 AUC\n",
    "from sklearn import metrics\n",
    "metrics.roc_auc_score(y_test,y_pred)"
   ]
  },
  {
   "cell_type": "markdown",
   "metadata": {},
   "source": [
    "over sampling AUC: 0.7483107140570182  \n",
    "raw  AUC: 0.774660626396733"
   ]
  },
  {
   "cell_type": "code",
   "execution_count": 252,
   "metadata": {},
   "outputs": [
    {
     "data": {
      "text/plain": [
       "21924.0"
      ]
     },
     "execution_count": 252,
     "metadata": {},
     "output_type": "execute_result"
    }
   ],
   "source": [
    "np.sum(y_resampled)"
   ]
  },
  {
   "cell_type": "code",
   "execution_count": null,
   "metadata": {},
   "outputs": [],
   "source": []
  }
 ],
 "metadata": {
  "kernelspec": {
   "display_name": "Python 3",
   "language": "python",
   "name": "python3"
  },
  "language_info": {
   "codemirror_mode": {
    "name": "ipython",
    "version": 3
   },
   "file_extension": ".py",
   "mimetype": "text/x-python",
   "name": "python",
   "nbconvert_exporter": "python",
   "pygments_lexer": "ipython3",
   "version": "3.6.5"
  }
 },
 "nbformat": 4,
 "nbformat_minor": 2
}
