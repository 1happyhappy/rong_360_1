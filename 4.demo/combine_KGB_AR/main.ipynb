{
 "cells": [
  {
   "cell_type": "code",
   "execution_count": 1,
   "metadata": {},
   "outputs": [],
   "source": [
    "import joblib\n",
    "import pandas as pd\n",
    "from sklearn.model_selection import train_test_split \n",
    "import numpy as np\n",
    "import time"
   ]
  },
  {
   "cell_type": "code",
   "execution_count": null,
   "metadata": {},
   "outputs": [],
   "source": [
    "alpha = 0.4"
   ]
  },
  {
   "cell_type": "code",
   "execution_count": null,
   "metadata": {},
   "outputs": [],
   "source": [
    "uid = pd.read_csv('../predict_unlabel/preds/unlabel_pred.csv',usecols=['id']).values.ravel()\n",
    "score_KGB = pd.read_csv('../predict_unlabel/preds/unlabel_pred.csv')['score']\n",
    "score_AR = pd.read_csv('../predict_tag_new/unlabel_tag_score.csv')['score']\n",
    "score_com = alpha*score_AR + (1-alpha)*score_KGB"
   ]
  },
  {
   "cell_type": "code",
   "execution_count": null,
   "metadata": {},
   "outputs": [],
   "source": [
    "score_com_df =pd.DataFrame()\n",
    "score_com_df['id'] = uid\n",
    "score_com_df['score'] = score_com\n",
    "score_com_df.to_csv('./score_com_df.csv',index=False)"
   ]
  }
 ],
 "metadata": {
  "kernelspec": {
   "display_name": "Python 3",
   "language": "python",
   "name": "python3"
  },
  "language_info": {
   "codemirror_mode": {
    "name": "ipython",
    "version": 3
   },
   "file_extension": ".py",
   "mimetype": "text/x-python",
   "name": "python",
   "nbconvert_exporter": "python",
   "pygments_lexer": "ipython3",
   "version": "3.6.5"
  }
 },
 "nbformat": 4,
 "nbformat_minor": 2
}
