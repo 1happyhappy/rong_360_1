{
 "cells": [
  {
   "cell_type": "code",
   "execution_count": 1,
   "metadata": {},
   "outputs": [],
   "source": [
    "import pandas as pd\n",
    "import numpy as np\n",
    "import joblib\n",
    "from sklearn.model_selection import KFold\n",
    "from sklearn.model_selection import train_test_split\n",
    "import matplotlib.pyplot as plt\n",
    "%matplotlib inline"
   ]
  },
  {
   "cell_type": "code",
   "execution_count": 2,
   "metadata": {},
   "outputs": [],
   "source": [
    "import time\n",
    "def timer(func):\n",
    "    def wrapper(*args,**kwargs):\n",
    "        start = time.time()\n",
    "        result = func(*args,**kwargs)\n",
    "        end = time.time()\n",
    "        print(func.__name__+'运行时间：',end-start)\n",
    "        return result\n",
    "    return wrapper"
   ]
  },
  {
   "cell_type": "markdown",
   "metadata": {},
   "source": [
    "### raw+tag 0.827"
   ]
  },
  {
   "cell_type": "code",
   "execution_count": 4,
   "metadata": {},
   "outputs": [
    {
     "data": {
      "text/plain": [
       "(33465, 6746)"
      ]
     },
     "execution_count": 4,
     "metadata": {},
     "output_type": "execute_result"
    }
   ],
   "source": [
    "data_raw = joblib.load('../../scrum_data/train_data/train_raw')\n",
    "data_tag = pd.read_csv('../../preprocess_data/train_x_33465.csv',usecols=['tag'])\n",
    "data = pd.concat([data_raw,data_tag],axis=1,copy=False)\n",
    "data_label = pd.read_csv('../../preprocess_data/train_y_33465.csv',usecols=['label'])\n",
    "x_df = data.fillna(-1)\n",
    "y = data_label.values.ravel()\n",
    "x_df.shape"
   ]
  },
  {
   "cell_type": "code",
   "execution_count": 5,
   "metadata": {},
   "outputs": [
    {
     "data": {
      "text/plain": [
       "['./train_data/data_raw_tag.lz4']"
      ]
     },
     "execution_count": 5,
     "metadata": {},
     "output_type": "execute_result"
    }
   ],
   "source": [
    "joblib.dump(data,'./train_data/data_raw_tag.lz4',compress='lz4')"
   ]
  },
  {
   "cell_type": "markdown",
   "metadata": {},
   "source": [
    "## nodup+tag 0.827"
   ]
  },
  {
   "cell_type": "code",
   "execution_count": 23,
   "metadata": {},
   "outputs": [
    {
     "data": {
      "text/plain": [
       "(33465, 6698)"
      ]
     },
     "execution_count": 23,
     "metadata": {},
     "output_type": "execute_result"
    }
   ],
   "source": [
    "data_nodup = joblib.load('../../scrum_data/train_data/train_nodup.lz4')\n",
    "data_tag = pd.read_csv('../../preprocess_data/train_x_33465.csv',usecols=['tag'])\n",
    "data = pd.concat([data_nodup,data_tag],axis=1,copy=False)\n",
    "data_label = pd.read_csv('../../preprocess_data/train_y_33465.csv',usecols=['label'])\n",
    "x_df = data.fillna(-1)\n",
    "y = data_label.values.ravel()\n",
    "x_df.shape"
   ]
  },
  {
   "cell_type": "markdown",
   "metadata": {},
   "source": [
    "### nodup+tag+date 0.828"
   ]
  },
  {
   "cell_type": "code",
   "execution_count": 3,
   "metadata": {},
   "outputs": [
    {
     "name": "stdout",
     "output_type": "stream",
     "text": [
      "CPU times: user 9.3 s, sys: 8.94 s, total: 18.2 s\n",
      "Wall time: 20 s\n"
     ]
    }
   ],
   "source": [
    "%%time\n",
    "data_nodup = joblib.load('../../scrum_data/train_data/train_nodup.lz4')\n",
    "data_tag = joblib.load('../../scrum_data/train_data/train_tag.lz4')\n",
    "data_date = joblib.load('../../scrum_data/train_data/train_date.lz4')\n",
    "data = pd.concat([data_nodup,data_tag,data_date],axis=1,copy=False)\n",
    "data_label = pd.read_csv('../../preprocess_data/train_y_33465.csv',usecols=['label'])\n",
    "x_df = data.fillna(-1)\n",
    "y = data_label.values.ravel()\n",
    "x_df.shape"
   ]
  },
  {
   "cell_type": "markdown",
   "metadata": {},
   "source": [
    "### nodup+tag+null 0.825"
   ]
  },
  {
   "cell_type": "code",
   "execution_count": 28,
   "metadata": {},
   "outputs": [
    {
     "name": "stdout",
     "output_type": "stream",
     "text": [
      "CPU times: user 4.19 s, sys: 1.37 s, total: 5.56 s\n",
      "Wall time: 5.56 s\n"
     ]
    }
   ],
   "source": [
    "%%time\n",
    "# data_nodup = joblib.load('../../scrum_data/train_data/train_nodup.lz4')\n",
    "# data_tag = joblib.load('../../scrum_data/train_data/train_tag.lz4')\n",
    "# data_null = joblib.load('../../scrum_data/train_data/train_null.lz4')\n",
    "data = pd.concat([data_nodup,data_tag,data_null],axis=1)\n",
    "data_label = pd.read_csv('../../preprocess_data/train_y_33465.csv',usecols=['label'])\n",
    "x_df = data.fillna(-1)\n",
    "y = data_label.values.ravel()\n",
    "x_df.shape"
   ]
  },
  {
   "cell_type": "markdown",
   "metadata": {},
   "source": [
    "### nodup+tag+week 0.824"
   ]
  },
  {
   "cell_type": "code",
   "execution_count": 24,
   "metadata": {},
   "outputs": [
    {
     "name": "stdout",
     "output_type": "stream",
     "text": [
      "CPU times: user 4.28 s, sys: 1.36 s, total: 5.64 s\n",
      "Wall time: 5.64 s\n"
     ]
    }
   ],
   "source": [
    "%%time\n",
    "# data_nodup = joblib.load('../../scrum_data/train_data/train_nodup.lz4')\n",
    "# data_tag = joblib.load('../../scrum_data/train_data/train_tag.lz4')\n",
    "data_week =joblib.load('../../scrum_data/train_data/train_week.lz4')\n",
    "data = pd.concat([data_nodup,data_tag,data_week],axis=1,copy=False)\n",
    "data_label = pd.read_csv('../../preprocess_data/train_y_33465.csv',usecols=['label'])\n",
    "x_df = data.fillna(-1)\n",
    "y = data_label.values.ravel()\n",
    "x_df.shape"
   ]
  },
  {
   "cell_type": "markdown",
   "metadata": {},
   "source": [
    "### nodup+tag+null_sign 0.826"
   ]
  },
  {
   "cell_type": "code",
   "execution_count": 20,
   "metadata": {},
   "outputs": [
    {
     "data": {
      "text/plain": [
       "(33465, 6788)"
      ]
     },
     "execution_count": 20,
     "metadata": {},
     "output_type": "execute_result"
    }
   ],
   "source": [
    "# data_nodup = joblib.load('../../scrum_data/train_data/train_nodup.lz4')\n",
    "# data_tag = joblib.load('../../scrum_data/train_data/train_tag.lz4')\n",
    "# data_date = joblib.load('../../scrum_data/train_data/train_date.lz4')\n",
    "data_null_sign = joblib.load('../../scrum_data/train_data/train_null_sign90.lz4')\n",
    "data = pd.concat([data_nodup,data_tag,data_null_sign],axis=1,copy=False)\n",
    "data_label = pd.read_csv('../../preprocess_data/train_y_33465.csv',usecols=['label'])\n",
    "x_df = data.fillna(-1)\n",
    "y = data_label.values.ravel()\n",
    "x_df.shape"
   ]
  },
  {
   "cell_type": "markdown",
   "metadata": {},
   "source": [
    "## nodup+tag+maj 0.830"
   ]
  },
  {
   "cell_type": "code",
   "execution_count": 32,
   "metadata": {},
   "outputs": [
    {
     "data": {
      "text/plain": [
       "(33465, 11328)"
      ]
     },
     "execution_count": 32,
     "metadata": {},
     "output_type": "execute_result"
    }
   ],
   "source": [
    "# data_nodup = joblib.load('../../scrum_data/train_data/train_nodup.lz4')\n",
    "# data_tag = joblib.load('../../scrum_data/train_data/train_tag.lz4')\n",
    "data_maj = joblib.load('../../scrum_data/train_data/train_maj.lz4')\n",
    "data = pd.concat([data_nodup,data_tag,data_maj],axis=1,copy=False)\n",
    "data_label = pd.read_csv('../../preprocess_data/train_y_33465.csv',usecols=['label'])\n",
    "x_df = data.fillna(-1)\n",
    "y = data_label.values.ravel()\n",
    "x_df.shape"
   ]
  },
  {
   "cell_type": "markdown",
   "metadata": {},
   "source": [
    "### nodup+tag+majcnt  0.830"
   ]
  },
  {
   "cell_type": "code",
   "execution_count": 36,
   "metadata": {},
   "outputs": [
    {
     "data": {
      "text/plain": [
       "(33465, 6700)"
      ]
     },
     "execution_count": 36,
     "metadata": {},
     "output_type": "execute_result"
    }
   ],
   "source": [
    "# data_nodup = joblib.load('../../scrum_data/train_data/train_nodup.lz4')\n",
    "# data_tag = joblib.load('../../scrum_data/train_data/train_tag.lz4')\n",
    "data_majcnt = joblib.load('../../scrum_data/train_data/train_majcnt.lz4')\n",
    "data = pd.concat([data_nodup,data_tag,data_majcnt],axis=1,copy=False)\n",
    "data_label = pd.read_csv('../../preprocess_data/train_y_33465.csv',usecols=['label'])\n",
    "x_df = data.fillna(-1)\n",
    "y = data_label.values.ravel()\n",
    "x_df.shape"
   ]
  },
  {
   "cell_type": "markdown",
   "metadata": {},
   "source": [
    "### 整合 0.827"
   ]
  },
  {
   "cell_type": "code",
   "execution_count": 40,
   "metadata": {},
   "outputs": [
    {
     "data": {
      "text/plain": [
       "(33465, 11425)"
      ]
     },
     "execution_count": 40,
     "metadata": {},
     "output_type": "execute_result"
    }
   ],
   "source": [
    "# data_nodup = joblib.load('../../scrum_data/train_data/train_nodup.lz4')\n",
    "# data_tag = joblib.load('../../scrum_data/train_data/train_tag.lz4')\n",
    "# data_date = joblib.load('../../scrum_data/train_data/train_date.lz4')\n",
    "# data_week =joblib.load('../../scrum_data/train_data/train_week.lz4')\n",
    "# data_null_sign = joblib.load('../../scrum_data/train_data/train_null_sign90.lz4')\n",
    "# data_maj = joblib.load('../../scrum_data/train_data/train_maj.lz4')\n",
    "# data_majcnt = joblib.load('../../scrum_data/train_data/train_majcnt.lz4')\n",
    "data = pd.concat([data_nodup,data_tag,data_date,data_week,data_null_sign,data_maj,data_majcnt],axis=1,copy=False)\n",
    "data_label = pd.read_csv('../../preprocess_data/train_y_33465.csv',usecols=['label'])\n",
    "x_df = data.fillna(-1)\n",
    "y = data_label.values.ravel()\n",
    "x_df.shape"
   ]
  },
  {
   "cell_type": "markdown",
   "metadata": {},
   "source": [
    "### 划分数据集"
   ]
  },
  {
   "cell_type": "code",
   "execution_count": 41,
   "metadata": {},
   "outputs": [
    {
     "name": "stdout",
     "output_type": "stream",
     "text": [
      "local_test运行时间： 12.69599962234497\n",
      "local_test运行时间： 0.856478214263916\n",
      "local_test运行时间： 26.00809621810913\n"
     ]
    }
   ],
   "source": [
    "def stratify_split(x_df,y,random_state=3096,test_size=0.3):\n",
    "    # 层次划分出local test \n",
    "    \n",
    "    x_train_df, x_test_df, y_train, y_test = train_test_split(x_df, y,\n",
    "                                                                random_state=random_state,\n",
    "                                                                test_size=test_size,\n",
    "                                                                stratify=y)\n",
    "    return  x_train_df, x_test_df, y_train, y_test\n",
    "\n",
    "\n",
    "def col_split(x_df,y,col):\n",
    "    '''根据列名分割数据，分为切割后的list'''\n",
    "    x_df['label'] = y\n",
    "    df = x_df\n",
    "    uniq_val = df[col].unique()\n",
    "    df_list = []\n",
    "    for val in uniq_val:\n",
    "        df_list.append(df[df[col]==val])\n",
    "    return df_list\n",
    "        \n",
    "@timer\n",
    "def local_test(x_df,y,split_by_cols=['tag','label']):\n",
    "    '''递归地按列名向下分割，直到只剩最后一个列名，做分层抽样，test_size=0.3'''\n",
    "    if split_by_cols == None:\n",
    "        return x_df,y\n",
    "    \n",
    "    col = split_by_cols[0]\n",
    "    if len(split_by_cols) == 1:\n",
    "        x_train_df, x_test_df, y_train, y_test = train_test_split(x_df, y,\n",
    "                                                                random_state=2018,\n",
    "                                                                test_size=0.3,\n",
    "                                                                stratify=y)\n",
    "        return x_train_df, x_test_df, y_train, y_test \n",
    "    \n",
    "    # cols多于1个\n",
    "    df_list = col_split(x_df,y,col)\n",
    "    x_train_df_list = []\n",
    "    x_test_df_list = []\n",
    "    y_train_list = [] \n",
    "    y_test_list = []\n",
    "    for df in df_list:\n",
    "        y_s = df.label.values.ravel()\n",
    "        x_df_s = df.drop(columns=['label'])\n",
    "        x_train_df, x_test_df, y_train, y_test = local_test(x_df_s,y_s,split_by_cols[1:])\n",
    "        \n",
    "        x_train_df_list.append(x_train_df)\n",
    "        x_test_df_list.append(x_test_df)\n",
    "        y_train_list.append(y_train)\n",
    "        y_test_list.append(y_test)\n",
    "    return pd.concat(x_train_df_list),pd.concat(x_test_df_list),np.hstack(y_train_list),np.hstack(y_test_list)\n",
    "\n",
    "x_train_df, x_test_df, y_train, y_test  = local_test(x_df,y,split_by_cols=['tag','label'])"
   ]
  },
  {
   "cell_type": "code",
   "execution_count": 42,
   "metadata": {},
   "outputs": [
    {
     "data": {
      "text/plain": [
       "((23425, 11425), (10040, 11425))"
      ]
     },
     "execution_count": 42,
     "metadata": {},
     "output_type": "execute_result"
    }
   ],
   "source": [
    "x_train_df.shape,x_test_df.shape"
   ]
  },
  {
   "cell_type": "code",
   "execution_count": 43,
   "metadata": {},
   "outputs": [
    {
     "name": "stdout",
     "output_type": "stream",
     "text": [
      "[1]\ttraining's auc: 0.893824\tvalid_1's auc: 0.706267\n",
      "[2]\ttraining's auc: 0.937212\tvalid_1's auc: 0.736648\n",
      "[3]\ttraining's auc: 0.956641\tvalid_1's auc: 0.755005\n",
      "[4]\ttraining's auc: 0.969018\tvalid_1's auc: 0.767076\n",
      "[5]\ttraining's auc: 0.976134\tvalid_1's auc: 0.776127\n",
      "[6]\ttraining's auc: 0.980708\tvalid_1's auc: 0.779148\n",
      "[7]\ttraining's auc: 0.98436\tvalid_1's auc: 0.783362\n",
      "[8]\ttraining's auc: 0.986688\tvalid_1's auc: 0.786472\n",
      "[9]\ttraining's auc: 0.988502\tvalid_1's auc: 0.788625\n",
      "[10]\ttraining's auc: 0.98993\tvalid_1's auc: 0.7899\n",
      "[11]\ttraining's auc: 0.991069\tvalid_1's auc: 0.792055\n",
      "[12]\ttraining's auc: 0.992008\tvalid_1's auc: 0.793756\n",
      "[13]\ttraining's auc: 0.992643\tvalid_1's auc: 0.794868\n",
      "[14]\ttraining's auc: 0.993324\tvalid_1's auc: 0.795304\n",
      "[15]\ttraining's auc: 0.993954\tvalid_1's auc: 0.796513\n",
      "[16]\ttraining's auc: 0.99454\tvalid_1's auc: 0.797704\n",
      "[17]\ttraining's auc: 0.995058\tvalid_1's auc: 0.799592\n",
      "[18]\ttraining's auc: 0.995321\tvalid_1's auc: 0.799642\n",
      "[19]\ttraining's auc: 0.995749\tvalid_1's auc: 0.800424\n",
      "[20]\ttraining's auc: 0.996117\tvalid_1's auc: 0.801199\n",
      "[21]\ttraining's auc: 0.996514\tvalid_1's auc: 0.802057\n",
      "[22]\ttraining's auc: 0.996756\tvalid_1's auc: 0.802895\n",
      "[23]\ttraining's auc: 0.997031\tvalid_1's auc: 0.803761\n",
      "[24]\ttraining's auc: 0.997225\tvalid_1's auc: 0.804847\n",
      "[25]\ttraining's auc: 0.997361\tvalid_1's auc: 0.805594\n",
      "[26]\ttraining's auc: 0.997537\tvalid_1's auc: 0.806249\n",
      "[27]\ttraining's auc: 0.997695\tvalid_1's auc: 0.807079\n",
      "[28]\ttraining's auc: 0.997991\tvalid_1's auc: 0.807631\n",
      "[29]\ttraining's auc: 0.998137\tvalid_1's auc: 0.807832\n",
      "[30]\ttraining's auc: 0.9983\tvalid_1's auc: 0.807996\n",
      "[31]\ttraining's auc: 0.998431\tvalid_1's auc: 0.808501\n",
      "[32]\ttraining's auc: 0.998585\tvalid_1's auc: 0.809037\n",
      "[33]\ttraining's auc: 0.998701\tvalid_1's auc: 0.809814\n",
      "[34]\ttraining's auc: 0.99878\tvalid_1's auc: 0.810228\n",
      "[35]\ttraining's auc: 0.998931\tvalid_1's auc: 0.81073\n",
      "[36]\ttraining's auc: 0.998983\tvalid_1's auc: 0.810997\n",
      "[37]\ttraining's auc: 0.999124\tvalid_1's auc: 0.811636\n",
      "[38]\ttraining's auc: 0.999236\tvalid_1's auc: 0.812075\n",
      "[39]\ttraining's auc: 0.999306\tvalid_1's auc: 0.812461\n",
      "[40]\ttraining's auc: 0.999388\tvalid_1's auc: 0.812738\n",
      "[41]\ttraining's auc: 0.99945\tvalid_1's auc: 0.812811\n",
      "[42]\ttraining's auc: 0.999491\tvalid_1's auc: 0.813365\n",
      "[43]\ttraining's auc: 0.999534\tvalid_1's auc: 0.814112\n",
      "[44]\ttraining's auc: 0.999566\tvalid_1's auc: 0.814081\n",
      "[45]\ttraining's auc: 0.999604\tvalid_1's auc: 0.814657\n",
      "[46]\ttraining's auc: 0.999646\tvalid_1's auc: 0.815116\n",
      "[47]\ttraining's auc: 0.999676\tvalid_1's auc: 0.81593\n",
      "[48]\ttraining's auc: 0.999706\tvalid_1's auc: 0.816377\n",
      "[49]\ttraining's auc: 0.999725\tvalid_1's auc: 0.816541\n",
      "[50]\ttraining's auc: 0.999751\tvalid_1's auc: 0.816897\n",
      "[51]\ttraining's auc: 0.999777\tvalid_1's auc: 0.817064\n",
      "[52]\ttraining's auc: 0.999798\tvalid_1's auc: 0.816899\n",
      "[53]\ttraining's auc: 0.99981\tvalid_1's auc: 0.81665\n",
      "[54]\ttraining's auc: 0.999843\tvalid_1's auc: 0.816552\n",
      "[55]\ttraining's auc: 0.999852\tvalid_1's auc: 0.817088\n",
      "[56]\ttraining's auc: 0.99986\tvalid_1's auc: 0.817076\n",
      "[57]\ttraining's auc: 0.99987\tvalid_1's auc: 0.817457\n",
      "[58]\ttraining's auc: 0.999881\tvalid_1's auc: 0.817236\n",
      "[59]\ttraining's auc: 0.999895\tvalid_1's auc: 0.817425\n",
      "[60]\ttraining's auc: 0.999906\tvalid_1's auc: 0.817923\n",
      "[61]\ttraining's auc: 0.999916\tvalid_1's auc: 0.817849\n",
      "[62]\ttraining's auc: 0.999927\tvalid_1's auc: 0.818501\n",
      "[63]\ttraining's auc: 0.999938\tvalid_1's auc: 0.818879\n",
      "[64]\ttraining's auc: 0.999949\tvalid_1's auc: 0.818945\n",
      "[65]\ttraining's auc: 0.999954\tvalid_1's auc: 0.819182\n",
      "[66]\ttraining's auc: 0.999962\tvalid_1's auc: 0.81929\n",
      "[67]\ttraining's auc: 0.999973\tvalid_1's auc: 0.819512\n",
      "[68]\ttraining's auc: 0.999974\tvalid_1's auc: 0.819432\n",
      "[69]\ttraining's auc: 0.999975\tvalid_1's auc: 0.819505\n",
      "[70]\ttraining's auc: 0.999975\tvalid_1's auc: 0.819773\n",
      "[71]\ttraining's auc: 0.999976\tvalid_1's auc: 0.819413\n",
      "[72]\ttraining's auc: 0.999978\tvalid_1's auc: 0.819697\n",
      "[73]\ttraining's auc: 0.999985\tvalid_1's auc: 0.819548\n",
      "[74]\ttraining's auc: 0.999985\tvalid_1's auc: 0.819896\n",
      "[75]\ttraining's auc: 0.999986\tvalid_1's auc: 0.820351\n",
      "[76]\ttraining's auc: 0.999988\tvalid_1's auc: 0.820389\n",
      "[77]\ttraining's auc: 0.999988\tvalid_1's auc: 0.82053\n",
      "[78]\ttraining's auc: 0.999987\tvalid_1's auc: 0.820718\n",
      "[79]\ttraining's auc: 0.999987\tvalid_1's auc: 0.820635\n",
      "[80]\ttraining's auc: 0.999988\tvalid_1's auc: 0.820998\n",
      "[81]\ttraining's auc: 0.99999\tvalid_1's auc: 0.820886\n",
      "[82]\ttraining's auc: 0.999991\tvalid_1's auc: 0.820804\n",
      "[83]\ttraining's auc: 0.999991\tvalid_1's auc: 0.820941\n",
      "[84]\ttraining's auc: 0.999991\tvalid_1's auc: 0.821025\n",
      "[85]\ttraining's auc: 0.999993\tvalid_1's auc: 0.821071\n",
      "[86]\ttraining's auc: 0.999996\tvalid_1's auc: 0.821502\n",
      "[87]\ttraining's auc: 0.999996\tvalid_1's auc: 0.821217\n",
      "[88]\ttraining's auc: 0.999996\tvalid_1's auc: 0.821627\n",
      "[89]\ttraining's auc: 0.999997\tvalid_1's auc: 0.821907\n",
      "[90]\ttraining's auc: 0.999997\tvalid_1's auc: 0.822333\n",
      "[91]\ttraining's auc: 0.999997\tvalid_1's auc: 0.822847\n",
      "[92]\ttraining's auc: 0.999998\tvalid_1's auc: 0.82302\n",
      "[93]\ttraining's auc: 0.999999\tvalid_1's auc: 0.822728\n",
      "[94]\ttraining's auc: 0.999999\tvalid_1's auc: 0.822458\n",
      "[95]\ttraining's auc: 0.999999\tvalid_1's auc: 0.822644\n",
      "[96]\ttraining's auc: 0.999999\tvalid_1's auc: 0.822887\n",
      "[97]\ttraining's auc: 0.999999\tvalid_1's auc: 0.822997\n",
      "[98]\ttraining's auc: 0.999999\tvalid_1's auc: 0.823001\n",
      "[99]\ttraining's auc: 0.999999\tvalid_1's auc: 0.823121\n",
      "[100]\ttraining's auc: 0.999999\tvalid_1's auc: 0.823233\n",
      "[101]\ttraining's auc: 0.999999\tvalid_1's auc: 0.82338\n",
      "[102]\ttraining's auc: 0.999999\tvalid_1's auc: 0.823449\n",
      "[103]\ttraining's auc: 1\tvalid_1's auc: 0.823214\n",
      "[104]\ttraining's auc: 1\tvalid_1's auc: 0.823321\n",
      "[105]\ttraining's auc: 1\tvalid_1's auc: 0.823829\n",
      "[106]\ttraining's auc: 1\tvalid_1's auc: 0.824187\n",
      "[107]\ttraining's auc: 1\tvalid_1's auc: 0.824347\n",
      "[108]\ttraining's auc: 1\tvalid_1's auc: 0.824518\n",
      "[109]\ttraining's auc: 1\tvalid_1's auc: 0.824892\n",
      "[110]\ttraining's auc: 1\tvalid_1's auc: 0.824863\n",
      "[111]\ttraining's auc: 1\tvalid_1's auc: 0.825001\n",
      "[112]\ttraining's auc: 1\tvalid_1's auc: 0.824858\n",
      "[113]\ttraining's auc: 1\tvalid_1's auc: 0.824912\n",
      "[114]\ttraining's auc: 1\tvalid_1's auc: 0.825156\n",
      "[115]\ttraining's auc: 1\tvalid_1's auc: 0.824813\n",
      "[116]\ttraining's auc: 1\tvalid_1's auc: 0.824923\n",
      "[117]\ttraining's auc: 1\tvalid_1's auc: 0.824853\n",
      "[118]\ttraining's auc: 1\tvalid_1's auc: 0.824848\n",
      "[119]\ttraining's auc: 1\tvalid_1's auc: 0.824918\n",
      "[120]\ttraining's auc: 1\tvalid_1's auc: 0.824996\n",
      "[121]\ttraining's auc: 1\tvalid_1's auc: 0.824697\n",
      "[122]\ttraining's auc: 1\tvalid_1's auc: 0.824693\n",
      "[123]\ttraining's auc: 1\tvalid_1's auc: 0.825092\n",
      "[124]\ttraining's auc: 1\tvalid_1's auc: 0.825306\n",
      "[125]\ttraining's auc: 1\tvalid_1's auc: 0.825442\n",
      "[126]\ttraining's auc: 1\tvalid_1's auc: 0.825388\n",
      "[127]\ttraining's auc: 1\tvalid_1's auc: 0.825165\n",
      "[128]\ttraining's auc: 1\tvalid_1's auc: 0.825172\n",
      "[129]\ttraining's auc: 1\tvalid_1's auc: 0.825207\n",
      "[130]\ttraining's auc: 1\tvalid_1's auc: 0.825136\n",
      "[131]\ttraining's auc: 1\tvalid_1's auc: 0.825261\n",
      "[132]\ttraining's auc: 1\tvalid_1's auc: 0.825171\n",
      "[133]\ttraining's auc: 1\tvalid_1's auc: 0.825431\n",
      "[134]\ttraining's auc: 1\tvalid_1's auc: 0.825565\n",
      "[135]\ttraining's auc: 1\tvalid_1's auc: 0.825565\n",
      "[136]\ttraining's auc: 1\tvalid_1's auc: 0.825587\n",
      "[137]\ttraining's auc: 1\tvalid_1's auc: 0.825991\n",
      "[138]\ttraining's auc: 1\tvalid_1's auc: 0.825928\n",
      "[139]\ttraining's auc: 1\tvalid_1's auc: 0.82595\n",
      "[140]\ttraining's auc: 1\tvalid_1's auc: 0.826144\n",
      "[141]\ttraining's auc: 1\tvalid_1's auc: 0.826041\n",
      "[142]\ttraining's auc: 1\tvalid_1's auc: 0.825929\n",
      "[143]\ttraining's auc: 1\tvalid_1's auc: 0.826136\n",
      "[144]\ttraining's auc: 1\tvalid_1's auc: 0.826181\n",
      "[145]\ttraining's auc: 1\tvalid_1's auc: 0.82612\n",
      "[146]\ttraining's auc: 1\tvalid_1's auc: 0.826201\n",
      "[147]\ttraining's auc: 1\tvalid_1's auc: 0.825957\n",
      "[148]\ttraining's auc: 1\tvalid_1's auc: 0.825766\n",
      "[149]\ttraining's auc: 1\tvalid_1's auc: 0.825778\n",
      "[150]\ttraining's auc: 1\tvalid_1's auc: 0.825599\n",
      "[151]\ttraining's auc: 1\tvalid_1's auc: 0.825713\n",
      "[152]\ttraining's auc: 1\tvalid_1's auc: 0.825884\n",
      "[153]\ttraining's auc: 1\tvalid_1's auc: 0.826058\n",
      "[154]\ttraining's auc: 1\tvalid_1's auc: 0.825987\n",
      "[155]\ttraining's auc: 1\tvalid_1's auc: 0.825813\n",
      "[156]\ttraining's auc: 1\tvalid_1's auc: 0.825852\n",
      "[157]\ttraining's auc: 1\tvalid_1's auc: 0.825882\n",
      "[158]\ttraining's auc: 1\tvalid_1's auc: 0.825907\n",
      "[159]\ttraining's auc: 1\tvalid_1's auc: 0.826053\n",
      "[160]\ttraining's auc: 1\tvalid_1's auc: 0.826427\n",
      "[161]\ttraining's auc: 1\tvalid_1's auc: 0.826323\n",
      "[162]\ttraining's auc: 1\tvalid_1's auc: 0.826193\n",
      "[163]\ttraining's auc: 1\tvalid_1's auc: 0.826359\n",
      "[164]\ttraining's auc: 1\tvalid_1's auc: 0.826347\n",
      "[165]\ttraining's auc: 1\tvalid_1's auc: 0.826399\n",
      "[166]\ttraining's auc: 1\tvalid_1's auc: 0.826642\n",
      "[167]\ttraining's auc: 1\tvalid_1's auc: 0.826476\n",
      "[168]\ttraining's auc: 1\tvalid_1's auc: 0.826418\n",
      "[169]\ttraining's auc: 1\tvalid_1's auc: 0.826505\n",
      "[170]\ttraining's auc: 1\tvalid_1's auc: 0.826386\n",
      "[171]\ttraining's auc: 1\tvalid_1's auc: 0.8265\n",
      "[172]\ttraining's auc: 1\tvalid_1's auc: 0.82644\n",
      "[173]\ttraining's auc: 1\tvalid_1's auc: 0.826373\n",
      "[174]\ttraining's auc: 1\tvalid_1's auc: 0.826537\n",
      "[175]\ttraining's auc: 1\tvalid_1's auc: 0.826568\n",
      "[176]\ttraining's auc: 1\tvalid_1's auc: 0.826694\n",
      "[177]\ttraining's auc: 1\tvalid_1's auc: 0.826789\n",
      "[178]\ttraining's auc: 1\tvalid_1's auc: 0.826572\n",
      "[179]\ttraining's auc: 1\tvalid_1's auc: 0.826615\n",
      "[180]\ttraining's auc: 1\tvalid_1's auc: 0.826856\n",
      "[181]\ttraining's auc: 1\tvalid_1's auc: 0.826864\n",
      "[182]\ttraining's auc: 1\tvalid_1's auc: 0.827034\n",
      "[183]\ttraining's auc: 1\tvalid_1's auc: 0.82721\n",
      "[184]\ttraining's auc: 1\tvalid_1's auc: 0.826922\n",
      "[185]\ttraining's auc: 1\tvalid_1's auc: 0.826729\n",
      "[186]\ttraining's auc: 1\tvalid_1's auc: 0.826964\n",
      "[187]\ttraining's auc: 1\tvalid_1's auc: 0.82693\n",
      "[188]\ttraining's auc: 1\tvalid_1's auc: 0.827068\n",
      "[189]\ttraining's auc: 1\tvalid_1's auc: 0.827042\n",
      "[190]\ttraining's auc: 1\tvalid_1's auc: 0.827275\n",
      "[191]\ttraining's auc: 1\tvalid_1's auc: 0.827248\n",
      "[192]\ttraining's auc: 1\tvalid_1's auc: 0.826993\n",
      "[193]\ttraining's auc: 1\tvalid_1's auc: 0.827009\n",
      "[194]\ttraining's auc: 1\tvalid_1's auc: 0.826793\n",
      "[195]\ttraining's auc: 1\tvalid_1's auc: 0.826594\n",
      "[196]\ttraining's auc: 1\tvalid_1's auc: 0.826533\n",
      "[197]\ttraining's auc: 1\tvalid_1's auc: 0.82656\n",
      "[198]\ttraining's auc: 1\tvalid_1's auc: 0.82675\n",
      "[199]\ttraining's auc: 1\tvalid_1's auc: 0.826851\n",
      "[200]\ttraining's auc: 1\tvalid_1's auc: 0.826826\n"
     ]
    }
   ],
   "source": [
    "import lightgbm as lgb\n",
    "parameters = {\n",
    "    'boost':'gbdt',\n",
    "    'num_leaves':120, \n",
    "    'scale_pos_weight':float(len(y)-np.sum(y))/float(np.sum(y)),\n",
    "    'max_depth':-1,\n",
    "    'learning_rate':.05,\n",
    "    'max_bin':200,\n",
    "    'min_data_in_leaf' : 100,\n",
    "    'objective':'binary',\n",
    "    'metric':'auc',\n",
    "    'num_threads':18\n",
    "}\n",
    "\n",
    "\n",
    "lgb_train = lgb.Dataset(x_train_df, y_train)\n",
    "lgb_test = lgb.Dataset(x_test_df, y_test,reference=lgb_train)\n",
    "evals_result = {}\n",
    "\n",
    "lgb_model = lgb.train(parameters,lgb_train,num_boost_round=200, \n",
    "                      valid_sets=[lgb_train, lgb_test],\n",
    "                      evals_result=evals_result,verbose_eval=1)"
   ]
  },
  {
   "cell_type": "markdown",
   "metadata": {},
   "source": [
    "## 绘制学习曲线"
   ]
  },
  {
   "cell_type": "code",
   "execution_count": 50,
   "metadata": {},
   "outputs": [
    {
     "data": {
      "text/plain": [
       "[<matplotlib.lines.Line2D at 0x7fccd7b62048>]"
      ]
     },
     "execution_count": 50,
     "metadata": {},
     "output_type": "execute_result"
    },
    {
     "data": {
      "image/png": "[encoded data removed]",
      "text/plain": [
       "<Figure size 432x288 with 1 Axes>"
      ]
     },
     "metadata": {},
     "output_type": "display_data"
    }
   ],
   "source": [
    "# plt.plot(evals_result['training']['auc'])\n",
    "plt.plot(evals_result['valid_1']['auc'])"
   ]
  },
  {
   "cell_type": "code",
   "execution_count": 21,
   "metadata": {},
   "outputs": [
    {
     "data": {
      "text/plain": [
       "dict_keys(['training', 'valid_1'])"
      ]
     },
     "execution_count": 21,
     "metadata": {},
     "output_type": "execute_result"
    }
   ],
   "source": [
    "evals_result.keys()"
   ]
  },
  {
   "cell_type": "code",
   "execution_count": null,
   "metadata": {},
   "outputs": [],
   "source": []
  }
 ],
 "metadata": {
  "kernelspec": {
   "display_name": "Python 3",
   "language": "python",
   "name": "python3"
  },
  "language_info": {
   "codemirror_mode": {
    "name": "ipython",
    "version": 3
   },
   "file_extension": ".py",
   "mimetype": "text/x-python",
   "name": "python",
   "nbconvert_exporter": "python",
   "pygments_lexer": "ipython3",
   "version": "3.6.5"
  }
 },
 "nbformat": 4,
 "nbformat_minor": 2
}
