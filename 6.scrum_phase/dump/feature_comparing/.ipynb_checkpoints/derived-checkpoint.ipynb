{
 "cells": [
  {
   "cell_type": "code",
   "execution_count": 1,
   "metadata": {},
   "outputs": [],
   "source": [
    "import pandas as pd\n",
    "import numpy as np\n",
    "import joblib\n",
    "from sklearn.model_selection import KFold\n",
    "from sklearn.model_selection import train_test_split\n",
    "import matplotlib.pyplot as plt\n",
    "%matplotlib inline"
   ]
  },
  {
   "cell_type": "code",
   "execution_count": 2,
   "metadata": {},
   "outputs": [],
   "source": [
    "import time\n",
    "def timer(func):\n",
    "    def wrapper(*args,**kwargs):\n",
    "        start = time.time()\n",
    "        result = func(*args,**kwargs)\n",
    "        end = time.time()\n",
    "        print(func.__name__+'运行时间：',end-start)\n",
    "        return result\n",
    "    return wrapper"
   ]
  },
  {
   "cell_type": "markdown",
   "metadata": {},
   "source": [
    "### date+week 0.61 0.55"
   ]
  },
  {
   "cell_type": "code",
   "execution_count": 14,
   "metadata": {},
   "outputs": [
    {
     "name": "stdout",
     "output_type": "stream",
     "text": [
      "CPU times: user 12 ms, sys: 4 ms, total: 16 ms\n",
      "Wall time: 16 ms\n"
     ]
    }
   ],
   "source": [
    "%%time\n",
    "data_date = joblib.load('../../scrum_data/train_data/train_date.lz4')\n",
    "data_week =joblib.load('../../scrum_data/train_data/train_week.lz4')\n",
    "data = pd.concat([data_date,data_week],axis=1,copy=False)\n",
    "data_label = pd.read_csv('../../preprocess_data/train_y_33465.csv',usecols=['label'])\n",
    "x_df = data.fillna(-1)\n",
    "y = data_label.values.ravel()\n",
    "x_df.shape"
   ]
  },
  {
   "cell_type": "markdown",
   "metadata": {},
   "source": [
    "### null+null_sign \n",
    "train: 0.998 0.68  \n",
    "cv: 0.7"
   ]
  },
  {
   "cell_type": "code",
   "execution_count": 22,
   "metadata": {},
   "outputs": [
    {
     "name": "stdout",
     "output_type": "stream",
     "text": [
      "CPU times: user 112 ms, sys: 16 ms, total: 128 ms\n",
      "Wall time: 209 ms\n"
     ]
    }
   ],
   "source": [
    "%%time\n",
    "data_null = joblib.load('../../scrum_data/train_data/train_null.lz4')\n",
    "data_null_sign = joblib.load('../../scrum_data/train_data/train_null_sign90.lz4')\n",
    "data = pd.concat([data_null,data_null_sign],axis=1)\n",
    "data_label = pd.read_csv('../../preprocess_data/train_y_33465.csv',usecols=['label'])\n",
    "x_df = data.fillna(-1)\n",
    "y = data_label.values.ravel()\n",
    "x_df.shape"
   ]
  },
  {
   "cell_type": "markdown",
   "metadata": {},
   "source": [
    "## maj+majcnt 1.0 0.8"
   ]
  },
  {
   "cell_type": "code",
   "execution_count": 22,
   "metadata": {},
   "outputs": [
    {
     "data": {
      "text/plain": [
       "(33465, 4632)"
      ]
     },
     "execution_count": 22,
     "metadata": {},
     "output_type": "execute_result"
    }
   ],
   "source": [
    "data_maj = joblib.load('../../scrum_data/train_data/train_maj.lz4')\n",
    "data_majcnt = joblib.load('../../scrum_data/train_data/train_majcnt.lz4')\n",
    "data = pd.concat([data_maj,data_majcnt],axis=1,copy=False)\n",
    "data_label = pd.read_csv('../../preprocess_data/train_y_33465.csv',usecols=['label'])\n",
    "x_df = data.fillna(-1)\n",
    "y = data_label.values.ravel()\n",
    "x_df.shape"
   ]
  },
  {
   "cell_type": "markdown",
   "metadata": {},
   "source": [
    "### cross_feature \n",
    "train: 1.0  0.837  \n",
    "cv: 0.838"
   ]
  },
  {
   "cell_type": "code",
   "execution_count": 17,
   "metadata": {},
   "outputs": [
    {
     "data": {
      "text/plain": [
       "(33465, 198)"
      ]
     },
     "execution_count": 17,
     "metadata": {},
     "output_type": "execute_result"
    }
   ],
   "source": [
    "data_cf_fs = joblib.load('../../scrum_data/train_data/train_cf_86_fs10.lz4')\n",
    "data = data_cf_fs\n",
    "data_label = pd.read_csv('../../preprocess_data/train_y_33465.csv',usecols=['label'])\n",
    "x_df = data.fillna(-1)\n",
    "y = data_label.values.ravel()\n",
    "x_df.shape"
   ]
  },
  {
   "cell_type": "markdown",
   "metadata": {},
   "source": [
    "### raw_fs_100 \n",
    "train：1.0 0.842  \n",
    "cv：0.835"
   ]
  },
  {
   "cell_type": "code",
   "execution_count": 12,
   "metadata": {},
   "outputs": [
    {
     "data": {
      "text/plain": [
       "(33465, 86)"
      ]
     },
     "execution_count": 12,
     "metadata": {},
     "output_type": "execute_result"
    }
   ],
   "source": [
    "data_fs_100 = joblib.load('../../scrum_data/train_data/train_fs_100.lz4')\n",
    "data = data_fs_100\n",
    "data_label = pd.read_csv('../../preprocess_data/train_y_33465.csv',usecols=['label'])\n",
    "x_df = data.fillna(-1)\n",
    "y = data_label.values.ravel()\n",
    "x_df.shape"
   ]
  },
  {
   "cell_type": "markdown",
   "metadata": {},
   "source": [
    "### 整合 0.827"
   ]
  },
  {
   "cell_type": "code",
   "execution_count": 40,
   "metadata": {},
   "outputs": [
    {
     "data": {
      "text/plain": [
       "(33465, 11425)"
      ]
     },
     "execution_count": 40,
     "metadata": {},
     "output_type": "execute_result"
    }
   ],
   "source": [
    "# data_nodup = joblib.load('../../scrum_data/train_data/train_nodup.lz4')\n",
    "# data_tag = joblib.load('../../scrum_data/train_data/train_tag.lz4')\n",
    "# data_date = joblib.load('../../scrum_data/train_data/train_date.lz4')\n",
    "# data_week =joblib.load('../../scrum_data/train_data/train_week.lz4')\n",
    "# data_null_sign = joblib.load('../../scrum_data/train_data/train_null_sign90.lz4')\n",
    "# data_maj = joblib.load('../../scrum_data/train_data/train_maj.lz4')\n",
    "# data_majcnt = joblib.load('../../scrum_data/train_data/train_majcnt.lz4')\n",
    "data = pd.concat([data_nodup,data_tag,data_date,data_week,data_null_sign,data_maj,data_majcnt],axis=1,copy=False)\n",
    "data_label = pd.read_csv('../../preprocess_data/train_y_33465.csv',usecols=['label'])\n",
    "x_df = data.fillna(-1)\n",
    "y = data_label.values.ravel()\n",
    "x_df.shape"
   ]
  },
  {
   "cell_type": "markdown",
   "metadata": {},
   "source": [
    "### 划分数据集"
   ]
  },
  {
   "cell_type": "code",
   "execution_count": 18,
   "metadata": {},
   "outputs": [
    {
     "name": "stdout",
     "output_type": "stream",
     "text": [
      "local_test运行时间： 0.06799745559692383\n"
     ]
    }
   ],
   "source": [
    "def stratify_split(x_df,y,random_state=3096,test_size=0.3):\n",
    "    # 层次划分出local test \n",
    "    \n",
    "    x_train_df, x_test_df, y_train, y_test = train_test_split(x_df, y,\n",
    "                                                                random_state=random_state,\n",
    "                                                                test_size=test_size,\n",
    "                                                                stratify=y)\n",
    "    return  x_train_df, x_test_df, y_train, y_test\n",
    "\n",
    "\n",
    "def col_split(x_df,y,col):\n",
    "    '''根据列名分割数据，分为切割后的list'''\n",
    "    x_df['label'] = y\n",
    "    df = x_df\n",
    "    uniq_val = df[col].unique()\n",
    "    df_list = []\n",
    "    for val in uniq_val:\n",
    "        df_list.append(df[df[col]==val])\n",
    "    return df_list\n",
    "        \n",
    "@timer\n",
    "def local_test(x_df,y,split_by_cols=['tag','label']):\n",
    "    '''递归地按列名向下分割，直到只剩最后一个列名，做分层抽样，test_size=0.3'''\n",
    "\n",
    "    mean_cols = list(set(split_by_cols)&set(x_df.columns))+['label']    \n",
    "    if len(mean_cols)==0:\n",
    "        return x_df,y\n",
    "\n",
    "    col = mean_cols[0]\n",
    "    if len(mean_cols) == 1:\n",
    "        x_train_df, x_test_df, y_train, y_test = train_test_split(x_df, y,\n",
    "                                                                random_state=2018,\n",
    "                                                                test_size=0.3,\n",
    "                                                                stratify=y)\n",
    "        return x_train_df, x_test_df, y_train, y_test \n",
    "    \n",
    "    # cols多于1个\n",
    "    df_list = col_split(x_df,y,col)\n",
    "    x_train_df_list = []\n",
    "    x_test_df_list = []\n",
    "    y_train_list = [] \n",
    "    y_test_list = []\n",
    "    for df in df_list:\n",
    "        y_s = df.label.values.ravel()\n",
    "        x_df_s = df.drop(columns=['label'])\n",
    "        x_train_df, x_test_df, y_train, y_test = local_test(x_df_s,y_s,split_by_cols[1:])\n",
    "        \n",
    "        x_train_df_list.append(x_train_df)\n",
    "        x_test_df_list.append(x_test_df)\n",
    "        y_train_list.append(y_train)\n",
    "        y_test_list.append(y_test)\n",
    "    return pd.concat(x_train_df_list),pd.concat(x_test_df_list),np.hstack(y_train_list),np.hstack(y_test_list)\n",
    "\n",
    "x_train_df, x_test_df, y_train, y_test  = local_test(x_df,y,split_by_cols=['tag','label'])"
   ]
  },
  {
   "cell_type": "code",
   "execution_count": 19,
   "metadata": {},
   "outputs": [
    {
     "data": {
      "text/plain": [
       "((23425, 198), (10040, 198))"
      ]
     },
     "execution_count": 19,
     "metadata": {},
     "output_type": "execute_result"
    }
   ],
   "source": [
    "x_train_df.shape,x_test_df.shape"
   ]
  },
  {
   "cell_type": "markdown",
   "metadata": {},
   "source": [
    "### 本地验证集"
   ]
  },
  {
   "cell_type": "code",
   "execution_count": 20,
   "metadata": {},
   "outputs": [
    {
     "name": "stdout",
     "output_type": "stream",
     "text": [
      "[1]\ttraining's auc: 0.879936\tvalid_1's auc: 0.738578\n",
      "[2]\ttraining's auc: 0.915838\tvalid_1's auc: 0.763298\n",
      "[3]\ttraining's auc: 0.934858\tvalid_1's auc: 0.778211\n",
      "[4]\ttraining's auc: 0.946465\tvalid_1's auc: 0.785486\n",
      "[5]\ttraining's auc: 0.954941\tvalid_1's auc: 0.793217\n",
      "[6]\ttraining's auc: 0.960373\tvalid_1's auc: 0.795868\n",
      "[7]\ttraining's auc: 0.9649\tvalid_1's auc: 0.800244\n",
      "[8]\ttraining's auc: 0.968322\tvalid_1's auc: 0.803377\n",
      "[9]\ttraining's auc: 0.971514\tvalid_1's auc: 0.807203\n",
      "[10]\ttraining's auc: 0.974084\tvalid_1's auc: 0.80988\n",
      "[11]\ttraining's auc: 0.975935\tvalid_1's auc: 0.808947\n",
      "[12]\ttraining's auc: 0.977529\tvalid_1's auc: 0.809271\n",
      "[13]\ttraining's auc: 0.978966\tvalid_1's auc: 0.810287\n",
      "[14]\ttraining's auc: 0.980404\tvalid_1's auc: 0.811168\n",
      "[15]\ttraining's auc: 0.981743\tvalid_1's auc: 0.811449\n",
      "[16]\ttraining's auc: 0.982797\tvalid_1's auc: 0.812214\n",
      "[17]\ttraining's auc: 0.983793\tvalid_1's auc: 0.813019\n",
      "[18]\ttraining's auc: 0.984535\tvalid_1's auc: 0.813336\n",
      "[19]\ttraining's auc: 0.985182\tvalid_1's auc: 0.812876\n",
      "[20]\ttraining's auc: 0.985908\tvalid_1's auc: 0.813156\n",
      "[21]\ttraining's auc: 0.986476\tvalid_1's auc: 0.813768\n",
      "[22]\ttraining's auc: 0.987211\tvalid_1's auc: 0.815052\n",
      "[23]\ttraining's auc: 0.98765\tvalid_1's auc: 0.815162\n",
      "[24]\ttraining's auc: 0.988128\tvalid_1's auc: 0.815402\n",
      "[25]\ttraining's auc: 0.988581\tvalid_1's auc: 0.816224\n",
      "[26]\ttraining's auc: 0.988948\tvalid_1's auc: 0.816869\n",
      "[27]\ttraining's auc: 0.989378\tvalid_1's auc: 0.817626\n",
      "[28]\ttraining's auc: 0.989806\tvalid_1's auc: 0.818396\n",
      "[29]\ttraining's auc: 0.990212\tvalid_1's auc: 0.818686\n",
      "[30]\ttraining's auc: 0.990537\tvalid_1's auc: 0.81941\n",
      "[31]\ttraining's auc: 0.990978\tvalid_1's auc: 0.819485\n",
      "[32]\ttraining's auc: 0.991296\tvalid_1's auc: 0.820058\n",
      "[33]\ttraining's auc: 0.991613\tvalid_1's auc: 0.820392\n",
      "[34]\ttraining's auc: 0.992027\tvalid_1's auc: 0.820834\n",
      "[35]\ttraining's auc: 0.992314\tvalid_1's auc: 0.821601\n",
      "[36]\ttraining's auc: 0.992673\tvalid_1's auc: 0.822136\n",
      "[37]\ttraining's auc: 0.992957\tvalid_1's auc: 0.822368\n",
      "[38]\ttraining's auc: 0.993195\tvalid_1's auc: 0.822649\n",
      "[39]\ttraining's auc: 0.99353\tvalid_1's auc: 0.822782\n",
      "[40]\ttraining's auc: 0.993874\tvalid_1's auc: 0.823523\n",
      "[41]\ttraining's auc: 0.994163\tvalid_1's auc: 0.824064\n",
      "[42]\ttraining's auc: 0.994371\tvalid_1's auc: 0.824617\n",
      "[43]\ttraining's auc: 0.994604\tvalid_1's auc: 0.824969\n",
      "[44]\ttraining's auc: 0.994898\tvalid_1's auc: 0.825179\n",
      "[45]\ttraining's auc: 0.995193\tvalid_1's auc: 0.825437\n",
      "[46]\ttraining's auc: 0.995454\tvalid_1's auc: 0.825556\n",
      "[47]\ttraining's auc: 0.995734\tvalid_1's auc: 0.825765\n",
      "[48]\ttraining's auc: 0.995964\tvalid_1's auc: 0.826178\n",
      "[49]\ttraining's auc: 0.996211\tvalid_1's auc: 0.826719\n",
      "[50]\ttraining's auc: 0.996324\tvalid_1's auc: 0.826693\n",
      "[51]\ttraining's auc: 0.996503\tvalid_1's auc: 0.826878\n",
      "[52]\ttraining's auc: 0.996666\tvalid_1's auc: 0.827138\n",
      "[53]\ttraining's auc: 0.996877\tvalid_1's auc: 0.827714\n",
      "[54]\ttraining's auc: 0.997099\tvalid_1's auc: 0.828332\n",
      "[55]\ttraining's auc: 0.997308\tvalid_1's auc: 0.828971\n",
      "[56]\ttraining's auc: 0.997495\tvalid_1's auc: 0.829066\n",
      "[57]\ttraining's auc: 0.997691\tvalid_1's auc: 0.829482\n",
      "[58]\ttraining's auc: 0.997876\tvalid_1's auc: 0.829848\n",
      "[59]\ttraining's auc: 0.998061\tvalid_1's auc: 0.829915\n",
      "[60]\ttraining's auc: 0.998205\tvalid_1's auc: 0.830005\n",
      "[61]\ttraining's auc: 0.998321\tvalid_1's auc: 0.830201\n",
      "[62]\ttraining's auc: 0.99841\tvalid_1's auc: 0.830485\n",
      "[63]\ttraining's auc: 0.998508\tvalid_1's auc: 0.830934\n",
      "[64]\ttraining's auc: 0.998633\tvalid_1's auc: 0.831172\n",
      "[65]\ttraining's auc: 0.998744\tvalid_1's auc: 0.831247\n",
      "[66]\ttraining's auc: 0.998837\tvalid_1's auc: 0.831571\n",
      "[67]\ttraining's auc: 0.998902\tvalid_1's auc: 0.831795\n",
      "[68]\ttraining's auc: 0.99902\tvalid_1's auc: 0.831841\n",
      "[69]\ttraining's auc: 0.999097\tvalid_1's auc: 0.831669\n",
      "[70]\ttraining's auc: 0.999161\tvalid_1's auc: 0.831959\n",
      "[71]\ttraining's auc: 0.999185\tvalid_1's auc: 0.832303\n",
      "[72]\ttraining's auc: 0.999233\tvalid_1's auc: 0.832431\n",
      "[73]\ttraining's auc: 0.999295\tvalid_1's auc: 0.832678\n",
      "[74]\ttraining's auc: 0.999338\tvalid_1's auc: 0.832985\n",
      "[75]\ttraining's auc: 0.999403\tvalid_1's auc: 0.832927\n",
      "[76]\ttraining's auc: 0.999429\tvalid_1's auc: 0.833075\n",
      "[77]\ttraining's auc: 0.999457\tvalid_1's auc: 0.832943\n",
      "[78]\ttraining's auc: 0.999491\tvalid_1's auc: 0.832952\n",
      "[79]\ttraining's auc: 0.999518\tvalid_1's auc: 0.833229\n",
      "[80]\ttraining's auc: 0.999542\tvalid_1's auc: 0.833279\n",
      "[81]\ttraining's auc: 0.99957\tvalid_1's auc: 0.833496\n",
      "[82]\ttraining's auc: 0.999588\tvalid_1's auc: 0.83355\n",
      "[83]\ttraining's auc: 0.999619\tvalid_1's auc: 0.833612\n",
      "[84]\ttraining's auc: 0.999635\tvalid_1's auc: 0.833608\n",
      "[85]\ttraining's auc: 0.999655\tvalid_1's auc: 0.833799\n",
      "[86]\ttraining's auc: 0.999681\tvalid_1's auc: 0.833839\n",
      "[87]\ttraining's auc: 0.999691\tvalid_1's auc: 0.834212\n",
      "[88]\ttraining's auc: 0.999718\tvalid_1's auc: 0.834322\n",
      "[89]\ttraining's auc: 0.999748\tvalid_1's auc: 0.834572\n",
      "[90]\ttraining's auc: 0.99976\tvalid_1's auc: 0.835205\n",
      "[91]\ttraining's auc: 0.999767\tvalid_1's auc: 0.835162\n",
      "[92]\ttraining's auc: 0.999799\tvalid_1's auc: 0.835572\n",
      "[93]\ttraining's auc: 0.999807\tvalid_1's auc: 0.835473\n",
      "[94]\ttraining's auc: 0.999817\tvalid_1's auc: 0.835761\n",
      "[95]\ttraining's auc: 0.999847\tvalid_1's auc: 0.83597\n",
      "[96]\ttraining's auc: 0.999863\tvalid_1's auc: 0.835855\n",
      "[97]\ttraining's auc: 0.999871\tvalid_1's auc: 0.835768\n",
      "[98]\ttraining's auc: 0.999884\tvalid_1's auc: 0.835829\n",
      "[99]\ttraining's auc: 0.999888\tvalid_1's auc: 0.835769\n",
      "[100]\ttraining's auc: 0.999905\tvalid_1's auc: 0.835993\n",
      "[101]\ttraining's auc: 0.999912\tvalid_1's auc: 0.83593\n",
      "[102]\ttraining's auc: 0.999913\tvalid_1's auc: 0.835725\n",
      "[103]\ttraining's auc: 0.999928\tvalid_1's auc: 0.835705\n",
      "[104]\ttraining's auc: 0.999938\tvalid_1's auc: 0.835663\n",
      "[105]\ttraining's auc: 0.999949\tvalid_1's auc: 0.83575\n",
      "[106]\ttraining's auc: 0.999961\tvalid_1's auc: 0.835746\n",
      "[107]\ttraining's auc: 0.999971\tvalid_1's auc: 0.835711\n",
      "[108]\ttraining's auc: 0.999971\tvalid_1's auc: 0.835807\n",
      "[109]\ttraining's auc: 0.999971\tvalid_1's auc: 0.835558\n",
      "[110]\ttraining's auc: 0.999976\tvalid_1's auc: 0.835629\n",
      "[111]\ttraining's auc: 0.999978\tvalid_1's auc: 0.835427\n",
      "[112]\ttraining's auc: 0.999976\tvalid_1's auc: 0.835581\n",
      "[113]\ttraining's auc: 0.999984\tvalid_1's auc: 0.835676\n",
      "[114]\ttraining's auc: 0.999985\tvalid_1's auc: 0.835444\n",
      "[115]\ttraining's auc: 0.999988\tvalid_1's auc: 0.835472\n",
      "[116]\ttraining's auc: 0.99999\tvalid_1's auc: 0.835634\n",
      "[117]\ttraining's auc: 0.999991\tvalid_1's auc: 0.835502\n",
      "[118]\ttraining's auc: 0.99999\tvalid_1's auc: 0.835528\n",
      "[119]\ttraining's auc: 0.999991\tvalid_1's auc: 0.835621\n",
      "[120]\ttraining's auc: 0.999993\tvalid_1's auc: 0.8357\n",
      "[121]\ttraining's auc: 0.999994\tvalid_1's auc: 0.835736\n",
      "[122]\ttraining's auc: 0.999994\tvalid_1's auc: 0.835836\n",
      "[123]\ttraining's auc: 0.999995\tvalid_1's auc: 0.835767\n",
      "[124]\ttraining's auc: 0.999996\tvalid_1's auc: 0.835995\n",
      "[125]\ttraining's auc: 0.999995\tvalid_1's auc: 0.835955\n",
      "[126]\ttraining's auc: 0.999996\tvalid_1's auc: 0.835918\n",
      "[127]\ttraining's auc: 0.999995\tvalid_1's auc: 0.836065\n",
      "[128]\ttraining's auc: 0.999995\tvalid_1's auc: 0.836042\n",
      "[129]\ttraining's auc: 0.999995\tvalid_1's auc: 0.836159\n",
      "[130]\ttraining's auc: 0.999995\tvalid_1's auc: 0.836058\n",
      "[131]\ttraining's auc: 0.999998\tvalid_1's auc: 0.836153\n",
      "[132]\ttraining's auc: 0.999998\tvalid_1's auc: 0.836379\n",
      "[133]\ttraining's auc: 0.999999\tvalid_1's auc: 0.836158\n",
      "[134]\ttraining's auc: 0.999998\tvalid_1's auc: 0.836063\n",
      "[135]\ttraining's auc: 0.999999\tvalid_1's auc: 0.836405\n",
      "[136]\ttraining's auc: 0.999999\tvalid_1's auc: 0.836446\n",
      "[137]\ttraining's auc: 0.999999\tvalid_1's auc: 0.836464\n",
      "[138]\ttraining's auc: 0.999999\tvalid_1's auc: 0.836454\n",
      "[139]\ttraining's auc: 0.999999\tvalid_1's auc: 0.836274\n",
      "[140]\ttraining's auc: 0.999999\tvalid_1's auc: 0.836353\n",
      "[141]\ttraining's auc: 0.999999\tvalid_1's auc: 0.83641\n",
      "[142]\ttraining's auc: 0.999999\tvalid_1's auc: 0.836463\n",
      "[143]\ttraining's auc: 0.999999\tvalid_1's auc: 0.836442\n",
      "[144]\ttraining's auc: 1\tvalid_1's auc: 0.836453\n",
      "[145]\ttraining's auc: 0.999999\tvalid_1's auc: 0.836478\n",
      "[146]\ttraining's auc: 1\tvalid_1's auc: 0.836465\n",
      "[147]\ttraining's auc: 1\tvalid_1's auc: 0.836752\n",
      "[148]\ttraining's auc: 1\tvalid_1's auc: 0.837033\n",
      "[149]\ttraining's auc: 1\tvalid_1's auc: 0.836945\n",
      "[150]\ttraining's auc: 1\tvalid_1's auc: 0.837169\n",
      "[151]\ttraining's auc: 1\tvalid_1's auc: 0.837122\n",
      "[152]\ttraining's auc: 1\tvalid_1's auc: 0.837241\n",
      "[153]\ttraining's auc: 1\tvalid_1's auc: 0.837302\n",
      "[154]\ttraining's auc: 1\tvalid_1's auc: 0.836985\n",
      "[155]\ttraining's auc: 1\tvalid_1's auc: 0.837113\n",
      "[156]\ttraining's auc: 1\tvalid_1's auc: 0.837172\n",
      "[157]\ttraining's auc: 1\tvalid_1's auc: 0.837027\n",
      "[158]\ttraining's auc: 1\tvalid_1's auc: 0.836972\n",
      "[159]\ttraining's auc: 1\tvalid_1's auc: 0.83691\n",
      "[160]\ttraining's auc: 1\tvalid_1's auc: 0.83693\n",
      "[161]\ttraining's auc: 1\tvalid_1's auc: 0.837025\n",
      "[162]\ttraining's auc: 1\tvalid_1's auc: 0.836855\n",
      "[163]\ttraining's auc: 1\tvalid_1's auc: 0.8367\n",
      "[164]\ttraining's auc: 1\tvalid_1's auc: 0.836746\n",
      "[165]\ttraining's auc: 1\tvalid_1's auc: 0.836789\n",
      "[166]\ttraining's auc: 1\tvalid_1's auc: 0.836763\n",
      "[167]\ttraining's auc: 1\tvalid_1's auc: 0.836647\n",
      "[168]\ttraining's auc: 1\tvalid_1's auc: 0.836558\n",
      "[169]\ttraining's auc: 1\tvalid_1's auc: 0.83645\n",
      "[170]\ttraining's auc: 1\tvalid_1's auc: 0.836604\n",
      "[171]\ttraining's auc: 1\tvalid_1's auc: 0.836828\n",
      "[172]\ttraining's auc: 1\tvalid_1's auc: 0.836707\n",
      "[173]\ttraining's auc: 1\tvalid_1's auc: 0.836637\n",
      "[174]\ttraining's auc: 1\tvalid_1's auc: 0.836788\n",
      "[175]\ttraining's auc: 1\tvalid_1's auc: 0.836735\n",
      "[176]\ttraining's auc: 1\tvalid_1's auc: 0.836821\n",
      "[177]\ttraining's auc: 1\tvalid_1's auc: 0.836848\n",
      "[178]\ttraining's auc: 1\tvalid_1's auc: 0.836941\n",
      "[179]\ttraining's auc: 1\tvalid_1's auc: 0.836998\n",
      "[180]\ttraining's auc: 1\tvalid_1's auc: 0.83721\n",
      "[181]\ttraining's auc: 1\tvalid_1's auc: 0.837105\n",
      "[182]\ttraining's auc: 1\tvalid_1's auc: 0.837208\n",
      "[183]\ttraining's auc: 1\tvalid_1's auc: 0.837267\n",
      "[184]\ttraining's auc: 1\tvalid_1's auc: 0.837219\n",
      "[185]\ttraining's auc: 1\tvalid_1's auc: 0.837355\n",
      "[186]\ttraining's auc: 1\tvalid_1's auc: 0.837433\n",
      "[187]\ttraining's auc: 1\tvalid_1's auc: 0.837477\n",
      "[188]\ttraining's auc: 1\tvalid_1's auc: 0.837253\n",
      "[189]\ttraining's auc: 1\tvalid_1's auc: 0.837255\n",
      "[190]\ttraining's auc: 1\tvalid_1's auc: 0.8373\n",
      "[191]\ttraining's auc: 1\tvalid_1's auc: 0.83739\n",
      "[192]\ttraining's auc: 1\tvalid_1's auc: 0.837338\n",
      "[193]\ttraining's auc: 1\tvalid_1's auc: 0.837344\n",
      "[194]\ttraining's auc: 1\tvalid_1's auc: 0.837259\n",
      "[195]\ttraining's auc: 1\tvalid_1's auc: 0.837151\n",
      "[196]\ttraining's auc: 1\tvalid_1's auc: 0.837242\n",
      "[197]\ttraining's auc: 1\tvalid_1's auc: 0.837327\n",
      "[198]\ttraining's auc: 1\tvalid_1's auc: 0.83713\n",
      "[199]\ttraining's auc: 1\tvalid_1's auc: 0.837117\n",
      "[200]\ttraining's auc: 1\tvalid_1's auc: 0.837122\n"
     ]
    }
   ],
   "source": [
    "import lightgbm as lgb\n",
    "parameters = {\n",
    "    'boost':'gbdt',\n",
    "    'num_leaves':120, \n",
    "    'scale_pos_weight':float(len(y)-np.sum(y))/float(np.sum(y)),\n",
    "    'max_depth':-1,\n",
    "    'learning_rate':.05,\n",
    "    'max_bin':200,\n",
    "    'min_data_in_leaf' : 100,\n",
    "    'objective':'binary',\n",
    "    'metric':'auc',\n",
    "    'num_threads':18\n",
    "}\n",
    "\n",
    "\n",
    "lgb_train = lgb.Dataset(x_train_df, y_train)\n",
    "lgb_test = lgb.Dataset(x_test_df, y_test,reference=lgb_train)\n",
    "evals_result = {}\n",
    "\n",
    "lgb_model = lgb.train(parameters,lgb_train,num_boost_round=200, \n",
    "                      valid_sets=[lgb_train, lgb_test],\n",
    "                      evals_result=evals_result,verbose_eval=1)"
   ]
  },
  {
   "cell_type": "markdown",
   "metadata": {},
   "source": [
    "### CV"
   ]
  },
  {
   "cell_type": "code",
   "execution_count": 23,
   "metadata": {},
   "outputs": [
    {
     "name": "stdout",
     "output_type": "stream",
     "text": [
      "[1]\tcv_agg's auc: 0.63786 + 0.00884556\n",
      "[2]\tcv_agg's auc: 0.653418 + 0.0081258\n",
      "[3]\tcv_agg's auc: 0.660474 + 0.00803968\n",
      "[4]\tcv_agg's auc: 0.666934 + 0.0101432\n",
      "[5]\tcv_agg's auc: 0.671232 + 0.00934401\n",
      "[6]\tcv_agg's auc: 0.673867 + 0.00869565\n",
      "[7]\tcv_agg's auc: 0.676852 + 0.00958615\n",
      "[8]\tcv_agg's auc: 0.678442 + 0.00958255\n",
      "[9]\tcv_agg's auc: 0.679399 + 0.0100048\n",
      "[10]\tcv_agg's auc: 0.68137 + 0.00963488\n",
      "[11]\tcv_agg's auc: 0.683174 + 0.0102459\n",
      "[12]\tcv_agg's auc: 0.683919 + 0.0101163\n",
      "[13]\tcv_agg's auc: 0.684401 + 0.0103608\n",
      "[14]\tcv_agg's auc: 0.685191 + 0.0104679\n",
      "[15]\tcv_agg's auc: 0.686302 + 0.0100659\n",
      "[16]\tcv_agg's auc: 0.686909 + 0.0104131\n",
      "[17]\tcv_agg's auc: 0.687518 + 0.01039\n",
      "[18]\tcv_agg's auc: 0.688177 + 0.00983471\n",
      "[19]\tcv_agg's auc: 0.688806 + 0.00996759\n",
      "[20]\tcv_agg's auc: 0.689117 + 0.0100366\n",
      "[21]\tcv_agg's auc: 0.68978 + 0.0100461\n",
      "[22]\tcv_agg's auc: 0.690624 + 0.0102976\n",
      "[23]\tcv_agg's auc: 0.691603 + 0.0102151\n",
      "[24]\tcv_agg's auc: 0.69207 + 0.0100063\n",
      "[25]\tcv_agg's auc: 0.692079 + 0.0103377\n",
      "[26]\tcv_agg's auc: 0.692016 + 0.0100606\n",
      "[27]\tcv_agg's auc: 0.692704 + 0.0101114\n",
      "[28]\tcv_agg's auc: 0.692623 + 0.010157\n",
      "[29]\tcv_agg's auc: 0.692887 + 0.0107357\n",
      "[30]\tcv_agg's auc: 0.692977 + 0.0104635\n",
      "[31]\tcv_agg's auc: 0.693066 + 0.0107396\n",
      "[32]\tcv_agg's auc: 0.693581 + 0.0104112\n",
      "[33]\tcv_agg's auc: 0.693572 + 0.0102457\n",
      "[34]\tcv_agg's auc: 0.69404 + 0.0102367\n",
      "[35]\tcv_agg's auc: 0.694433 + 0.0101294\n",
      "[36]\tcv_agg's auc: 0.694652 + 0.0103019\n",
      "[37]\tcv_agg's auc: 0.694631 + 0.0106563\n",
      "[38]\tcv_agg's auc: 0.694947 + 0.0107858\n",
      "[39]\tcv_agg's auc: 0.69465 + 0.0109673\n",
      "[40]\tcv_agg's auc: 0.694613 + 0.0111446\n",
      "[41]\tcv_agg's auc: 0.694631 + 0.0109996\n",
      "[42]\tcv_agg's auc: 0.694842 + 0.0114861\n",
      "[43]\tcv_agg's auc: 0.695121 + 0.0116064\n",
      "[44]\tcv_agg's auc: 0.695459 + 0.0117691\n",
      "[45]\tcv_agg's auc: 0.695194 + 0.0119256\n",
      "[46]\tcv_agg's auc: 0.695292 + 0.0119199\n",
      "[47]\tcv_agg's auc: 0.695691 + 0.0120042\n",
      "[48]\tcv_agg's auc: 0.695736 + 0.0123993\n",
      "[49]\tcv_agg's auc: 0.695861 + 0.0123859\n",
      "[50]\tcv_agg's auc: 0.695979 + 0.0124379\n",
      "[51]\tcv_agg's auc: 0.695951 + 0.0123404\n",
      "[52]\tcv_agg's auc: 0.696016 + 0.0126006\n",
      "[53]\tcv_agg's auc: 0.696221 + 0.0124098\n",
      "[54]\tcv_agg's auc: 0.696382 + 0.0125013\n",
      "[55]\tcv_agg's auc: 0.696312 + 0.0127253\n",
      "[56]\tcv_agg's auc: 0.696477 + 0.0126179\n",
      "[57]\tcv_agg's auc: 0.696459 + 0.0124719\n",
      "[58]\tcv_agg's auc: 0.696443 + 0.0127072\n",
      "[59]\tcv_agg's auc: 0.696668 + 0.0126728\n",
      "[60]\tcv_agg's auc: 0.696882 + 0.0128357\n",
      "[61]\tcv_agg's auc: 0.697065 + 0.012864\n",
      "[62]\tcv_agg's auc: 0.697104 + 0.0127948\n",
      "[63]\tcv_agg's auc: 0.697192 + 0.012943\n",
      "[64]\tcv_agg's auc: 0.69734 + 0.012797\n",
      "[65]\tcv_agg's auc: 0.697193 + 0.0125559\n",
      "[66]\tcv_agg's auc: 0.696956 + 0.0125531\n",
      "[67]\tcv_agg's auc: 0.696995 + 0.0123234\n",
      "[68]\tcv_agg's auc: 0.697177 + 0.0125547\n",
      "[69]\tcv_agg's auc: 0.697203 + 0.012867\n",
      "[70]\tcv_agg's auc: 0.696996 + 0.0131187\n",
      "[71]\tcv_agg's auc: 0.697407 + 0.0130743\n",
      "[72]\tcv_agg's auc: 0.697486 + 0.0130216\n",
      "[73]\tcv_agg's auc: 0.697801 + 0.0130187\n",
      "[74]\tcv_agg's auc: 0.697896 + 0.0130982\n",
      "[75]\tcv_agg's auc: 0.69807 + 0.0129949\n",
      "[76]\tcv_agg's auc: 0.698213 + 0.0129861\n",
      "[77]\tcv_agg's auc: 0.698401 + 0.0131268\n",
      "[78]\tcv_agg's auc: 0.698326 + 0.013241\n",
      "[79]\tcv_agg's auc: 0.698411 + 0.0130858\n",
      "[80]\tcv_agg's auc: 0.698247 + 0.0129492\n",
      "[81]\tcv_agg's auc: 0.698566 + 0.0126665\n",
      "[82]\tcv_agg's auc: 0.698529 + 0.012502\n",
      "[83]\tcv_agg's auc: 0.698601 + 0.0125104\n",
      "[84]\tcv_agg's auc: 0.69869 + 0.012374\n",
      "[85]\tcv_agg's auc: 0.698926 + 0.0123548\n",
      "[86]\tcv_agg's auc: 0.699061 + 0.0123016\n",
      "[87]\tcv_agg's auc: 0.699208 + 0.0122945\n",
      "[88]\tcv_agg's auc: 0.699369 + 0.0126065\n",
      "[89]\tcv_agg's auc: 0.699597 + 0.0124323\n",
      "[90]\tcv_agg's auc: 0.699596 + 0.0124047\n",
      "[91]\tcv_agg's auc: 0.699691 + 0.0125387\n",
      "[92]\tcv_agg's auc: 0.699796 + 0.0125415\n",
      "[93]\tcv_agg's auc: 0.699708 + 0.012541\n",
      "[94]\tcv_agg's auc: 0.69975 + 0.0126384\n",
      "[95]\tcv_agg's auc: 0.699866 + 0.0128078\n",
      "[96]\tcv_agg's auc: 0.699975 + 0.0131152\n",
      "[97]\tcv_agg's auc: 0.700151 + 0.0130288\n",
      "[98]\tcv_agg's auc: 0.70021 + 0.0130109\n",
      "[99]\tcv_agg's auc: 0.70056 + 0.0132295\n",
      "[100]\tcv_agg's auc: 0.70056 + 0.0132349\n",
      "[101]\tcv_agg's auc: 0.700559 + 0.0132207\n",
      "[102]\tcv_agg's auc: 0.70051 + 0.0130265\n",
      "[103]\tcv_agg's auc: 0.700568 + 0.0132846\n",
      "[104]\tcv_agg's auc: 0.700515 + 0.0132746\n",
      "[105]\tcv_agg's auc: 0.700424 + 0.013197\n",
      "[106]\tcv_agg's auc: 0.700425 + 0.0133131\n",
      "[107]\tcv_agg's auc: 0.70023 + 0.0134267\n",
      "[108]\tcv_agg's auc: 0.700285 + 0.0132895\n",
      "[109]\tcv_agg's auc: 0.700132 + 0.0134538\n",
      "[110]\tcv_agg's auc: 0.700202 + 0.0134178\n",
      "[111]\tcv_agg's auc: 0.700271 + 0.0131577\n",
      "[112]\tcv_agg's auc: 0.700165 + 0.0130428\n",
      "[113]\tcv_agg's auc: 0.699773 + 0.0129732\n",
      "[114]\tcv_agg's auc: 0.699742 + 0.0131115\n",
      "[115]\tcv_agg's auc: 0.699682 + 0.0131794\n",
      "[116]\tcv_agg's auc: 0.699771 + 0.0133516\n",
      "[117]\tcv_agg's auc: 0.699798 + 0.0135988\n",
      "[118]\tcv_agg's auc: 0.699852 + 0.0136783\n",
      "[119]\tcv_agg's auc: 0.699656 + 0.0139754\n",
      "[120]\tcv_agg's auc: 0.699683 + 0.0140083\n",
      "[121]\tcv_agg's auc: 0.699758 + 0.0140902\n",
      "[122]\tcv_agg's auc: 0.6995 + 0.0142905\n",
      "[123]\tcv_agg's auc: 0.699483 + 0.0142424\n",
      "[124]\tcv_agg's auc: 0.699432 + 0.0145229\n",
      "[125]\tcv_agg's auc: 0.699377 + 0.0144595\n",
      "[126]\tcv_agg's auc: 0.699446 + 0.0144782\n",
      "[127]\tcv_agg's auc: 0.699343 + 0.0143796\n",
      "[128]\tcv_agg's auc: 0.699347 + 0.0144591\n",
      "[129]\tcv_agg's auc: 0.699207 + 0.0144098\n",
      "[130]\tcv_agg's auc: 0.699113 + 0.0143115\n",
      "[131]\tcv_agg's auc: 0.699108 + 0.0142195\n",
      "[132]\tcv_agg's auc: 0.699092 + 0.0142779\n",
      "[133]\tcv_agg's auc: 0.698966 + 0.0141711\n",
      "[134]\tcv_agg's auc: 0.698868 + 0.0139624\n",
      "[135]\tcv_agg's auc: 0.698927 + 0.0140798\n",
      "[136]\tcv_agg's auc: 0.698863 + 0.0141629\n",
      "[137]\tcv_agg's auc: 0.698737 + 0.0140462\n",
      "[138]\tcv_agg's auc: 0.698691 + 0.013952\n",
      "[139]\tcv_agg's auc: 0.69847 + 0.0140434\n",
      "[140]\tcv_agg's auc: 0.698201 + 0.0141275\n",
      "[141]\tcv_agg's auc: 0.698155 + 0.0141441\n",
      "[142]\tcv_agg's auc: 0.698264 + 0.0139417\n",
      "[143]\tcv_agg's auc: 0.698238 + 0.0138263\n",
      "[144]\tcv_agg's auc: 0.698174 + 0.0137695\n",
      "[145]\tcv_agg's auc: 0.698288 + 0.0136699\n",
      "[146]\tcv_agg's auc: 0.698382 + 0.0136382\n",
      "[147]\tcv_agg's auc: 0.69848 + 0.0135889\n",
      "[148]\tcv_agg's auc: 0.698542 + 0.0136267\n",
      "[149]\tcv_agg's auc: 0.698546 + 0.0136107\n",
      "[150]\tcv_agg's auc: 0.698531 + 0.0135989\n",
      "[151]\tcv_agg's auc: 0.698412 + 0.01354\n",
      "[152]\tcv_agg's auc: 0.69825 + 0.0134987\n",
      "[153]\tcv_agg's auc: 0.698164 + 0.0135546\n",
      "[154]\tcv_agg's auc: 0.698277 + 0.0133994\n",
      "[155]\tcv_agg's auc: 0.698295 + 0.0134546\n",
      "[156]\tcv_agg's auc: 0.697879 + 0.0134388\n",
      "[157]\tcv_agg's auc: 0.697885 + 0.0133231\n",
      "[158]\tcv_agg's auc: 0.697744 + 0.0134014\n",
      "[159]\tcv_agg's auc: 0.697514 + 0.0135309\n",
      "[160]\tcv_agg's auc: 0.697643 + 0.0135625\n",
      "[161]\tcv_agg's auc: 0.697683 + 0.0135397\n",
      "[162]\tcv_agg's auc: 0.697605 + 0.0134782\n",
      "[163]\tcv_agg's auc: 0.69764 + 0.0134526\n",
      "[164]\tcv_agg's auc: 0.697463 + 0.0133343\n",
      "[165]\tcv_agg's auc: 0.697451 + 0.0133906\n",
      "[166]\tcv_agg's auc: 0.697278 + 0.0132026\n",
      "[167]\tcv_agg's auc: 0.697235 + 0.0132977\n",
      "[168]\tcv_agg's auc: 0.697419 + 0.013254\n",
      "[169]\tcv_agg's auc: 0.69736 + 0.0132462\n",
      "[170]\tcv_agg's auc: 0.697422 + 0.0132465\n",
      "[171]\tcv_agg's auc: 0.697416 + 0.0133547\n",
      "[172]\tcv_agg's auc: 0.697271 + 0.0134565\n",
      "[173]\tcv_agg's auc: 0.697127 + 0.0132649\n",
      "[174]\tcv_agg's auc: 0.697007 + 0.0132095\n",
      "[175]\tcv_agg's auc: 0.697024 + 0.0133231\n",
      "[176]\tcv_agg's auc: 0.696968 + 0.0131416\n",
      "[177]\tcv_agg's auc: 0.696997 + 0.0131336\n",
      "[178]\tcv_agg's auc: 0.696884 + 0.0129915\n",
      "[179]\tcv_agg's auc: 0.69674 + 0.0131594\n",
      "[180]\tcv_agg's auc: 0.696577 + 0.0133645\n",
      "[181]\tcv_agg's auc: 0.696515 + 0.0134488\n",
      "[182]\tcv_agg's auc: 0.69647 + 0.0133844\n",
      "[183]\tcv_agg's auc: 0.696309 + 0.013557\n",
      "[184]\tcv_agg's auc: 0.69626 + 0.0135736\n",
      "[185]\tcv_agg's auc: 0.696069 + 0.0135908\n",
      "[186]\tcv_agg's auc: 0.69593 + 0.0134676\n",
      "[187]\tcv_agg's auc: 0.695871 + 0.0134728\n",
      "[188]\tcv_agg's auc: 0.695902 + 0.0134338\n",
      "[189]\tcv_agg's auc: 0.695951 + 0.0133492\n",
      "[190]\tcv_agg's auc: 0.695731 + 0.0132102\n",
      "[191]\tcv_agg's auc: 0.695715 + 0.0132629\n",
      "[192]\tcv_agg's auc: 0.695746 + 0.0133201\n",
      "[193]\tcv_agg's auc: 0.695701 + 0.0134366\n",
      "[194]\tcv_agg's auc: 0.695807 + 0.0134132\n",
      "[195]\tcv_agg's auc: 0.695649 + 0.0133877\n",
      "[196]\tcv_agg's auc: 0.695733 + 0.0133925\n",
      "[197]\tcv_agg's auc: 0.695748 + 0.0135784\n",
      "[198]\tcv_agg's auc: 0.695729 + 0.0136335\n",
      "[199]\tcv_agg's auc: 0.695801 + 0.0136563\n",
      "[200]\tcv_agg's auc: 0.695801 + 0.0136709\n"
     ]
    }
   ],
   "source": [
    "import lightgbm as lgb\n",
    "parameters = {\n",
    "    'boost':'gbdt',\n",
    "    'num_leaves':120, \n",
    "    'scale_pos_weight':float(len(y)-np.sum(y))/float(np.sum(y)),\n",
    "    'max_depth':-1,\n",
    "    'learning_rate':.05,\n",
    "    'max_bin':200,\n",
    "    'min_data_in_leaf' : 100,\n",
    "    'objective':'binary',\n",
    "    'metric':'auc',\n",
    "    'num_threads':18\n",
    "}\n",
    "\n",
    "\n",
    "lgb_train = lgb.Dataset(x_df, y)\n",
    "\n",
    "lgb_model = lgb.cv(parameters,lgb_train,num_boost_round=200, \n",
    "                      nfold=5,seed=2018,verbose_eval=1)"
   ]
  },
  {
   "cell_type": "code",
   "execution_count": null,
   "metadata": {},
   "outputs": [],
   "source": []
  },
  {
   "cell_type": "markdown",
   "metadata": {},
   "source": [
    "## 绘制学习曲线"
   ]
  },
  {
   "cell_type": "code",
   "execution_count": 50,
   "metadata": {},
   "outputs": [
    {
     "data": {
      "text/plain": [
       "[<matplotlib.lines.Line2D at 0x7fccd7b62048>]"
      ]
     },
     "execution_count": 50,
     "metadata": {},
     "output_type": "execute_result"
    },
    {
     "data": {
      "image/png": "[encoded data removed]",
      "text/plain": [
       "<Figure size 432x288 with 1 Axes>"
      ]
     },
     "metadata": {},
     "output_type": "display_data"
    }
   ],
   "source": [
    "# plt.plot(evals_result['training']['auc'])\n",
    "plt.plot(evals_result['valid_1']['auc'])"
   ]
  },
  {
   "cell_type": "code",
   "execution_count": 21,
   "metadata": {},
   "outputs": [
    {
     "data": {
      "text/plain": [
       "dict_keys(['training', 'valid_1'])"
      ]
     },
     "execution_count": 21,
     "metadata": {},
     "output_type": "execute_result"
    }
   ],
   "source": [
    "evals_result.keys()"
   ]
  },
  {
   "cell_type": "code",
   "execution_count": null,
   "metadata": {},
   "outputs": [],
   "source": []
  }
 ],
 "metadata": {
  "kernelspec": {
   "display_name": "Python 3",
   "language": "python",
   "name": "python3"
  },
  "language_info": {
   "codemirror_mode": {
    "name": "ipython",
    "version": 3
   },
   "file_extension": ".py",
   "mimetype": "text/x-python",
   "name": "python",
   "nbconvert_exporter": "python",
   "pygments_lexer": "ipython3",
   "version": "3.6.5"
  }
 },
 "nbformat": 4,
 "nbformat_minor": 2
}
