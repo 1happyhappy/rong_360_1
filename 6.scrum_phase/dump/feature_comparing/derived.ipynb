{
 "cells": [
  {
   "cell_type": "code",
   "execution_count": 1,
   "metadata": {},
   "outputs": [],
   "source": [
    "import pandas as pd\n",
    "import numpy as np\n",
    "import joblib\n",
    "from sklearn.model_selection import KFold\n",
    "from sklearn.model_selection import train_test_split\n",
    "import matplotlib.pyplot as plt\n",
    "%matplotlib inline"
   ]
  },
  {
   "cell_type": "code",
   "execution_count": 2,
   "metadata": {},
   "outputs": [],
   "source": [
    "import time\n",
    "def timer(func):\n",
    "    def wrapper(*args,**kwargs):\n",
    "        start = time.time()\n",
    "        result = func(*args,**kwargs)\n",
    "        end = time.time()\n",
    "        print(func.__name__+'运行时间：',end-start)\n",
    "        return result\n",
    "    return wrapper"
   ]
  },
  {
   "cell_type": "markdown",
   "metadata": {},
   "source": [
    "### date+week 0.61 0.55"
   ]
  },
  {
   "cell_type": "code",
   "execution_count": 14,
   "metadata": {},
   "outputs": [
    {
     "name": "stdout",
     "output_type": "stream",
     "text": [
      "CPU times: user 12 ms, sys: 4 ms, total: 16 ms\n",
      "Wall time: 16 ms\n"
     ]
    }
   ],
   "source": [
    "%%time\n",
    "data_date = joblib.load('../../scrum_data/train_data/train_date.lz4')\n",
    "data_week =joblib.load('../../scrum_data/train_data/train_week.lz4')\n",
    "data = pd.concat([data_date,data_week],axis=1,copy=False)\n",
    "data_label = pd.read_csv('../../preprocess_data/train_y_33465.csv',usecols=['label'])\n",
    "x_df = data.fillna(-1)\n",
    "y = data_label.values.ravel()\n",
    "x_df.shape"
   ]
  },
  {
   "cell_type": "markdown",
   "metadata": {},
   "source": [
    "### null+null_sign \n",
    "train: 0.998 0.68  \n",
    "cv: 0.7"
   ]
  },
  {
   "cell_type": "code",
   "execution_count": 22,
   "metadata": {},
   "outputs": [
    {
     "name": "stdout",
     "output_type": "stream",
     "text": [
      "CPU times: user 112 ms, sys: 16 ms, total: 128 ms\n",
      "Wall time: 209 ms\n"
     ]
    }
   ],
   "source": [
    "%%time\n",
    "data_null = joblib.load('../../scrum_data/train_data/train_null.lz4')\n",
    "data_null_sign = joblib.load('../../scrum_data/train_data/train_null_sign90.lz4')\n",
    "data = pd.concat([data_null,data_null_sign],axis=1)\n",
    "data_label = pd.read_csv('../../preprocess_data/train_y_33465.csv',usecols=['label'])\n",
    "x_df = data.fillna(-1)\n",
    "y = data_label.values.ravel()\n",
    "x_df.shape"
   ]
  },
  {
   "cell_type": "markdown",
   "metadata": {},
   "source": [
    "## maj+majcnt 1.0 0.8"
   ]
  },
  {
   "cell_type": "code",
   "execution_count": 22,
   "metadata": {},
   "outputs": [
    {
     "data": {
      "text/plain": [
       "(33465, 4632)"
      ]
     },
     "execution_count": 22,
     "metadata": {},
     "output_type": "execute_result"
    }
   ],
   "source": [
    "data_maj = joblib.load('../../scrum_data/train_data/train_maj.lz4')\n",
    "data_majcnt = joblib.load('../../scrum_data/train_data/train_majcnt.lz4')\n",
    "data = pd.concat([data_maj,data_majcnt],axis=1,copy=False)\n",
    "data_label = pd.read_csv('../../preprocess_data/train_y_33465.csv',usecols=['label'])\n",
    "x_df = data.fillna(-1)\n",
    "y = data_label.values.ravel()\n",
    "x_df.shape"
   ]
  },
  {
   "cell_type": "markdown",
   "metadata": {},
   "source": [
    "### cross_feature \n",
    "train: 1.0  0.837  \n",
    "cv: 0.838"
   ]
  },
  {
   "cell_type": "code",
   "execution_count": 17,
   "metadata": {},
   "outputs": [
    {
     "data": {
      "text/plain": [
       "(33465, 198)"
      ]
     },
     "execution_count": 17,
     "metadata": {},
     "output_type": "execute_result"
    }
   ],
   "source": [
    "data_cf_fs = joblib.load('../../scrum_data/train_data/train_cf_86_fs10.lz4')\n",
    "data = data_cf_fs\n",
    "data_label = pd.read_csv('../../preprocess_data/train_y_33465.csv',usecols=['label'])\n",
    "x_df = data.fillna(-1)\n",
    "y = data_label.values.ravel()\n",
    "x_df.shape"
   ]
  },
  {
   "cell_type": "markdown",
   "metadata": {},
   "source": [
    "### raw_fs_100 \n",
    "train：1.0 0.842  \n",
    "cv：0.835"
   ]
  },
  {
   "cell_type": "code",
   "execution_count": 12,
   "metadata": {},
   "outputs": [
    {
     "data": {
      "text/plain": [
       "(33465, 86)"
      ]
     },
     "execution_count": 12,
     "metadata": {},
     "output_type": "execute_result"
    }
   ],
   "source": [
    "data_fs_100 = joblib.load('../../scrum_data/train_data/train_fs_100.lz4')\n",
    "data = data_fs_100\n",
    "data_label = pd.read_csv('../../preprocess_data/train_y_33465.csv',usecols=['label'])\n",
    "x_df = data.fillna(-1)\n",
    "y = data_label.values.ravel()\n",
    "x_df.shape"
   ]
  },
  {
   "cell_type": "markdown",
   "metadata": {},
   "source": [
    "## concat1\n",
    "train: 1 0.841\n",
    "cv: "
   ]
  },
  {
   "cell_type": "code",
   "execution_count": 25,
   "metadata": {},
   "outputs": [
    {
     "data": {
      "text/plain": [
       "(33465, 284)"
      ]
     },
     "execution_count": 25,
     "metadata": {},
     "output_type": "execute_result"
    }
   ],
   "source": [
    "data_cf_fs = joblib.load('../../scrum_data/train_data/train_cf_86_fs10.lz4')\n",
    "data_fs_100 = joblib.load('../../scrum_data/train_data/train_fs_100.lz4')\n",
    "data = pd.concat([data_cf_fs,data_fs_100],axis=1)\n",
    "data_label = pd.read_csv('../../preprocess_data/train_y_33465.csv',usecols=['label'])\n",
    "x_df = data.fillna(-1)\n",
    "y = data_label.values.ravel()\n",
    "x_df.shape"
   ]
  },
  {
   "cell_type": "markdown",
   "metadata": {},
   "source": [
    "### 划分数据集"
   ]
  },
  {
   "cell_type": "code",
   "execution_count": 26,
   "metadata": {},
   "outputs": [
    {
     "name": "stdout",
     "output_type": "stream",
     "text": [
      "local_test运行时间： 0.09883260726928711\n"
     ]
    }
   ],
   "source": [
    "def stratify_split(x_df,y,random_state=3096,test_size=0.3):\n",
    "    # 层次划分出local test \n",
    "    \n",
    "    x_train_df, x_test_df, y_train, y_test = train_test_split(x_df, y,\n",
    "                                                                random_state=random_state,\n",
    "                                                                test_size=test_size,\n",
    "                                                                stratify=y)\n",
    "    return  x_train_df, x_test_df, y_train, y_test\n",
    "\n",
    "\n",
    "def col_split(x_df,y,col):\n",
    "    '''根据列名分割数据，分为切割后的list'''\n",
    "    x_df['label'] = y\n",
    "    df = x_df\n",
    "    uniq_val = df[col].unique()\n",
    "    df_list = []\n",
    "    for val in uniq_val:\n",
    "        df_list.append(df[df[col]==val])\n",
    "    return df_list\n",
    "        \n",
    "@timer\n",
    "def local_test(x_df,y,split_by_cols=['tag','label']):\n",
    "    '''递归地按列名向下分割，直到只剩最后一个列名，做分层抽样，test_size=0.3'''\n",
    "\n",
    "    mean_cols = list(set(split_by_cols)&set(x_df.columns))+['label']    \n",
    "    if len(mean_cols)==0:\n",
    "        return x_df,y\n",
    "\n",
    "    col = mean_cols[0]\n",
    "    if len(mean_cols) == 1:\n",
    "        x_train_df, x_test_df, y_train, y_test = train_test_split(x_df, y,\n",
    "                                                                random_state=2018,\n",
    "                                                                test_size=0.3,\n",
    "                                                                stratify=y)\n",
    "        return x_train_df, x_test_df, y_train, y_test \n",
    "    \n",
    "    # cols多于1个\n",
    "    df_list = col_split(x_df,y,col)\n",
    "    x_train_df_list = []\n",
    "    x_test_df_list = []\n",
    "    y_train_list = [] \n",
    "    y_test_list = []\n",
    "    for df in df_list:\n",
    "        y_s = df.label.values.ravel()\n",
    "        x_df_s = df.drop(columns=['label'])\n",
    "        x_train_df, x_test_df, y_train, y_test = local_test(x_df_s,y_s,split_by_cols[1:])\n",
    "        \n",
    "        x_train_df_list.append(x_train_df)\n",
    "        x_test_df_list.append(x_test_df)\n",
    "        y_train_list.append(y_train)\n",
    "        y_test_list.append(y_test)\n",
    "    return pd.concat(x_train_df_list),pd.concat(x_test_df_list),np.hstack(y_train_list),np.hstack(y_test_list)\n",
    "\n",
    "x_train_df, x_test_df, y_train, y_test  = local_test(x_df,y,split_by_cols=['tag','label'])"
   ]
  },
  {
   "cell_type": "code",
   "execution_count": 27,
   "metadata": {},
   "outputs": [
    {
     "data": {
      "text/plain": [
       "((23425, 284), (10040, 284))"
      ]
     },
     "execution_count": 27,
     "metadata": {},
     "output_type": "execute_result"
    }
   ],
   "source": [
    "x_train_df.shape,x_test_df.shape"
   ]
  },
  {
   "cell_type": "markdown",
   "metadata": {},
   "source": [
    "### 本地验证集"
   ]
  },
  {
   "cell_type": "code",
   "execution_count": 28,
   "metadata": {},
   "outputs": [
    {
     "name": "stdout",
     "output_type": "stream",
     "text": [
      "[1]\ttraining's auc: 0.885359\tvalid_1's auc: 0.736109\n",
      "[2]\ttraining's auc: 0.923597\tvalid_1's auc: 0.768602\n",
      "[3]\ttraining's auc: 0.94178\tvalid_1's auc: 0.777455\n",
      "[4]\ttraining's auc: 0.95271\tvalid_1's auc: 0.785288\n",
      "[5]\ttraining's auc: 0.959505\tvalid_1's auc: 0.788063\n",
      "[6]\ttraining's auc: 0.963786\tvalid_1's auc: 0.791689\n",
      "[7]\ttraining's auc: 0.968067\tvalid_1's auc: 0.793946\n",
      "[8]\ttraining's auc: 0.971669\tvalid_1's auc: 0.795917\n",
      "[9]\ttraining's auc: 0.973962\tvalid_1's auc: 0.798371\n",
      "[10]\ttraining's auc: 0.976136\tvalid_1's auc: 0.799145\n",
      "[11]\ttraining's auc: 0.97801\tvalid_1's auc: 0.801848\n",
      "[12]\ttraining's auc: 0.979447\tvalid_1's auc: 0.803797\n",
      "[13]\ttraining's auc: 0.980954\tvalid_1's auc: 0.805785\n",
      "[14]\ttraining's auc: 0.982315\tvalid_1's auc: 0.807646\n",
      "[15]\ttraining's auc: 0.983342\tvalid_1's auc: 0.808007\n",
      "[16]\ttraining's auc: 0.984334\tvalid_1's auc: 0.809504\n",
      "[17]\ttraining's auc: 0.985168\tvalid_1's auc: 0.811191\n",
      "[18]\ttraining's auc: 0.985915\tvalid_1's auc: 0.811608\n",
      "[19]\ttraining's auc: 0.986544\tvalid_1's auc: 0.813271\n",
      "[20]\ttraining's auc: 0.987082\tvalid_1's auc: 0.813817\n",
      "[21]\ttraining's auc: 0.987684\tvalid_1's auc: 0.813907\n",
      "[22]\ttraining's auc: 0.988244\tvalid_1's auc: 0.815314\n",
      "[23]\ttraining's auc: 0.988824\tvalid_1's auc: 0.816019\n",
      "[24]\ttraining's auc: 0.989155\tvalid_1's auc: 0.816659\n",
      "[25]\ttraining's auc: 0.989516\tvalid_1's auc: 0.817228\n",
      "[26]\ttraining's auc: 0.989905\tvalid_1's auc: 0.816785\n",
      "[27]\ttraining's auc: 0.990231\tvalid_1's auc: 0.8173\n",
      "[28]\ttraining's auc: 0.990549\tvalid_1's auc: 0.817939\n",
      "[29]\ttraining's auc: 0.990905\tvalid_1's auc: 0.819082\n",
      "[30]\ttraining's auc: 0.991269\tvalid_1's auc: 0.820132\n",
      "[31]\ttraining's auc: 0.991617\tvalid_1's auc: 0.820692\n",
      "[32]\ttraining's auc: 0.99193\tvalid_1's auc: 0.821166\n",
      "[33]\ttraining's auc: 0.99229\tvalid_1's auc: 0.82184\n",
      "[34]\ttraining's auc: 0.992689\tvalid_1's auc: 0.822423\n",
      "[35]\ttraining's auc: 0.992963\tvalid_1's auc: 0.822873\n",
      "[36]\ttraining's auc: 0.993262\tvalid_1's auc: 0.823021\n",
      "[37]\ttraining's auc: 0.993511\tvalid_1's auc: 0.823455\n",
      "[38]\ttraining's auc: 0.993792\tvalid_1's auc: 0.824062\n",
      "[39]\ttraining's auc: 0.993914\tvalid_1's auc: 0.824138\n",
      "[40]\ttraining's auc: 0.994181\tvalid_1's auc: 0.825018\n",
      "[41]\ttraining's auc: 0.994519\tvalid_1's auc: 0.825451\n",
      "[42]\ttraining's auc: 0.994797\tvalid_1's auc: 0.826025\n",
      "[43]\ttraining's auc: 0.99499\tvalid_1's auc: 0.826215\n",
      "[44]\ttraining's auc: 0.995267\tvalid_1's auc: 0.827242\n",
      "[45]\ttraining's auc: 0.995547\tvalid_1's auc: 0.827531\n",
      "[46]\ttraining's auc: 0.995785\tvalid_1's auc: 0.828044\n",
      "[47]\ttraining's auc: 0.996063\tvalid_1's auc: 0.828469\n",
      "[48]\ttraining's auc: 0.996311\tvalid_1's auc: 0.829048\n",
      "[49]\ttraining's auc: 0.996527\tvalid_1's auc: 0.82983\n",
      "[50]\ttraining's auc: 0.996809\tvalid_1's auc: 0.83014\n",
      "[51]\ttraining's auc: 0.996988\tvalid_1's auc: 0.830448\n",
      "[52]\ttraining's auc: 0.997151\tvalid_1's auc: 0.831081\n",
      "[53]\ttraining's auc: 0.997302\tvalid_1's auc: 0.831104\n",
      "[54]\ttraining's auc: 0.997463\tvalid_1's auc: 0.831502\n",
      "[55]\ttraining's auc: 0.997608\tvalid_1's auc: 0.831927\n",
      "[56]\ttraining's auc: 0.997731\tvalid_1's auc: 0.832093\n",
      "[57]\ttraining's auc: 0.997894\tvalid_1's auc: 0.832342\n",
      "[58]\ttraining's auc: 0.998071\tvalid_1's auc: 0.832429\n",
      "[59]\ttraining's auc: 0.998182\tvalid_1's auc: 0.832502\n",
      "[60]\ttraining's auc: 0.998259\tvalid_1's auc: 0.832722\n",
      "[61]\ttraining's auc: 0.998376\tvalid_1's auc: 0.832654\n",
      "[62]\ttraining's auc: 0.998546\tvalid_1's auc: 0.832827\n",
      "[63]\ttraining's auc: 0.998631\tvalid_1's auc: 0.832925\n",
      "[64]\ttraining's auc: 0.998749\tvalid_1's auc: 0.833208\n",
      "[65]\ttraining's auc: 0.998849\tvalid_1's auc: 0.833743\n",
      "[66]\ttraining's auc: 0.998919\tvalid_1's auc: 0.833871\n",
      "[67]\ttraining's auc: 0.998995\tvalid_1's auc: 0.833913\n",
      "[68]\ttraining's auc: 0.999083\tvalid_1's auc: 0.834408\n",
      "[69]\ttraining's auc: 0.999175\tvalid_1's auc: 0.834738\n",
      "[70]\ttraining's auc: 0.999238\tvalid_1's auc: 0.834781\n",
      "[71]\ttraining's auc: 0.99929\tvalid_1's auc: 0.835106\n",
      "[72]\ttraining's auc: 0.999349\tvalid_1's auc: 0.835096\n",
      "[73]\ttraining's auc: 0.999407\tvalid_1's auc: 0.835138\n",
      "[74]\ttraining's auc: 0.99943\tvalid_1's auc: 0.835243\n",
      "[75]\ttraining's auc: 0.999455\tvalid_1's auc: 0.835071\n",
      "[76]\ttraining's auc: 0.999496\tvalid_1's auc: 0.835227\n",
      "[77]\ttraining's auc: 0.999508\tvalid_1's auc: 0.835049\n",
      "[78]\ttraining's auc: 0.999549\tvalid_1's auc: 0.834946\n",
      "[79]\ttraining's auc: 0.999576\tvalid_1's auc: 0.835087\n",
      "[80]\ttraining's auc: 0.999602\tvalid_1's auc: 0.835371\n",
      "[81]\ttraining's auc: 0.999622\tvalid_1's auc: 0.835359\n",
      "[82]\ttraining's auc: 0.999643\tvalid_1's auc: 0.835532\n",
      "[83]\ttraining's auc: 0.999672\tvalid_1's auc: 0.835403\n",
      "[84]\ttraining's auc: 0.999701\tvalid_1's auc: 0.835205\n",
      "[85]\ttraining's auc: 0.999742\tvalid_1's auc: 0.835355\n",
      "[86]\ttraining's auc: 0.999768\tvalid_1's auc: 0.83558\n",
      "[87]\ttraining's auc: 0.999793\tvalid_1's auc: 0.835459\n",
      "[88]\ttraining's auc: 0.999814\tvalid_1's auc: 0.835763\n",
      "[89]\ttraining's auc: 0.999817\tvalid_1's auc: 0.835842\n",
      "[90]\ttraining's auc: 0.999825\tvalid_1's auc: 0.836052\n",
      "[91]\ttraining's auc: 0.999853\tvalid_1's auc: 0.836035\n",
      "[92]\ttraining's auc: 0.999855\tvalid_1's auc: 0.835898\n",
      "[93]\ttraining's auc: 0.999855\tvalid_1's auc: 0.835743\n",
      "[94]\ttraining's auc: 0.999858\tvalid_1's auc: 0.835981\n",
      "[95]\ttraining's auc: 0.999864\tvalid_1's auc: 0.836079\n",
      "[96]\ttraining's auc: 0.999868\tvalid_1's auc: 0.836274\n",
      "[97]\ttraining's auc: 0.99987\tvalid_1's auc: 0.83669\n",
      "[98]\ttraining's auc: 0.99988\tvalid_1's auc: 0.836533\n",
      "[99]\ttraining's auc: 0.999892\tvalid_1's auc: 0.836628\n",
      "[100]\ttraining's auc: 0.999897\tvalid_1's auc: 0.836845\n",
      "[101]\ttraining's auc: 0.99991\tvalid_1's auc: 0.83725\n",
      "[102]\ttraining's auc: 0.999916\tvalid_1's auc: 0.837332\n",
      "[103]\ttraining's auc: 0.999927\tvalid_1's auc: 0.837266\n",
      "[104]\ttraining's auc: 0.999927\tvalid_1's auc: 0.837289\n",
      "[105]\ttraining's auc: 0.999942\tvalid_1's auc: 0.837228\n",
      "[106]\ttraining's auc: 0.999952\tvalid_1's auc: 0.837381\n",
      "[107]\ttraining's auc: 0.999952\tvalid_1's auc: 0.837613\n",
      "[108]\ttraining's auc: 0.999953\tvalid_1's auc: 0.837686\n",
      "[109]\ttraining's auc: 0.999959\tvalid_1's auc: 0.83766\n",
      "[110]\ttraining's auc: 0.999961\tvalid_1's auc: 0.837534\n",
      "[111]\ttraining's auc: 0.999961\tvalid_1's auc: 0.837863\n",
      "[112]\ttraining's auc: 0.999974\tvalid_1's auc: 0.837905\n",
      "[113]\ttraining's auc: 0.999977\tvalid_1's auc: 0.837963\n",
      "[114]\ttraining's auc: 0.999981\tvalid_1's auc: 0.838082\n",
      "[115]\ttraining's auc: 0.999986\tvalid_1's auc: 0.838065\n",
      "[116]\ttraining's auc: 0.999989\tvalid_1's auc: 0.83807\n",
      "[117]\ttraining's auc: 0.999989\tvalid_1's auc: 0.838249\n",
      "[118]\ttraining's auc: 0.999989\tvalid_1's auc: 0.838396\n",
      "[119]\ttraining's auc: 0.999989\tvalid_1's auc: 0.83835\n",
      "[120]\ttraining's auc: 0.999991\tvalid_1's auc: 0.838385\n",
      "[121]\ttraining's auc: 0.999994\tvalid_1's auc: 0.838729\n",
      "[122]\ttraining's auc: 0.999995\tvalid_1's auc: 0.838793\n",
      "[123]\ttraining's auc: 0.999995\tvalid_1's auc: 0.838638\n",
      "[124]\ttraining's auc: 0.999995\tvalid_1's auc: 0.838377\n",
      "[125]\ttraining's auc: 0.999995\tvalid_1's auc: 0.838201\n",
      "[126]\ttraining's auc: 0.999996\tvalid_1's auc: 0.838317\n",
      "[127]\ttraining's auc: 0.999996\tvalid_1's auc: 0.838438\n",
      "[128]\ttraining's auc: 0.999996\tvalid_1's auc: 0.838348\n",
      "[129]\ttraining's auc: 0.999997\tvalid_1's auc: 0.8386\n",
      "[130]\ttraining's auc: 0.999998\tvalid_1's auc: 0.838661\n",
      "[131]\ttraining's auc: 0.999998\tvalid_1's auc: 0.839043\n",
      "[132]\ttraining's auc: 0.999998\tvalid_1's auc: 0.839332\n",
      "[133]\ttraining's auc: 0.999999\tvalid_1's auc: 0.839344\n",
      "[134]\ttraining's auc: 0.999999\tvalid_1's auc: 0.839364\n",
      "[135]\ttraining's auc: 0.999999\tvalid_1's auc: 0.839538\n",
      "[136]\ttraining's auc: 0.999999\tvalid_1's auc: 0.839681\n",
      "[137]\ttraining's auc: 1\tvalid_1's auc: 0.839788\n",
      "[138]\ttraining's auc: 1\tvalid_1's auc: 0.839705\n",
      "[139]\ttraining's auc: 1\tvalid_1's auc: 0.839713\n",
      "[140]\ttraining's auc: 1\tvalid_1's auc: 0.839735\n",
      "[141]\ttraining's auc: 1\tvalid_1's auc: 0.839797\n",
      "[142]\ttraining's auc: 1\tvalid_1's auc: 0.839862\n",
      "[143]\ttraining's auc: 1\tvalid_1's auc: 0.839909\n",
      "[144]\ttraining's auc: 1\tvalid_1's auc: 0.839974\n",
      "[145]\ttraining's auc: 1\tvalid_1's auc: 0.839912\n",
      "[146]\ttraining's auc: 1\tvalid_1's auc: 0.839839\n",
      "[147]\ttraining's auc: 1\tvalid_1's auc: 0.840067\n",
      "[148]\ttraining's auc: 1\tvalid_1's auc: 0.840132\n",
      "[149]\ttraining's auc: 1\tvalid_1's auc: 0.840237\n",
      "[150]\ttraining's auc: 1\tvalid_1's auc: 0.840245\n",
      "[151]\ttraining's auc: 1\tvalid_1's auc: 0.8401\n",
      "[152]\ttraining's auc: 1\tvalid_1's auc: 0.840126\n",
      "[153]\ttraining's auc: 1\tvalid_1's auc: 0.840036\n",
      "[154]\ttraining's auc: 1\tvalid_1's auc: 0.839993\n",
      "[155]\ttraining's auc: 1\tvalid_1's auc: 0.839851\n",
      "[156]\ttraining's auc: 1\tvalid_1's auc: 0.839754\n",
      "[157]\ttraining's auc: 1\tvalid_1's auc: 0.839794\n",
      "[158]\ttraining's auc: 1\tvalid_1's auc: 0.839825\n",
      "[159]\ttraining's auc: 1\tvalid_1's auc: 0.839876\n",
      "[160]\ttraining's auc: 1\tvalid_1's auc: 0.840219\n",
      "[161]\ttraining's auc: 1\tvalid_1's auc: 0.840187\n",
      "[162]\ttraining's auc: 1\tvalid_1's auc: 0.840291\n",
      "[163]\ttraining's auc: 1\tvalid_1's auc: 0.840146\n",
      "[164]\ttraining's auc: 1\tvalid_1's auc: 0.84032\n",
      "[165]\ttraining's auc: 1\tvalid_1's auc: 0.840341\n",
      "[166]\ttraining's auc: 1\tvalid_1's auc: 0.840298\n",
      "[167]\ttraining's auc: 1\tvalid_1's auc: 0.8404\n",
      "[168]\ttraining's auc: 1\tvalid_1's auc: 0.840648\n",
      "[169]\ttraining's auc: 1\tvalid_1's auc: 0.84072\n",
      "[170]\ttraining's auc: 1\tvalid_1's auc: 0.840592\n",
      "[171]\ttraining's auc: 1\tvalid_1's auc: 0.840607\n",
      "[172]\ttraining's auc: 1\tvalid_1's auc: 0.840641\n",
      "[173]\ttraining's auc: 1\tvalid_1's auc: 0.840931\n",
      "[174]\ttraining's auc: 1\tvalid_1's auc: 0.840881\n",
      "[175]\ttraining's auc: 1\tvalid_1's auc: 0.840914\n",
      "[176]\ttraining's auc: 1\tvalid_1's auc: 0.841024\n",
      "[177]\ttraining's auc: 1\tvalid_1's auc: 0.840917\n",
      "[178]\ttraining's auc: 1\tvalid_1's auc: 0.840974\n",
      "[179]\ttraining's auc: 1\tvalid_1's auc: 0.84109\n",
      "[180]\ttraining's auc: 1\tvalid_1's auc: 0.841218\n",
      "[181]\ttraining's auc: 1\tvalid_1's auc: 0.841256\n",
      "[182]\ttraining's auc: 1\tvalid_1's auc: 0.841153\n",
      "[183]\ttraining's auc: 1\tvalid_1's auc: 0.840959\n",
      "[184]\ttraining's auc: 1\tvalid_1's auc: 0.840802\n",
      "[185]\ttraining's auc: 1\tvalid_1's auc: 0.841002\n",
      "[186]\ttraining's auc: 1\tvalid_1's auc: 0.841125\n",
      "[187]\ttraining's auc: 1\tvalid_1's auc: 0.841062\n",
      "[188]\ttraining's auc: 1\tvalid_1's auc: 0.840981\n",
      "[189]\ttraining's auc: 1\tvalid_1's auc: 0.841229\n",
      "[190]\ttraining's auc: 1\tvalid_1's auc: 0.841511\n",
      "[191]\ttraining's auc: 1\tvalid_1's auc: 0.841551\n",
      "[192]\ttraining's auc: 1\tvalid_1's auc: 0.84162\n",
      "[193]\ttraining's auc: 1\tvalid_1's auc: 0.841619\n",
      "[194]\ttraining's auc: 1\tvalid_1's auc: 0.841783\n",
      "[195]\ttraining's auc: 1\tvalid_1's auc: 0.841813\n",
      "[196]\ttraining's auc: 1\tvalid_1's auc: 0.841877\n",
      "[197]\ttraining's auc: 1\tvalid_1's auc: 0.841886\n",
      "[198]\ttraining's auc: 1\tvalid_1's auc: 0.841771\n",
      "[199]\ttraining's auc: 1\tvalid_1's auc: 0.84176\n",
      "[200]\ttraining's auc: 1\tvalid_1's auc: 0.841684\n"
     ]
    }
   ],
   "source": [
    "import lightgbm as lgb\n",
    "parameters = {\n",
    "    'boost':'gbdt',\n",
    "    'num_leaves':120, \n",
    "    'scale_pos_weight':float(len(y)-np.sum(y))/float(np.sum(y)),\n",
    "    'max_depth':-1,\n",
    "    'learning_rate':.05,\n",
    "    'max_bin':200,\n",
    "    'min_data_in_leaf' : 100,\n",
    "    'objective':'binary',\n",
    "    'metric':'auc',\n",
    "    'num_threads':18\n",
    "}\n",
    "\n",
    "\n",
    "lgb_train = lgb.Dataset(x_train_df, y_train)\n",
    "lgb_test = lgb.Dataset(x_test_df, y_test,reference=lgb_train)\n",
    "evals_result = {}\n",
    "\n",
    "lgb_model = lgb.train(parameters,lgb_train,num_boost_round=200, \n",
    "                      valid_sets=[lgb_train, lgb_test],\n",
    "                      evals_result=evals_result,verbose_eval=1)"
   ]
  },
  {
   "cell_type": "markdown",
   "metadata": {},
   "source": [
    "### CV"
   ]
  },
  {
   "cell_type": "code",
   "execution_count": 29,
   "metadata": {},
   "outputs": [
    {
     "name": "stdout",
     "output_type": "stream",
     "text": [
      "[1]\tcv_agg's auc: 0.734853 + 0.00898266\n",
      "[2]\tcv_agg's auc: 0.767615 + 0.0100572\n",
      "[3]\tcv_agg's auc: 0.781214 + 0.00744443\n",
      "[4]\tcv_agg's auc: 0.788676 + 0.00537278\n",
      "[5]\tcv_agg's auc: 0.79378 + 0.00593022\n",
      "[6]\tcv_agg's auc: 0.798716 + 0.00502892\n",
      "[7]\tcv_agg's auc: 0.802001 + 0.00451816\n",
      "[8]\tcv_agg's auc: 0.803888 + 0.00389898\n",
      "[9]\tcv_agg's auc: 0.807046 + 0.00395883\n",
      "[10]\tcv_agg's auc: 0.807905 + 0.003873\n",
      "[11]\tcv_agg's auc: 0.809067 + 0.0036698\n",
      "[12]\tcv_agg's auc: 0.810821 + 0.00323871\n",
      "[13]\tcv_agg's auc: 0.812524 + 0.00353361\n",
      "[14]\tcv_agg's auc: 0.813447 + 0.00322027\n",
      "[15]\tcv_agg's auc: 0.814601 + 0.00347119\n",
      "[16]\tcv_agg's auc: 0.815418 + 0.00327638\n",
      "[17]\tcv_agg's auc: 0.816364 + 0.00340995\n",
      "[18]\tcv_agg's auc: 0.816955 + 0.0032799\n",
      "[19]\tcv_agg's auc: 0.817506 + 0.00295101\n",
      "[20]\tcv_agg's auc: 0.818012 + 0.00291547\n",
      "[21]\tcv_agg's auc: 0.81839 + 0.00301655\n",
      "[22]\tcv_agg's auc: 0.818871 + 0.00258837\n",
      "[23]\tcv_agg's auc: 0.819463 + 0.00223543\n",
      "[24]\tcv_agg's auc: 0.820008 + 0.00188516\n",
      "[25]\tcv_agg's auc: 0.820659 + 0.00180464\n",
      "[26]\tcv_agg's auc: 0.82129 + 0.0019703\n",
      "[27]\tcv_agg's auc: 0.821649 + 0.00174543\n",
      "[28]\tcv_agg's auc: 0.82206 + 0.001958\n",
      "[29]\tcv_agg's auc: 0.822633 + 0.00157408\n",
      "[30]\tcv_agg's auc: 0.823176 + 0.00169024\n",
      "[31]\tcv_agg's auc: 0.823962 + 0.00166279\n",
      "[32]\tcv_agg's auc: 0.824364 + 0.00150078\n",
      "[33]\tcv_agg's auc: 0.824868 + 0.00154875\n",
      "[34]\tcv_agg's auc: 0.825428 + 0.00138136\n",
      "[35]\tcv_agg's auc: 0.825959 + 0.00116063\n",
      "[36]\tcv_agg's auc: 0.826757 + 0.00106288\n",
      "[37]\tcv_agg's auc: 0.82722 + 0.000766422\n",
      "[38]\tcv_agg's auc: 0.827651 + 0.0010591\n",
      "[39]\tcv_agg's auc: 0.828196 + 0.00081511\n",
      "[40]\tcv_agg's auc: 0.828573 + 0.000868771\n",
      "[41]\tcv_agg's auc: 0.828914 + 0.000895317\n",
      "[42]\tcv_agg's auc: 0.829375 + 0.000968188\n",
      "[43]\tcv_agg's auc: 0.829904 + 0.0011447\n",
      "[44]\tcv_agg's auc: 0.830231 + 0.00129231\n",
      "[45]\tcv_agg's auc: 0.830362 + 0.00127923\n",
      "[46]\tcv_agg's auc: 0.830652 + 0.00131586\n",
      "[47]\tcv_agg's auc: 0.830913 + 0.00134785\n",
      "[48]\tcv_agg's auc: 0.83134 + 0.00135464\n",
      "[49]\tcv_agg's auc: 0.831568 + 0.00137909\n",
      "[50]\tcv_agg's auc: 0.831665 + 0.00133843\n",
      "[51]\tcv_agg's auc: 0.831833 + 0.0014494\n",
      "[52]\tcv_agg's auc: 0.832265 + 0.00121261\n",
      "[53]\tcv_agg's auc: 0.832532 + 0.0013237\n",
      "[54]\tcv_agg's auc: 0.832845 + 0.00133189\n",
      "[55]\tcv_agg's auc: 0.833106 + 0.00147913\n",
      "[56]\tcv_agg's auc: 0.833255 + 0.00148975\n",
      "[57]\tcv_agg's auc: 0.833468 + 0.001507\n",
      "[58]\tcv_agg's auc: 0.833879 + 0.00162741\n",
      "[59]\tcv_agg's auc: 0.834017 + 0.00160258\n",
      "[60]\tcv_agg's auc: 0.83408 + 0.00136803\n",
      "[61]\tcv_agg's auc: 0.834344 + 0.00126733\n",
      "[62]\tcv_agg's auc: 0.834654 + 0.00148901\n",
      "[63]\tcv_agg's auc: 0.834946 + 0.00163914\n",
      "[64]\tcv_agg's auc: 0.835267 + 0.00154177\n",
      "[65]\tcv_agg's auc: 0.835419 + 0.00160306\n",
      "[66]\tcv_agg's auc: 0.835628 + 0.00174216\n",
      "[67]\tcv_agg's auc: 0.8358 + 0.00161625\n",
      "[68]\tcv_agg's auc: 0.836057 + 0.00158895\n",
      "[69]\tcv_agg's auc: 0.836099 + 0.00151741\n",
      "[70]\tcv_agg's auc: 0.836073 + 0.00158363\n",
      "[71]\tcv_agg's auc: 0.836118 + 0.00159441\n",
      "[72]\tcv_agg's auc: 0.83624 + 0.00168061\n",
      "[73]\tcv_agg's auc: 0.836446 + 0.00174618\n",
      "[74]\tcv_agg's auc: 0.83654 + 0.00170297\n",
      "[75]\tcv_agg's auc: 0.836561 + 0.00166261\n",
      "[76]\tcv_agg's auc: 0.836748 + 0.00154041\n",
      "[77]\tcv_agg's auc: 0.836783 + 0.00143966\n",
      "[78]\tcv_agg's auc: 0.836786 + 0.00145587\n",
      "[79]\tcv_agg's auc: 0.8368 + 0.00151413\n",
      "[80]\tcv_agg's auc: 0.836762 + 0.00157457\n",
      "[81]\tcv_agg's auc: 0.83695 + 0.0015544\n",
      "[82]\tcv_agg's auc: 0.837079 + 0.00150718\n",
      "[83]\tcv_agg's auc: 0.837201 + 0.00150918\n",
      "[84]\tcv_agg's auc: 0.837419 + 0.00149734\n",
      "[85]\tcv_agg's auc: 0.837432 + 0.00156893\n",
      "[86]\tcv_agg's auc: 0.837476 + 0.00165304\n",
      "[87]\tcv_agg's auc: 0.837699 + 0.00179592\n",
      "[88]\tcv_agg's auc: 0.837714 + 0.00167982\n",
      "[89]\tcv_agg's auc: 0.83768 + 0.00182692\n",
      "[90]\tcv_agg's auc: 0.837727 + 0.00183429\n",
      "[91]\tcv_agg's auc: 0.83789 + 0.00190523\n",
      "[92]\tcv_agg's auc: 0.837857 + 0.0019563\n",
      "[93]\tcv_agg's auc: 0.837966 + 0.00197367\n",
      "[94]\tcv_agg's auc: 0.837978 + 0.00196031\n",
      "[95]\tcv_agg's auc: 0.837955 + 0.00192864\n",
      "[96]\tcv_agg's auc: 0.838286 + 0.0020942\n",
      "[97]\tcv_agg's auc: 0.838118 + 0.00217279\n",
      "[98]\tcv_agg's auc: 0.838255 + 0.00220425\n",
      "[99]\tcv_agg's auc: 0.838257 + 0.0022197\n",
      "[100]\tcv_agg's auc: 0.838247 + 0.0022421\n",
      "[101]\tcv_agg's auc: 0.838339 + 0.0022924\n",
      "[102]\tcv_agg's auc: 0.838335 + 0.00221643\n",
      "[103]\tcv_agg's auc: 0.838404 + 0.00230962\n",
      "[104]\tcv_agg's auc: 0.838474 + 0.00232688\n",
      "[105]\tcv_agg's auc: 0.838503 + 0.0024853\n",
      "[106]\tcv_agg's auc: 0.838653 + 0.0023021\n",
      "[107]\tcv_agg's auc: 0.83863 + 0.00234957\n",
      "[108]\tcv_agg's auc: 0.838685 + 0.00242887\n",
      "[109]\tcv_agg's auc: 0.838708 + 0.00257761\n",
      "[110]\tcv_agg's auc: 0.838749 + 0.00255675\n",
      "[111]\tcv_agg's auc: 0.838843 + 0.00265011\n",
      "[112]\tcv_agg's auc: 0.838949 + 0.00260017\n",
      "[113]\tcv_agg's auc: 0.838797 + 0.00272709\n",
      "[114]\tcv_agg's auc: 0.838875 + 0.00273575\n",
      "[115]\tcv_agg's auc: 0.838876 + 0.00267514\n",
      "[116]\tcv_agg's auc: 0.838946 + 0.00274371\n",
      "[117]\tcv_agg's auc: 0.838928 + 0.00271152\n",
      "[118]\tcv_agg's auc: 0.838999 + 0.00268434\n",
      "[119]\tcv_agg's auc: 0.839213 + 0.00259295\n",
      "[120]\tcv_agg's auc: 0.83922 + 0.00271135\n",
      "[121]\tcv_agg's auc: 0.839066 + 0.00273192\n",
      "[122]\tcv_agg's auc: 0.839124 + 0.00276939\n",
      "[123]\tcv_agg's auc: 0.839182 + 0.00274498\n",
      "[124]\tcv_agg's auc: 0.839176 + 0.00257232\n",
      "[125]\tcv_agg's auc: 0.839166 + 0.00259222\n",
      "[126]\tcv_agg's auc: 0.839281 + 0.00264027\n",
      "[127]\tcv_agg's auc: 0.839337 + 0.00261538\n",
      "[128]\tcv_agg's auc: 0.839468 + 0.00250639\n",
      "[129]\tcv_agg's auc: 0.839434 + 0.00260243\n",
      "[130]\tcv_agg's auc: 0.839426 + 0.00256703\n",
      "[131]\tcv_agg's auc: 0.839429 + 0.0027212\n",
      "[132]\tcv_agg's auc: 0.839594 + 0.00288213\n",
      "[133]\tcv_agg's auc: 0.839672 + 0.00292341\n",
      "[134]\tcv_agg's auc: 0.839586 + 0.00290299\n",
      "[135]\tcv_agg's auc: 0.839603 + 0.00289456\n",
      "[136]\tcv_agg's auc: 0.839619 + 0.00300452\n",
      "[137]\tcv_agg's auc: 0.839578 + 0.00321122\n",
      "[138]\tcv_agg's auc: 0.839669 + 0.00311559\n",
      "[139]\tcv_agg's auc: 0.839712 + 0.00307095\n",
      "[140]\tcv_agg's auc: 0.839744 + 0.00307662\n",
      "[141]\tcv_agg's auc: 0.839611 + 0.00313879\n",
      "[142]\tcv_agg's auc: 0.839678 + 0.00313448\n",
      "[143]\tcv_agg's auc: 0.839664 + 0.00318422\n",
      "[144]\tcv_agg's auc: 0.839752 + 0.00310835\n",
      "[145]\tcv_agg's auc: 0.839748 + 0.00316341\n",
      "[146]\tcv_agg's auc: 0.839891 + 0.0031973\n",
      "[147]\tcv_agg's auc: 0.84002 + 0.00326803\n",
      "[148]\tcv_agg's auc: 0.840123 + 0.00325717\n",
      "[149]\tcv_agg's auc: 0.840167 + 0.00319609\n",
      "[150]\tcv_agg's auc: 0.840308 + 0.00324562\n",
      "[151]\tcv_agg's auc: 0.840211 + 0.00335475\n",
      "[152]\tcv_agg's auc: 0.840314 + 0.0034024\n",
      "[153]\tcv_agg's auc: 0.84024 + 0.00341823\n",
      "[154]\tcv_agg's auc: 0.840308 + 0.00347627\n",
      "[155]\tcv_agg's auc: 0.840437 + 0.00334847\n",
      "[156]\tcv_agg's auc: 0.840402 + 0.0032996\n",
      "[157]\tcv_agg's auc: 0.840516 + 0.00340482\n",
      "[158]\tcv_agg's auc: 0.840466 + 0.00345576\n",
      "[159]\tcv_agg's auc: 0.840468 + 0.00347905\n",
      "[160]\tcv_agg's auc: 0.840569 + 0.0033501\n",
      "[161]\tcv_agg's auc: 0.84066 + 0.00345149\n",
      "[162]\tcv_agg's auc: 0.840788 + 0.00347264\n",
      "[163]\tcv_agg's auc: 0.84085 + 0.00340523\n",
      "[164]\tcv_agg's auc: 0.840693 + 0.00338949\n",
      "[165]\tcv_agg's auc: 0.840808 + 0.00335903\n",
      "[166]\tcv_agg's auc: 0.840917 + 0.00327947\n",
      "[167]\tcv_agg's auc: 0.840986 + 0.00334284\n",
      "[168]\tcv_agg's auc: 0.840842 + 0.0032768\n",
      "[169]\tcv_agg's auc: 0.840797 + 0.00335161\n",
      "[170]\tcv_agg's auc: 0.840756 + 0.00341827\n",
      "[171]\tcv_agg's auc: 0.84089 + 0.00343164\n",
      "[172]\tcv_agg's auc: 0.840894 + 0.00331983\n",
      "[173]\tcv_agg's auc: 0.840862 + 0.0033565\n",
      "[174]\tcv_agg's auc: 0.840869 + 0.00340855\n",
      "[175]\tcv_agg's auc: 0.840894 + 0.00337648\n",
      "[176]\tcv_agg's auc: 0.840845 + 0.0033581\n",
      "[177]\tcv_agg's auc: 0.840769 + 0.003392\n",
      "[178]\tcv_agg's auc: 0.840809 + 0.00326129\n",
      "[179]\tcv_agg's auc: 0.840874 + 0.00330769\n",
      "[180]\tcv_agg's auc: 0.840837 + 0.00338613\n",
      "[181]\tcv_agg's auc: 0.840769 + 0.00348632\n",
      "[182]\tcv_agg's auc: 0.840711 + 0.00344919\n",
      "[183]\tcv_agg's auc: 0.840771 + 0.0035224\n",
      "[184]\tcv_agg's auc: 0.840738 + 0.00341547\n",
      "[185]\tcv_agg's auc: 0.84085 + 0.00356278\n",
      "[186]\tcv_agg's auc: 0.840907 + 0.00357123\n",
      "[187]\tcv_agg's auc: 0.84085 + 0.00361439\n",
      "[188]\tcv_agg's auc: 0.840889 + 0.00363945\n",
      "[189]\tcv_agg's auc: 0.840895 + 0.00362685\n",
      "[190]\tcv_agg's auc: 0.840851 + 0.0037091\n",
      "[191]\tcv_agg's auc: 0.840866 + 0.00374905\n",
      "[192]\tcv_agg's auc: 0.840853 + 0.00369771\n",
      "[193]\tcv_agg's auc: 0.840841 + 0.00374562\n",
      "[194]\tcv_agg's auc: 0.840842 + 0.00367398\n",
      "[195]\tcv_agg's auc: 0.840895 + 0.00368647\n",
      "[196]\tcv_agg's auc: 0.840873 + 0.00371728\n",
      "[197]\tcv_agg's auc: 0.840774 + 0.00374616\n",
      "[198]\tcv_agg's auc: 0.840788 + 0.00378072\n",
      "[199]\tcv_agg's auc: 0.840716 + 0.00382821\n",
      "[200]\tcv_agg's auc: 0.840769 + 0.00382236\n"
     ]
    }
   ],
   "source": [
    "import lightgbm as lgb\n",
    "parameters = {\n",
    "    'boost':'gbdt',\n",
    "    'num_leaves':120, \n",
    "    'scale_pos_weight':float(len(y)-np.sum(y))/float(np.sum(y)),\n",
    "    'max_depth':-1,\n",
    "    'learning_rate':.05,\n",
    "    'max_bin':200,\n",
    "    'min_data_in_leaf' : 100,\n",
    "    'objective':'binary',\n",
    "    'metric':'auc',\n",
    "    'num_threads':18\n",
    "}\n",
    "\n",
    "\n",
    "lgb_train = lgb.Dataset(x_df, y)\n",
    "\n",
    "lgb_model = lgb.cv(parameters,lgb_train,num_boost_round=200, \n",
    "                      nfold=5,seed=2018,verbose_eval=1)"
   ]
  },
  {
   "cell_type": "code",
   "execution_count": null,
   "metadata": {},
   "outputs": [],
   "source": []
  },
  {
   "cell_type": "markdown",
   "metadata": {},
   "source": [
    "## 绘制学习曲线"
   ]
  },
  {
   "cell_type": "code",
   "execution_count": 50,
   "metadata": {},
   "outputs": [
    {
     "data": {
      "text/plain": [
       "[<matplotlib.lines.Line2D at 0x7fccd7b62048>]"
      ]
     },
     "execution_count": 50,
     "metadata": {},
     "output_type": "execute_result"
    },
    {
     "data": {
      "image/png": "[encoded data removed]",
      "text/plain": [
       "<Figure size 432x288 with 1 Axes>"
      ]
     },
     "metadata": {},
     "output_type": "display_data"
    }
   ],
   "source": [
    "# plt.plot(evals_result['training']['auc'])\n",
    "plt.plot(evals_result['valid_1']['auc'])"
   ]
  },
  {
   "cell_type": "code",
   "execution_count": 21,
   "metadata": {},
   "outputs": [
    {
     "data": {
      "text/plain": [
       "dict_keys(['training', 'valid_1'])"
      ]
     },
     "execution_count": 21,
     "metadata": {},
     "output_type": "execute_result"
    }
   ],
   "source": [
    "evals_result.keys()"
   ]
  },
  {
   "cell_type": "code",
   "execution_count": null,
   "metadata": {},
   "outputs": [],
   "source": []
  }
 ],
 "metadata": {
  "kernelspec": {
   "display_name": "Python 3",
   "language": "python",
   "name": "python3"
  },
  "language_info": {
   "codemirror_mode": {
    "name": "ipython",
    "version": 3
   },
   "file_extension": ".py",
   "mimetype": "text/x-python",
   "name": "python",
   "nbconvert_exporter": "python",
   "pygments_lexer": "ipython3",
   "version": "3.6.5"
  }
 },
 "nbformat": 4,
 "nbformat_minor": 2
}
