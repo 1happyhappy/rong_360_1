{
 "cells": [
  {
   "cell_type": "code",
   "execution_count": 26,
   "metadata": {},
   "outputs": [],
   "source": [
    "import pandas as pd\n",
    "import numpy as np\n",
    "import joblib\n",
    "from sklearn.model_selection import KFold\n",
    "from sklearn.model_selection import train_test_split\n",
    "import matplotlib.pyplot as plt\n",
    "%matplotlib inline"
   ]
  },
  {
   "cell_type": "markdown",
   "metadata": {},
   "source": [
    "### 只使用交叉特征"
   ]
  },
  {
   "cell_type": "code",
   "execution_count": 2,
   "metadata": {},
   "outputs": [
    {
     "name": "stdout",
     "output_type": "stream",
     "text": [
      "CPU times: user 6.82 s, sys: 2.04 s, total: 8.86 s\n",
      "Wall time: 21.7 s\n"
     ]
    }
   ],
   "source": [
    "%%time\n",
    "data_cf_86 = joblib.load('./data_cf_86.lz4')\n",
    "data_label = pd.read_csv('../../preprocess_data/train_y_33465.csv',usecols=['label'])"
   ]
  },
  {
   "cell_type": "code",
   "execution_count": 3,
   "metadata": {},
   "outputs": [
    {
     "data": {
      "text/plain": [
       "(33465, 7396)"
      ]
     },
     "execution_count": 3,
     "metadata": {},
     "output_type": "execute_result"
    }
   ],
   "source": [
    "x = data_cf_86.fillna(-1).values\n",
    "y = data_label.values.ravel()\n",
    "x.shape"
   ]
  },
  {
   "cell_type": "code",
   "execution_count": 8,
   "metadata": {},
   "outputs": [
    {
     "name": "stdout",
     "output_type": "stream",
     "text": [
      "[10]\tcv_agg's auc: 0.795467 + 0.00739621\n",
      "[20]\tcv_agg's auc: 0.808173 + 0.00403747\n",
      "[30]\tcv_agg's auc: 0.813297 + 0.0025377\n",
      "[40]\tcv_agg's auc: 0.81904 + 0.00149701\n",
      "[50]\tcv_agg's auc: 0.821432 + 0.0012719\n",
      "[60]\tcv_agg's auc: 0.82287 + 0.00101752\n",
      "[70]\tcv_agg's auc: 0.823899 + 0.0010812\n",
      "[80]\tcv_agg's auc: 0.82408 + 0.000965448\n",
      "[90]\tcv_agg's auc: 0.824809 + 0.000967701\n",
      "[100]\tcv_agg's auc: 0.825276 + 0.000987267\n"
     ]
    }
   ],
   "source": [
    "import lightgbm as lgb\n",
    "parameters = {\n",
    "    'boost':'gbdt',\n",
    "    'num_leaves':100, \n",
    "    'scale_pos_weight':float(len(y)-np.sum(y))/float(np.sum(y)),\n",
    "    'max_depth':-1,\n",
    "    'learning_rate':.05,\n",
    "    'max_bin':200,\n",
    "    'min_data_in_leaf' : 60,\n",
    "    'objective':'binary',\n",
    "    'metric':'auc',\n",
    "    'num_threads':32\n",
    "}\n",
    "lgb_train = lgb.Dataset(x, y)\n",
    "eval_hist = lgb.cv(parameters,lgb_train,num_boost_round=100,nfold=3,verbose_eval=10)\n"
   ]
  },
  {
   "cell_type": "code",
   "execution_count": 11,
   "metadata": {},
   "outputs": [
    {
     "data": {
      "text/plain": [
       "['cf_eval_hist']"
      ]
     },
     "execution_count": 11,
     "metadata": {},
     "output_type": "execute_result"
    }
   ],
   "source": [
    "joblib.dump(eval_hist,'cf_eval_hist')"
   ]
  },
  {
   "cell_type": "markdown",
   "metadata": {},
   "source": [
    "### 只使用原始特征"
   ]
  },
  {
   "cell_type": "code",
   "execution_count": 3,
   "metadata": {},
   "outputs": [
    {
     "data": {
      "text/plain": [
       "(33465, 86)"
      ]
     },
     "execution_count": 3,
     "metadata": {},
     "output_type": "execute_result"
    }
   ],
   "source": [
    "data_sel = joblib.load('data_sel.lz4')\n",
    "data_label = pd.read_csv('../../preprocess_data/train_y_33465.csv',usecols=['label'])\n",
    "x = data_sel.fillna(-1).values\n",
    "y = data_label.values.ravel()\n",
    "x.shape"
   ]
  },
  {
   "cell_type": "code",
   "execution_count": 5,
   "metadata": {},
   "outputs": [
    {
     "name": "stdout",
     "output_type": "stream",
     "text": [
      "[10]\tcv_agg's auc: 0.80434 + 0.00493916\n",
      "[20]\tcv_agg's auc: 0.813412 + 0.00429815\n",
      "[30]\tcv_agg's auc: 0.818554 + 0.00423451\n",
      "[40]\tcv_agg's auc: 0.822973 + 0.00331589\n",
      "[50]\tcv_agg's auc: 0.82728 + 0.00340492\n",
      "[60]\tcv_agg's auc: 0.829465 + 0.00357342\n",
      "[70]\tcv_agg's auc: 0.831417 + 0.00334072\n",
      "[80]\tcv_agg's auc: 0.832526 + 0.00366264\n",
      "[90]\tcv_agg's auc: 0.833585 + 0.0040738\n",
      "[100]\tcv_agg's auc: 0.834235 + 0.00383452\n"
     ]
    }
   ],
   "source": [
    "import lightgbm as lgb\n",
    "parameters = {\n",
    "    'boost':'gbdt',\n",
    "    'num_leaves':60, \n",
    "    'scale_pos_weight':float(len(y)-np.sum(y))/float(np.sum(y)),\n",
    "    'max_depth':-1,\n",
    "    'learning_rate':.05,\n",
    "    'max_bin':200,\n",
    "    'min_data_in_leaf' : 60,\n",
    "    'objective':'binary',\n",
    "    'metric':'auc',\n",
    "    'num_threads':32\n",
    "}\n",
    "lgb_train = lgb.Dataset(x, y)\n",
    "eval_hist = lgb.cv(parameters,lgb_train,num_boost_round=100,nfold=3,verbose_eval=10)"
   ]
  },
  {
   "cell_type": "markdown",
   "metadata": {},
   "source": [
    "### 查看交叉特征的重要性"
   ]
  },
  {
   "cell_type": "code",
   "execution_count": 4,
   "metadata": {},
   "outputs": [],
   "source": [
    "import lightgbm as lgb\n",
    "parameters = {\n",
    "    'boost':'gbdt',\n",
    "    'num_leaves':100, \n",
    "    'scale_pos_weight':float(len(y)-np.sum(y))/float(np.sum(y)),\n",
    "    'max_depth':-1,\n",
    "    'learning_rate':.05,\n",
    "    'max_bin':200,\n",
    "    'min_data_in_leaf' : 60,\n",
    "    'objective':'binary',\n",
    "    'metric':'auc',\n",
    "    'num_threads':32\n",
    "}\n",
    "lgb_train = lgb.Dataset(x, y)\n",
    "cf_lgb_model = lgb.train(parameters,lgb_train,num_boost_round=150,verbose_eval=True)"
   ]
  },
  {
   "cell_type": "code",
   "execution_count": 10,
   "metadata": {},
   "outputs": [],
   "source": [
    "cf_score = pd.Series(index=data_cf_86.columns, data=cf_lgb_model.feature_importance()).sort_values(ascending=False)"
   ]
  },
  {
   "cell_type": "code",
   "execution_count": 12,
   "metadata": {},
   "outputs": [
    {
     "data": {
      "text/plain": [
       "['cf_score']"
      ]
     },
     "execution_count": 12,
     "metadata": {},
     "output_type": "execute_result"
    }
   ],
   "source": [
    "joblib.dump(cf_score,'cf_score')"
   ]
  },
  {
   "cell_type": "code",
   "execution_count": 19,
   "metadata": {},
   "outputs": [],
   "source": [
    "data_cf_86_fs10 = data_cf_86[cf_score[cf_score>10].index]"
   ]
  },
  {
   "cell_type": "code",
   "execution_count": 26,
   "metadata": {},
   "outputs": [
    {
     "data": {
      "text/plain": [
       "['data_cf_86_fs10.lz4']"
      ]
     },
     "execution_count": 26,
     "metadata": {},
     "output_type": "execute_result"
    }
   ],
   "source": [
    "joblib.dump(data_cf_86_fs10,'data_cf_86_fs10.lz4',compress='lz4')"
   ]
  },
  {
   "cell_type": "markdown",
   "metadata": {},
   "source": [
    "### 原始特征+部分交叉特征"
   ]
  },
  {
   "cell_type": "code",
   "execution_count": 27,
   "metadata": {},
   "outputs": [],
   "source": [
    "data_sel = joblib.load('data_sel.lz4')\n",
    "data_cf_86_fs10 = joblib.load('data_cf_86_fs10.lz4')\n",
    "data_label = pd.read_csv('../../preprocess_data/train_y_33465.csv',usecols=['label'])\n"
   ]
  },
  {
   "cell_type": "code",
   "execution_count": 28,
   "metadata": {},
   "outputs": [
    {
     "data": {
      "text/plain": [
       "(33465, 234)"
      ]
     },
     "execution_count": 28,
     "metadata": {},
     "output_type": "execute_result"
    }
   ],
   "source": [
    "seg1 = data_cf_86_fs10.iloc[:,:30]\n",
    "seg1_1 = data_cf_86_fs10.iloc[:,40:50]\n",
    "seg2 = data_cf_86_fs10.iloc[:,70:80]\n",
    "seg3 = data_cf_86_fs10.iloc[:,90:100]\n",
    "seg4 = data_cf_86_fs10.iloc[:,110:160]\n",
    "seg5 = data_cf_86_fs10.iloc[:,160:200]\n",
    "\n",
    "data = pd.concat([data_sel,seg1,seg1_1,seg2,seg3,seg4,seg5],axis=1)\n",
    "# data = pd.concat([data_sel,data_cf_86_fs10.iloc[:,:190]],axis=1)\n",
    "x = data.fillna(-1).values\n",
    "y = data_label.values.ravel()\n",
    "x.shape"
   ]
  },
  {
   "cell_type": "code",
   "execution_count": 4,
   "metadata": {},
   "outputs": [
    {
     "data": {
      "text/plain": [
       "['train_data.lz4']"
      ]
     },
     "execution_count": 4,
     "metadata": {},
     "output_type": "execute_result"
    }
   ],
   "source": [
    "joblib.dump(data,'./train_data/train_data.lz4',compress='lz4')"
   ]
  },
  {
   "cell_type": "code",
   "execution_count": 29,
   "metadata": {},
   "outputs": [],
   "source": [
    "data_cf_sel = pd.concat([seg1,seg1_1,seg2,seg3,seg4,seg5],axis=1)\n",
    "cf_cols = list(data_cf_sel.columns)"
   ]
  },
  {
   "cell_type": "code",
   "execution_count": 30,
   "metadata": {},
   "outputs": [
    {
     "data": {
      "text/plain": [
       "['data_cf_sel.lz4']"
      ]
     },
     "execution_count": 30,
     "metadata": {},
     "output_type": "execute_result"
    }
   ],
   "source": [
    "joblib.dump(data_cf_sel,'data_cf_sel.lz4',compress='lz4')"
   ]
  },
  {
   "cell_type": "code",
   "execution_count": 8,
   "metadata": {},
   "outputs": [
    {
     "data": {
      "text/plain": [
       "['cf_cols']"
      ]
     },
     "execution_count": 8,
     "metadata": {},
     "output_type": "execute_result"
    }
   ],
   "source": [
    "# 挑选出的交叉特征\n",
    "joblib.dump(cf_cols,'cf_cols')"
   ]
  },
  {
   "cell_type": "code",
   "execution_count": 25,
   "metadata": {},
   "outputs": [
    {
     "name": "stdout",
     "output_type": "stream",
     "text": [
      "[10]\tcv_agg's auc: 0.813322 + 0.00998279\n",
      "[20]\tcv_agg's auc: 0.822612 + 0.00865531\n",
      "[30]\tcv_agg's auc: 0.827881 + 0.00680759\n",
      "[40]\tcv_agg's auc: 0.832431 + 0.00714708\n",
      "[50]\tcv_agg's auc: 0.835416 + 0.00727982\n",
      "[60]\tcv_agg's auc: 0.837473 + 0.00742338\n",
      "[70]\tcv_agg's auc: 0.839485 + 0.00736391\n",
      "[80]\tcv_agg's auc: 0.840743 + 0.00768314\n",
      "[90]\tcv_agg's auc: 0.841613 + 0.00740302\n",
      "[100]\tcv_agg's auc: 0.842131 + 0.00752714\n",
      "[110]\tcv_agg's auc: 0.842879 + 0.00756378\n",
      "[120]\tcv_agg's auc: 0.843327 + 0.00751755\n",
      "[130]\tcv_agg's auc: 0.843776 + 0.00724285\n",
      "[140]\tcv_agg's auc: 0.843852 + 0.00711768\n",
      "[150]\tcv_agg's auc: 0.843898 + 0.00718524\n",
      "[160]\tcv_agg's auc: 0.84416 + 0.0074572\n",
      "[170]\tcv_agg's auc: 0.844132 + 0.00744401\n",
      "[180]\tcv_agg's auc: 0.844427 + 0.00739833\n"
     ]
    }
   ],
   "source": [
    "import lightgbm as lgb\n",
    "parameters = {\n",
    "    'boost':'gbdt',\n",
    "    'num_leaves':100, \n",
    "    'scale_pos_weight':float(len(y)-np.sum(y))/float(np.sum(y)),\n",
    "    'max_depth':-1,\n",
    "    'learning_rate':.05,\n",
    "    'max_bin':200,\n",
    "    'min_data_in_leaf' : 100,\n",
    "    'objective':'binary',\n",
    "    'metric':'auc',\n",
    "    'num_threads':12\n",
    "}\n",
    "lgb_train = lgb.Dataset(x, y)\n",
    "eval_hist = lgb.cv(parameters,lgb_train,num_boost_round=180,nfold=5,verbose_eval=10)"
   ]
  },
  {
   "cell_type": "markdown",
   "metadata": {},
   "source": [
    "## 记录\n",
    "0_cf 0.834235 \n",
    "10_cf 0.83454    \n",
    "20_cf 0.836408   \n",
    "30_cf 0.836872  \n",
    "40_cf 0.835974  \n",
    "50_cf 0.836184  \n",
    "60_cf 0.835422  \n",
    "70_cf 0.835138 \n",
    "80_cf 0.837075  \n",
    "90_cf 0.834802  \n",
    "100_cf 0.835856 \n",
    "110_cf 0.833503\n",
    "120_cf 0.835564  \n",
    "130_cf 0.836241\n",
    "140_cf 0.837007  \n",
    "150_cf 0.83745\n",
    "160_cf 0.836686  \n",
    "170_cf 0.837931\n",
    "180_cf 0.837041\n",
    "190_cf 0.839592 \n",
    "200_cf 0.838992 \n",
    "all_cf 0.839214  \n",
    "\n"
   ]
  },
  {
   "cell_type": "code",
   "execution_count": 56,
   "metadata": {},
   "outputs": [
    {
     "data": {
      "text/plain": [
       "[<matplotlib.lines.Line2D at 0x7f9c32475748>]"
      ]
     },
     "execution_count": 56,
     "metadata": {},
     "output_type": "execute_result"
    },
    {
     "data": {
      "image/png": "[encoded data removed]",
      "text/plain": [
       "<Figure size 432x288 with 1 Axes>"
      ]
     },
     "metadata": {},
     "output_type": "display_data"
    }
   ],
   "source": [
    "plt.plot(range(0,220,10),[0.834235, \n",
    " 0.83454 ,   \n",
    " 0.836408,   \n",
    " 0.836872,  \n",
    " 0.835974,  \n",
    " 0.836184,  \n",
    " 0.835422,  \n",
    " 0.835138, \n",
    " 0.837075,  \n",
    " 0.834802,  \n",
    " 0.835856, \n",
    " 0.833503,\n",
    " 0.835564,  \n",
    " 0.836241,\n",
    " 0.837007,  \n",
    " 0.83745, \n",
    " 0.836686,  \n",
    " 0.837931,\n",
    " 0.837041,\n",
    " 0.839592, \n",
    " 0.838992, \n",
    " 0.839214, ])"
   ]
  },
  {
   "cell_type": "code",
   "execution_count": null,
   "metadata": {},
   "outputs": [],
   "source": []
  }
 ],
 "metadata": {
  "kernelspec": {
   "display_name": "Python 3",
   "language": "python",
   "name": "python3"
  },
  "language_info": {
   "codemirror_mode": {
    "name": "ipython",
    "version": 3
   },
   "file_extension": ".py",
   "mimetype": "text/x-python",
   "name": "python",
   "nbconvert_exporter": "python",
   "pygments_lexer": "ipython3",
   "version": "3.6.5"
  }
 },
 "nbformat": 4,
 "nbformat_minor": 2
}
