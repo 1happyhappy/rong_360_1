{
 "cells": [
  {
   "cell_type": "code",
   "execution_count": 1,
   "metadata": {},
   "outputs": [],
   "source": [
    "import joblib\n",
    "import pandas as pd\n",
    "import numpy as np"
   ]
  },
  {
   "cell_type": "code",
   "execution_count": null,
   "metadata": {},
   "outputs": [],
   "source": [
    "# valid\n",
    "valid_nodup = joblib.load('../../scrum_data/valid_data/valid_nodup.lz4')\n",
    "valid_tag = joblib.load('../../scrum_data/valid_data/valid_tag.lz4')\n",
    "valid_date = joblib.load('../../scrum_data/valid_data/valid_date.lz4')\n",
    "valid_week =joblib.load('../../scrum_data/valid_data/valid_week.lz4')\n",
    "valid_null_sign = joblib.load('../../scrum_data/valid_data/valid_null_sign90.lz4')\n",
    "valid_majcnt = joblib.load('../../scrum_data/valid_data/valid_majcnt.lz4')\n",
    "valid_cf_fs = joblib.load('../../scrum_data/valid_data/valid_cf_86_fs10.lz4')\n",
    "\n",
    "data = pd.concat([data_nodup,data_tag,data_date,data_week,data_null_sign,data_majcnt,data_cf_fs],axis=1,copy=False)"
   ]
  }
 ],
 "metadata": {
  "kernelspec": {
   "display_name": "Python 3",
   "language": "python",
   "name": "python3"
  },
  "language_info": {
   "codemirror_mode": {
    "name": "ipython",
    "version": 3
   },
   "file_extension": ".py",
   "mimetype": "text/x-python",
   "name": "python",
   "nbconvert_exporter": "python",
   "pygments_lexer": "ipython3",
   "version": "3.6.5"
  }
 },
 "nbformat": 4,
 "nbformat_minor": 2
}
